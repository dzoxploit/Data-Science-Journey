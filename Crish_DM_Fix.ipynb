{
 "cells": [
  {
   "cell_type": "markdown",
   "id": "30fce050",
   "metadata": {
    "id": "30fce050"
   },
   "source": [
    "<center>\n",
    "    <img src=\"https://drive.google.com/uc?export=view&id=1hDKusF04c0lNZA_qOShvWQrpImayVKz8\"  width=\"1000\" />\n",
    "</center>"
   ]
  },
  {
   "cell_type": "markdown",
   "id": "78957aef",
   "metadata": {
    "id": "78957aef",
    "tags": []
   },
   "source": [
    "# Tugas Mandiri\n",
    "---\n",
    "Tugas mandiri ini digunakan pada kegiatan Kursus Data Science yang merupakan pembekalan bagi mahasiswa Universitas Gunadarma untuk Skema Associate Data Scientist\n",
    "\n",
    "Nama : Didin Nur Yahya\n",
    "Kelas : 4IA07\n",
    "NPM : 51419788"
   ]
  },
  {
   "cell_type": "markdown",
   "id": "e1d3e6a4",
   "metadata": {
    "id": "e1d3e6a4"
   },
   "source": [
    "### Pertemuan 4 - Semester 8"
   ]
  },
  {
   "cell_type": "markdown",
   "id": "13edd692",
   "metadata": {
    "id": "13edd692"
   },
   "source": [
    "1. Buatlah model klasifikasi dengan machine learning dari dataset yang diberikan dengan ketentuan :\n",
    "    - Gunakan metode CRISP-DM secara terurut dan lengkap\n",
    "    - Gunakan algoritma linear regression, logistic regression, dan K-NN\n",
    "\n",
    "2. Dari ketiga algoritma yang anda pakai, algoritma yang manakah yang memiliki akurasi paling tinggi?"
   ]
  },
  {
   "cell_type": "raw",
   "id": "e20b7d19-da05-4310-bac7-45e0eafd8f97",
   "metadata": {},
   "source": [
    "Data Understanding"
   ]
  },
  {
   "cell_type": "code",
   "execution_count": 2,
   "id": "1de92288-be53-4523-8011-d02b85cf2ad8",
   "metadata": {},
   "outputs": [],
   "source": [
    "# 1. Import Library Pandas\n",
    "import pandas as pd"
   ]
  },
  {
   "cell_type": "code",
   "execution_count": 3,
   "id": "ec65b05f-933b-4eef-8bc4-8295933eedb6",
   "metadata": {},
   "outputs": [],
   "source": [
    "# 2. Memuat Data\n",
    "df = pd.read_csv('dataset_tm_10k.csv')"
   ]
  },
  {
   "cell_type": "code",
   "execution_count": 4,
   "id": "5b5501cf-49fa-4320-9f40-799bcc3e9c84",
   "metadata": {},
   "outputs": [
    {
     "data": {
      "text/html": [
       "<div>\n",
       "<style scoped>\n",
       "    .dataframe tbody tr th:only-of-type {\n",
       "        vertical-align: middle;\n",
       "    }\n",
       "\n",
       "    .dataframe tbody tr th {\n",
       "        vertical-align: top;\n",
       "    }\n",
       "\n",
       "    .dataframe thead th {\n",
       "        text-align: right;\n",
       "    }\n",
       "</style>\n",
       "<table border=\"1\" class=\"dataframe\">\n",
       "  <thead>\n",
       "    <tr style=\"text-align: right;\">\n",
       "      <th></th>\n",
       "      <th>Flight</th>\n",
       "      <th>Time</th>\n",
       "      <th>Length</th>\n",
       "      <th>Airline</th>\n",
       "      <th>AirportFrom</th>\n",
       "      <th>AirportTo</th>\n",
       "      <th>DayOfWeek</th>\n",
       "      <th>Class</th>\n",
       "    </tr>\n",
       "  </thead>\n",
       "  <tbody>\n",
       "    <tr>\n",
       "      <th>0</th>\n",
       "      <td>320.0</td>\n",
       "      <td>870.0</td>\n",
       "      <td>180.0</td>\n",
       "      <td>NaN</td>\n",
       "      <td>IAH</td>\n",
       "      <td>PHX</td>\n",
       "      <td>5</td>\n",
       "      <td>0</td>\n",
       "    </tr>\n",
       "    <tr>\n",
       "      <th>1</th>\n",
       "      <td>3045.0</td>\n",
       "      <td>365.0</td>\n",
       "      <td>66.0</td>\n",
       "      <td>OO</td>\n",
       "      <td>DSM</td>\n",
       "      <td>MKE</td>\n",
       "      <td>2</td>\n",
       "      <td>0</td>\n",
       "    </tr>\n",
       "    <tr>\n",
       "      <th>2</th>\n",
       "      <td>1560.0</td>\n",
       "      <td>740.0</td>\n",
       "      <td>257.0</td>\n",
       "      <td>DL</td>\n",
       "      <td>SEA</td>\n",
       "      <td>CVG</td>\n",
       "      <td>7</td>\n",
       "      <td>0</td>\n",
       "    </tr>\n",
       "    <tr>\n",
       "      <th>3</th>\n",
       "      <td>1156.0</td>\n",
       "      <td>595.0</td>\n",
       "      <td>235.0</td>\n",
       "      <td>WN</td>\n",
       "      <td>SNA</td>\n",
       "      <td>MDW</td>\n",
       "      <td>7</td>\n",
       "      <td>1</td>\n",
       "    </tr>\n",
       "    <tr>\n",
       "      <th>4</th>\n",
       "      <td>1873.0</td>\n",
       "      <td>530.0</td>\n",
       "      <td>133.0</td>\n",
       "      <td>CO</td>\n",
       "      <td>IAH</td>\n",
       "      <td>MCO</td>\n",
       "      <td>6</td>\n",
       "      <td>1</td>\n",
       "    </tr>\n",
       "  </tbody>\n",
       "</table>\n",
       "</div>"
      ],
      "text/plain": [
       "   Flight   Time  Length Airline AirportFrom AirportTo  DayOfWeek  Class\n",
       "0   320.0  870.0   180.0     NaN         IAH       PHX          5      0\n",
       "1  3045.0  365.0    66.0      OO         DSM       MKE          2      0\n",
       "2  1560.0  740.0   257.0      DL         SEA       CVG          7      0\n",
       "3  1156.0  595.0   235.0      WN         SNA       MDW          7      1\n",
       "4  1873.0  530.0   133.0      CO         IAH       MCO          6      1"
      ]
     },
     "execution_count": 4,
     "metadata": {},
     "output_type": "execute_result"
    }
   ],
   "source": [
    "# 3. Menampilkan 5 baris pertama dari dataset\n",
    "df.head(5)"
   ]
  },
  {
   "cell_type": "code",
   "execution_count": 5,
   "id": "a9b40519-c2fa-48a4-8840-b1bf3de07d4d",
   "metadata": {},
   "outputs": [
    {
     "data": {
      "text/html": [
       "<div>\n",
       "<style scoped>\n",
       "    .dataframe tbody tr th:only-of-type {\n",
       "        vertical-align: middle;\n",
       "    }\n",
       "\n",
       "    .dataframe tbody tr th {\n",
       "        vertical-align: top;\n",
       "    }\n",
       "\n",
       "    .dataframe thead th {\n",
       "        text-align: right;\n",
       "    }\n",
       "</style>\n",
       "<table border=\"1\" class=\"dataframe\">\n",
       "  <thead>\n",
       "    <tr style=\"text-align: right;\">\n",
       "      <th></th>\n",
       "      <th>Flight</th>\n",
       "      <th>Time</th>\n",
       "      <th>Length</th>\n",
       "      <th>Airline</th>\n",
       "      <th>AirportFrom</th>\n",
       "      <th>AirportTo</th>\n",
       "      <th>DayOfWeek</th>\n",
       "      <th>Class</th>\n",
       "    </tr>\n",
       "  </thead>\n",
       "  <tbody>\n",
       "    <tr>\n",
       "      <th>0</th>\n",
       "      <td>320.0</td>\n",
       "      <td>870.0</td>\n",
       "      <td>180.0</td>\n",
       "      <td>NaN</td>\n",
       "      <td>IAH</td>\n",
       "      <td>PHX</td>\n",
       "      <td>5</td>\n",
       "      <td>0</td>\n",
       "    </tr>\n",
       "    <tr>\n",
       "      <th>1</th>\n",
       "      <td>3045.0</td>\n",
       "      <td>365.0</td>\n",
       "      <td>66.0</td>\n",
       "      <td>OO</td>\n",
       "      <td>DSM</td>\n",
       "      <td>MKE</td>\n",
       "      <td>2</td>\n",
       "      <td>0</td>\n",
       "    </tr>\n",
       "    <tr>\n",
       "      <th>2</th>\n",
       "      <td>1560.0</td>\n",
       "      <td>740.0</td>\n",
       "      <td>257.0</td>\n",
       "      <td>DL</td>\n",
       "      <td>SEA</td>\n",
       "      <td>CVG</td>\n",
       "      <td>7</td>\n",
       "      <td>0</td>\n",
       "    </tr>\n",
       "    <tr>\n",
       "      <th>3</th>\n",
       "      <td>1156.0</td>\n",
       "      <td>595.0</td>\n",
       "      <td>235.0</td>\n",
       "      <td>WN</td>\n",
       "      <td>SNA</td>\n",
       "      <td>MDW</td>\n",
       "      <td>7</td>\n",
       "      <td>1</td>\n",
       "    </tr>\n",
       "    <tr>\n",
       "      <th>4</th>\n",
       "      <td>1873.0</td>\n",
       "      <td>530.0</td>\n",
       "      <td>133.0</td>\n",
       "      <td>CO</td>\n",
       "      <td>IAH</td>\n",
       "      <td>MCO</td>\n",
       "      <td>6</td>\n",
       "      <td>1</td>\n",
       "    </tr>\n",
       "    <tr>\n",
       "      <th>5</th>\n",
       "      <td>3641.0</td>\n",
       "      <td>1045.0</td>\n",
       "      <td>160.0</td>\n",
       "      <td>MQ</td>\n",
       "      <td>MIA</td>\n",
       "      <td>CMH</td>\n",
       "      <td>1</td>\n",
       "      <td>0</td>\n",
       "    </tr>\n",
       "    <tr>\n",
       "      <th>6</th>\n",
       "      <td>138.0</td>\n",
       "      <td>1160.0</td>\n",
       "      <td>185.0</td>\n",
       "      <td>WN</td>\n",
       "      <td>BDL</td>\n",
       "      <td>MCO</td>\n",
       "      <td>7</td>\n",
       "      <td>0</td>\n",
       "    </tr>\n",
       "    <tr>\n",
       "      <th>7</th>\n",
       "      <td>586.0</td>\n",
       "      <td>700.0</td>\n",
       "      <td>142.0</td>\n",
       "      <td>AS</td>\n",
       "      <td>PDX</td>\n",
       "      <td>SNA</td>\n",
       "      <td>2</td>\n",
       "      <td>1</td>\n",
       "    </tr>\n",
       "    <tr>\n",
       "      <th>8</th>\n",
       "      <td>5220.0</td>\n",
       "      <td>895.0</td>\n",
       "      <td>102.0</td>\n",
       "      <td>EV</td>\n",
       "      <td>AEX</td>\n",
       "      <td>ATL</td>\n",
       "      <td>2</td>\n",
       "      <td>0</td>\n",
       "    </tr>\n",
       "    <tr>\n",
       "      <th>9</th>\n",
       "      <td>5122.0</td>\n",
       "      <td>516.0</td>\n",
       "      <td>137.0</td>\n",
       "      <td>EV</td>\n",
       "      <td>DTW</td>\n",
       "      <td>MCI</td>\n",
       "      <td>7</td>\n",
       "      <td>0</td>\n",
       "    </tr>\n",
       "  </tbody>\n",
       "</table>\n",
       "</div>"
      ],
      "text/plain": [
       "   Flight    Time  Length Airline AirportFrom AirportTo  DayOfWeek  Class\n",
       "0   320.0   870.0   180.0     NaN         IAH       PHX          5      0\n",
       "1  3045.0   365.0    66.0      OO         DSM       MKE          2      0\n",
       "2  1560.0   740.0   257.0      DL         SEA       CVG          7      0\n",
       "3  1156.0   595.0   235.0      WN         SNA       MDW          7      1\n",
       "4  1873.0   530.0   133.0      CO         IAH       MCO          6      1\n",
       "5  3641.0  1045.0   160.0      MQ         MIA       CMH          1      0\n",
       "6   138.0  1160.0   185.0      WN         BDL       MCO          7      0\n",
       "7   586.0   700.0   142.0      AS         PDX       SNA          2      1\n",
       "8  5220.0   895.0   102.0      EV         AEX       ATL          2      0\n",
       "9  5122.0   516.0   137.0      EV         DTW       MCI          7      0"
      ]
     },
     "execution_count": 5,
     "metadata": {},
     "output_type": "execute_result"
    }
   ],
   "source": [
    "# 4. Menampilkan 10 baris pertama dari dataset\n",
    "df.head(10)"
   ]
  },
  {
   "cell_type": "code",
   "execution_count": 6,
   "id": "8a563a4d-54d7-447b-980a-77a69336239e",
   "metadata": {},
   "outputs": [
    {
     "data": {
      "text/html": [
       "<div>\n",
       "<style scoped>\n",
       "    .dataframe tbody tr th:only-of-type {\n",
       "        vertical-align: middle;\n",
       "    }\n",
       "\n",
       "    .dataframe tbody tr th {\n",
       "        vertical-align: top;\n",
       "    }\n",
       "\n",
       "    .dataframe thead th {\n",
       "        text-align: right;\n",
       "    }\n",
       "</style>\n",
       "<table border=\"1\" class=\"dataframe\">\n",
       "  <thead>\n",
       "    <tr style=\"text-align: right;\">\n",
       "      <th></th>\n",
       "      <th>Flight</th>\n",
       "      <th>Time</th>\n",
       "      <th>Length</th>\n",
       "      <th>Airline</th>\n",
       "      <th>AirportFrom</th>\n",
       "      <th>AirportTo</th>\n",
       "      <th>DayOfWeek</th>\n",
       "      <th>Class</th>\n",
       "    </tr>\n",
       "  </thead>\n",
       "  <tbody>\n",
       "    <tr>\n",
       "      <th>10782</th>\n",
       "      <td>2821.0</td>\n",
       "      <td>610.0</td>\n",
       "      <td>50.0</td>\n",
       "      <td>MQ</td>\n",
       "      <td>DFW</td>\n",
       "      <td>SPS</td>\n",
       "      <td>2</td>\n",
       "      <td>0</td>\n",
       "    </tr>\n",
       "    <tr>\n",
       "      <th>10783</th>\n",
       "      <td>2618.0</td>\n",
       "      <td>839.0</td>\n",
       "      <td>118.0</td>\n",
       "      <td>XE</td>\n",
       "      <td>SDF</td>\n",
       "      <td>EWR</td>\n",
       "      <td>2</td>\n",
       "      <td>0</td>\n",
       "    </tr>\n",
       "    <tr>\n",
       "      <th>10784</th>\n",
       "      <td>1973.0</td>\n",
       "      <td>1160.0</td>\n",
       "      <td>124.0</td>\n",
       "      <td>DL</td>\n",
       "      <td>ATL</td>\n",
       "      <td>MIA</td>\n",
       "      <td>2</td>\n",
       "      <td>0</td>\n",
       "    </tr>\n",
       "    <tr>\n",
       "      <th>10785</th>\n",
       "      <td>528.0</td>\n",
       "      <td>1275.0</td>\n",
       "      <td>112.0</td>\n",
       "      <td>US</td>\n",
       "      <td>PHX</td>\n",
       "      <td>RNO</td>\n",
       "      <td>4</td>\n",
       "      <td>0</td>\n",
       "    </tr>\n",
       "    <tr>\n",
       "      <th>10786</th>\n",
       "      <td>2254.0</td>\n",
       "      <td>970.0</td>\n",
       "      <td>NaN</td>\n",
       "      <td>DL</td>\n",
       "      <td>ATL</td>\n",
       "      <td>CMH</td>\n",
       "      <td>4</td>\n",
       "      <td>1</td>\n",
       "    </tr>\n",
       "  </tbody>\n",
       "</table>\n",
       "</div>"
      ],
      "text/plain": [
       "       Flight    Time  Length Airline AirportFrom AirportTo  DayOfWeek  Class\n",
       "10782  2821.0   610.0    50.0      MQ         DFW       SPS          2      0\n",
       "10783  2618.0   839.0   118.0      XE         SDF       EWR          2      0\n",
       "10784  1973.0  1160.0   124.0      DL         ATL       MIA          2      0\n",
       "10785   528.0  1275.0   112.0      US         PHX       RNO          4      0\n",
       "10786  2254.0   970.0     NaN      DL         ATL       CMH          4      1"
      ]
     },
     "execution_count": 6,
     "metadata": {},
     "output_type": "execute_result"
    }
   ],
   "source": [
    "# 5. enampilkan 5 baris terakhir dari dataset\n",
    "df.tail()"
   ]
  },
  {
   "cell_type": "code",
   "execution_count": 7,
   "id": "7f74d0db-0c98-49cb-931f-633e9e7d0a64",
   "metadata": {},
   "outputs": [
    {
     "data": {
      "text/plain": [
       "(10787, 8)"
      ]
     },
     "execution_count": 7,
     "metadata": {},
     "output_type": "execute_result"
    }
   ],
   "source": [
    "# 7. Mengetahui jumlah baris dan kolom memanfaatkan fungsi shape\n",
    "df.shape"
   ]
  },
  {
   "cell_type": "code",
   "execution_count": 8,
   "id": "1ad8174c-e189-4265-a0ee-b154beae6468",
   "metadata": {},
   "outputs": [
    {
     "name": "stdout",
     "output_type": "stream",
     "text": [
      "Jumlah Baris :  10787\n",
      "Jumlah Kolom :  8\n"
     ]
    }
   ],
   "source": [
    "# 8. Mengetahui jumlah baris dan kolom memanfaatkan fungsi shape\n",
    "print(\"Jumlah Baris : \", df.shape[0])\n",
    "print(\"Jumlah Kolom : \", df.shape[1])"
   ]
  },
  {
   "cell_type": "code",
   "execution_count": 9,
   "id": "2aaf62e6-a9b6-47dd-924d-dd904086a9f2",
   "metadata": {},
   "outputs": [
    {
     "data": {
      "text/plain": [
       "Flight         float64\n",
       "Time           float64\n",
       "Length         float64\n",
       "Airline         object\n",
       "AirportFrom     object\n",
       "AirportTo       object\n",
       "DayOfWeek        int64\n",
       "Class            int64\n",
       "dtype: object"
      ]
     },
     "execution_count": 9,
     "metadata": {},
     "output_type": "execute_result"
    }
   ],
   "source": [
    "# 9. Mengetahui tipe data pada dataset\n",
    "df.dtypes"
   ]
  },
  {
   "cell_type": "code",
   "execution_count": 10,
   "id": "b6b94884-c9cf-48c0-9f7b-02ecaa88e78d",
   "metadata": {},
   "outputs": [
    {
     "data": {
      "text/html": [
       "<div>\n",
       "<style scoped>\n",
       "    .dataframe tbody tr th:only-of-type {\n",
       "        vertical-align: middle;\n",
       "    }\n",
       "\n",
       "    .dataframe tbody tr th {\n",
       "        vertical-align: top;\n",
       "    }\n",
       "\n",
       "    .dataframe thead th {\n",
       "        text-align: right;\n",
       "    }\n",
       "</style>\n",
       "<table border=\"1\" class=\"dataframe\">\n",
       "  <thead>\n",
       "    <tr style=\"text-align: right;\">\n",
       "      <th></th>\n",
       "      <th>Flight</th>\n",
       "      <th>Time</th>\n",
       "      <th>Length</th>\n",
       "      <th>DayOfWeek</th>\n",
       "      <th>Class</th>\n",
       "    </tr>\n",
       "  </thead>\n",
       "  <tbody>\n",
       "    <tr>\n",
       "      <th>count</th>\n",
       "      <td>10787.000000</td>\n",
       "      <td>9914.000000</td>\n",
       "      <td>9444.000000</td>\n",
       "      <td>10787.000000</td>\n",
       "      <td>10787.000000</td>\n",
       "    </tr>\n",
       "    <tr>\n",
       "      <th>mean</th>\n",
       "      <td>2435.506999</td>\n",
       "      <td>803.378253</td>\n",
       "      <td>133.429161</td>\n",
       "      <td>3.895430</td>\n",
       "      <td>0.447576</td>\n",
       "    </tr>\n",
       "    <tr>\n",
       "      <th>std</th>\n",
       "      <td>2071.935213</td>\n",
       "      <td>276.880784</td>\n",
       "      <td>71.861876</td>\n",
       "      <td>1.923294</td>\n",
       "      <td>0.497267</td>\n",
       "    </tr>\n",
       "    <tr>\n",
       "      <th>min</th>\n",
       "      <td>1.000000</td>\n",
       "      <td>15.000000</td>\n",
       "      <td>29.000000</td>\n",
       "      <td>1.000000</td>\n",
       "      <td>0.000000</td>\n",
       "    </tr>\n",
       "    <tr>\n",
       "      <th>25%</th>\n",
       "      <td>720.000000</td>\n",
       "      <td>570.000000</td>\n",
       "      <td>81.000000</td>\n",
       "      <td>2.000000</td>\n",
       "      <td>0.000000</td>\n",
       "    </tr>\n",
       "    <tr>\n",
       "      <th>50%</th>\n",
       "      <td>1798.000000</td>\n",
       "      <td>795.000000</td>\n",
       "      <td>116.000000</td>\n",
       "      <td>4.000000</td>\n",
       "      <td>0.000000</td>\n",
       "    </tr>\n",
       "    <tr>\n",
       "      <th>75%</th>\n",
       "      <td>3785.500000</td>\n",
       "      <td>1034.000000</td>\n",
       "      <td>164.000000</td>\n",
       "      <td>5.000000</td>\n",
       "      <td>1.000000</td>\n",
       "    </tr>\n",
       "    <tr>\n",
       "      <th>max</th>\n",
       "      <td>7812.000000</td>\n",
       "      <td>1439.000000</td>\n",
       "      <td>655.000000</td>\n",
       "      <td>7.000000</td>\n",
       "      <td>1.000000</td>\n",
       "    </tr>\n",
       "  </tbody>\n",
       "</table>\n",
       "</div>"
      ],
      "text/plain": [
       "             Flight         Time       Length     DayOfWeek         Class\n",
       "count  10787.000000  9914.000000  9444.000000  10787.000000  10787.000000\n",
       "mean    2435.506999   803.378253   133.429161      3.895430      0.447576\n",
       "std     2071.935213   276.880784    71.861876      1.923294      0.497267\n",
       "min        1.000000    15.000000    29.000000      1.000000      0.000000\n",
       "25%      720.000000   570.000000    81.000000      2.000000      0.000000\n",
       "50%     1798.000000   795.000000   116.000000      4.000000      0.000000\n",
       "75%     3785.500000  1034.000000   164.000000      5.000000      1.000000\n",
       "max     7812.000000  1439.000000   655.000000      7.000000      1.000000"
      ]
     },
     "execution_count": 10,
     "metadata": {},
     "output_type": "execute_result"
    }
   ],
   "source": [
    "# 10. Menampilkan statistik kolom\n",
    "df.describe()"
   ]
  },
  {
   "cell_type": "code",
   "execution_count": 11,
   "id": "282bf7b9-8b1b-4451-9f3e-ed75ca7280f9",
   "metadata": {},
   "outputs": [
    {
     "data": {
      "text/html": [
       "<div>\n",
       "<style scoped>\n",
       "    .dataframe tbody tr th:only-of-type {\n",
       "        vertical-align: middle;\n",
       "    }\n",
       "\n",
       "    .dataframe tbody tr th {\n",
       "        vertical-align: top;\n",
       "    }\n",
       "\n",
       "    .dataframe thead th {\n",
       "        text-align: right;\n",
       "    }\n",
       "</style>\n",
       "<table border=\"1\" class=\"dataframe\">\n",
       "  <thead>\n",
       "    <tr style=\"text-align: right;\">\n",
       "      <th></th>\n",
       "      <th>Flight</th>\n",
       "      <th>Time</th>\n",
       "      <th>Length</th>\n",
       "      <th>Airline</th>\n",
       "      <th>AirportFrom</th>\n",
       "      <th>AirportTo</th>\n",
       "      <th>DayOfWeek</th>\n",
       "      <th>Class</th>\n",
       "    </tr>\n",
       "  </thead>\n",
       "  <tbody>\n",
       "    <tr>\n",
       "      <th>count</th>\n",
       "      <td>10787.000000</td>\n",
       "      <td>9914.000000</td>\n",
       "      <td>9444.000000</td>\n",
       "      <td>10205</td>\n",
       "      <td>10787</td>\n",
       "      <td>10787</td>\n",
       "      <td>10787.000000</td>\n",
       "      <td>10787.000000</td>\n",
       "    </tr>\n",
       "    <tr>\n",
       "      <th>unique</th>\n",
       "      <td>NaN</td>\n",
       "      <td>NaN</td>\n",
       "      <td>NaN</td>\n",
       "      <td>18</td>\n",
       "      <td>270</td>\n",
       "      <td>265</td>\n",
       "      <td>NaN</td>\n",
       "      <td>NaN</td>\n",
       "    </tr>\n",
       "    <tr>\n",
       "      <th>top</th>\n",
       "      <td>NaN</td>\n",
       "      <td>NaN</td>\n",
       "      <td>NaN</td>\n",
       "      <td>WN</td>\n",
       "      <td>ATL</td>\n",
       "      <td>ATL</td>\n",
       "      <td>NaN</td>\n",
       "      <td>NaN</td>\n",
       "    </tr>\n",
       "    <tr>\n",
       "      <th>freq</th>\n",
       "      <td>NaN</td>\n",
       "      <td>NaN</td>\n",
       "      <td>NaN</td>\n",
       "      <td>1795</td>\n",
       "      <td>687</td>\n",
       "      <td>708</td>\n",
       "      <td>NaN</td>\n",
       "      <td>NaN</td>\n",
       "    </tr>\n",
       "    <tr>\n",
       "      <th>mean</th>\n",
       "      <td>2435.506999</td>\n",
       "      <td>803.378253</td>\n",
       "      <td>133.429161</td>\n",
       "      <td>NaN</td>\n",
       "      <td>NaN</td>\n",
       "      <td>NaN</td>\n",
       "      <td>3.895430</td>\n",
       "      <td>0.447576</td>\n",
       "    </tr>\n",
       "    <tr>\n",
       "      <th>std</th>\n",
       "      <td>2071.935213</td>\n",
       "      <td>276.880784</td>\n",
       "      <td>71.861876</td>\n",
       "      <td>NaN</td>\n",
       "      <td>NaN</td>\n",
       "      <td>NaN</td>\n",
       "      <td>1.923294</td>\n",
       "      <td>0.497267</td>\n",
       "    </tr>\n",
       "    <tr>\n",
       "      <th>min</th>\n",
       "      <td>1.000000</td>\n",
       "      <td>15.000000</td>\n",
       "      <td>29.000000</td>\n",
       "      <td>NaN</td>\n",
       "      <td>NaN</td>\n",
       "      <td>NaN</td>\n",
       "      <td>1.000000</td>\n",
       "      <td>0.000000</td>\n",
       "    </tr>\n",
       "    <tr>\n",
       "      <th>25%</th>\n",
       "      <td>720.000000</td>\n",
       "      <td>570.000000</td>\n",
       "      <td>81.000000</td>\n",
       "      <td>NaN</td>\n",
       "      <td>NaN</td>\n",
       "      <td>NaN</td>\n",
       "      <td>2.000000</td>\n",
       "      <td>0.000000</td>\n",
       "    </tr>\n",
       "    <tr>\n",
       "      <th>50%</th>\n",
       "      <td>1798.000000</td>\n",
       "      <td>795.000000</td>\n",
       "      <td>116.000000</td>\n",
       "      <td>NaN</td>\n",
       "      <td>NaN</td>\n",
       "      <td>NaN</td>\n",
       "      <td>4.000000</td>\n",
       "      <td>0.000000</td>\n",
       "    </tr>\n",
       "    <tr>\n",
       "      <th>75%</th>\n",
       "      <td>3785.500000</td>\n",
       "      <td>1034.000000</td>\n",
       "      <td>164.000000</td>\n",
       "      <td>NaN</td>\n",
       "      <td>NaN</td>\n",
       "      <td>NaN</td>\n",
       "      <td>5.000000</td>\n",
       "      <td>1.000000</td>\n",
       "    </tr>\n",
       "    <tr>\n",
       "      <th>max</th>\n",
       "      <td>7812.000000</td>\n",
       "      <td>1439.000000</td>\n",
       "      <td>655.000000</td>\n",
       "      <td>NaN</td>\n",
       "      <td>NaN</td>\n",
       "      <td>NaN</td>\n",
       "      <td>7.000000</td>\n",
       "      <td>1.000000</td>\n",
       "    </tr>\n",
       "  </tbody>\n",
       "</table>\n",
       "</div>"
      ],
      "text/plain": [
       "              Flight         Time       Length Airline AirportFrom AirportTo  \\\n",
       "count   10787.000000  9914.000000  9444.000000   10205       10787     10787   \n",
       "unique           NaN          NaN          NaN      18         270       265   \n",
       "top              NaN          NaN          NaN      WN         ATL       ATL   \n",
       "freq             NaN          NaN          NaN    1795         687       708   \n",
       "mean     2435.506999   803.378253   133.429161     NaN         NaN       NaN   \n",
       "std      2071.935213   276.880784    71.861876     NaN         NaN       NaN   \n",
       "min         1.000000    15.000000    29.000000     NaN         NaN       NaN   \n",
       "25%       720.000000   570.000000    81.000000     NaN         NaN       NaN   \n",
       "50%      1798.000000   795.000000   116.000000     NaN         NaN       NaN   \n",
       "75%      3785.500000  1034.000000   164.000000     NaN         NaN       NaN   \n",
       "max      7812.000000  1439.000000   655.000000     NaN         NaN       NaN   \n",
       "\n",
       "           DayOfWeek         Class  \n",
       "count   10787.000000  10787.000000  \n",
       "unique           NaN           NaN  \n",
       "top              NaN           NaN  \n",
       "freq             NaN           NaN  \n",
       "mean        3.895430      0.447576  \n",
       "std         1.923294      0.497267  \n",
       "min         1.000000      0.000000  \n",
       "25%         2.000000      0.000000  \n",
       "50%         4.000000      0.000000  \n",
       "75%         5.000000      1.000000  \n",
       "max         7.000000      1.000000  "
      ]
     },
     "execution_count": 11,
     "metadata": {},
     "output_type": "execute_result"
    }
   ],
   "source": [
    "# 11. Menampilkan statistik kolom baik yang bertipe numerik dan non numerik menggunakan fungsi describe\n",
    "df.describe(include='all')"
   ]
  },
  {
   "cell_type": "code",
   "execution_count": 12,
   "id": "c1e5a78a-1b0e-4442-93f1-1228394831de",
   "metadata": {},
   "outputs": [
    {
     "data": {
      "text/plain": [
       "Flight       3065.5\n",
       "Time          464.0\n",
       "Length         83.0\n",
       "DayOfWeek       3.0\n",
       "Class           1.0\n",
       "dtype: float64"
      ]
     },
     "execution_count": 12,
     "metadata": {},
     "output_type": "execute_result"
    }
   ],
   "source": [
    "q1 = df.select_dtypes(exclude=['object']).quantile (0.25)\n",
    "q3 = df.select_dtypes(exclude=['object']).quantile (0.75)\n",
    "iqr = q3-q1\n",
    "iqr"
   ]
  },
  {
   "cell_type": "code",
   "execution_count": 13,
   "id": "be92897f-678d-473e-9727-d8f8cd37acd9",
   "metadata": {},
   "outputs": [
    {
     "data": {
      "text/plain": [
       "Flight      -3878.25\n",
       "Time         -126.00\n",
       "Length        -43.50\n",
       "DayOfWeek      -2.50\n",
       "Class          -1.50\n",
       "dtype: float64"
      ]
     },
     "execution_count": 13,
     "metadata": {},
     "output_type": "execute_result"
    }
   ],
   "source": [
    "# 12. Melihat batas bawah/minimum dari Interquartile Range (IQR)\n",
    "batas_bawah = q1 - (1.5 * iqr)\n",
    "batas_bawah"
   ]
  },
  {
   "cell_type": "code",
   "execution_count": 14,
   "id": "7f843013-af29-4887-8151-a9c43aac8adb",
   "metadata": {},
   "outputs": [
    {
     "data": {
      "text/plain": [
       "Flight       8383.75\n",
       "Time         1730.00\n",
       "Length        288.50\n",
       "DayOfWeek       9.50\n",
       "Class           2.50\n",
       "dtype: float64"
      ]
     },
     "execution_count": 14,
     "metadata": {},
     "output_type": "execute_result"
    }
   ],
   "source": [
    "# 13. Melihat batas atas/maksimum dari Iterquartile Range (IQR)\n",
    "batas_atas = q3 + (1.5 * iqr)\n",
    "batas_atas"
   ]
  },
  {
   "cell_type": "code",
   "execution_count": 15,
   "id": "0b23b79e-9cd6-4940-860f-fd6e774e7efd",
   "metadata": {},
   "outputs": [],
   "source": [
    "# 14. Menampung kolom dengan tipe data selain object\n",
    "df_ex_object = df.select_dtypes(exclude=['object'])"
   ]
  },
  {
   "cell_type": "code",
   "execution_count": 16,
   "id": "0562aa7b-cf77-4a2d-9fa3-b5c35d824fea",
   "metadata": {},
   "outputs": [
    {
     "data": {
      "text/html": [
       "<div>\n",
       "<style scoped>\n",
       "    .dataframe tbody tr th:only-of-type {\n",
       "        vertical-align: middle;\n",
       "    }\n",
       "\n",
       "    .dataframe tbody tr th {\n",
       "        vertical-align: top;\n",
       "    }\n",
       "\n",
       "    .dataframe thead th {\n",
       "        text-align: right;\n",
       "    }\n",
       "</style>\n",
       "<table border=\"1\" class=\"dataframe\">\n",
       "  <thead>\n",
       "    <tr style=\"text-align: right;\">\n",
       "      <th></th>\n",
       "      <th>Flight</th>\n",
       "      <th>Time</th>\n",
       "      <th>Length</th>\n",
       "      <th>DayOfWeek</th>\n",
       "      <th>Class</th>\n",
       "    </tr>\n",
       "  </thead>\n",
       "  <tbody>\n",
       "    <tr>\n",
       "      <th>0</th>\n",
       "      <td>False</td>\n",
       "      <td>False</td>\n",
       "      <td>False</td>\n",
       "      <td>False</td>\n",
       "      <td>False</td>\n",
       "    </tr>\n",
       "    <tr>\n",
       "      <th>1</th>\n",
       "      <td>False</td>\n",
       "      <td>False</td>\n",
       "      <td>False</td>\n",
       "      <td>False</td>\n",
       "      <td>False</td>\n",
       "    </tr>\n",
       "    <tr>\n",
       "      <th>2</th>\n",
       "      <td>False</td>\n",
       "      <td>False</td>\n",
       "      <td>False</td>\n",
       "      <td>False</td>\n",
       "      <td>False</td>\n",
       "    </tr>\n",
       "    <tr>\n",
       "      <th>3</th>\n",
       "      <td>False</td>\n",
       "      <td>False</td>\n",
       "      <td>False</td>\n",
       "      <td>False</td>\n",
       "      <td>False</td>\n",
       "    </tr>\n",
       "    <tr>\n",
       "      <th>4</th>\n",
       "      <td>False</td>\n",
       "      <td>False</td>\n",
       "      <td>False</td>\n",
       "      <td>False</td>\n",
       "      <td>False</td>\n",
       "    </tr>\n",
       "    <tr>\n",
       "      <th>...</th>\n",
       "      <td>...</td>\n",
       "      <td>...</td>\n",
       "      <td>...</td>\n",
       "      <td>...</td>\n",
       "      <td>...</td>\n",
       "    </tr>\n",
       "    <tr>\n",
       "      <th>10782</th>\n",
       "      <td>False</td>\n",
       "      <td>False</td>\n",
       "      <td>False</td>\n",
       "      <td>False</td>\n",
       "      <td>False</td>\n",
       "    </tr>\n",
       "    <tr>\n",
       "      <th>10783</th>\n",
       "      <td>False</td>\n",
       "      <td>False</td>\n",
       "      <td>False</td>\n",
       "      <td>False</td>\n",
       "      <td>False</td>\n",
       "    </tr>\n",
       "    <tr>\n",
       "      <th>10784</th>\n",
       "      <td>False</td>\n",
       "      <td>False</td>\n",
       "      <td>False</td>\n",
       "      <td>False</td>\n",
       "      <td>False</td>\n",
       "    </tr>\n",
       "    <tr>\n",
       "      <th>10785</th>\n",
       "      <td>False</td>\n",
       "      <td>False</td>\n",
       "      <td>False</td>\n",
       "      <td>False</td>\n",
       "      <td>False</td>\n",
       "    </tr>\n",
       "    <tr>\n",
       "      <th>10786</th>\n",
       "      <td>False</td>\n",
       "      <td>False</td>\n",
       "      <td>False</td>\n",
       "      <td>False</td>\n",
       "      <td>False</td>\n",
       "    </tr>\n",
       "  </tbody>\n",
       "</table>\n",
       "<p>10787 rows × 5 columns</p>\n",
       "</div>"
      ],
      "text/plain": [
       "       Flight   Time  Length  DayOfWeek  Class\n",
       "0       False  False   False      False  False\n",
       "1       False  False   False      False  False\n",
       "2       False  False   False      False  False\n",
       "3       False  False   False      False  False\n",
       "4       False  False   False      False  False\n",
       "...       ...    ...     ...        ...    ...\n",
       "10782   False  False   False      False  False\n",
       "10783   False  False   False      False  False\n",
       "10784   False  False   False      False  False\n",
       "10785   False  False   False      False  False\n",
       "10786   False  False   False      False  False\n",
       "\n",
       "[10787 rows x 5 columns]"
      ]
     },
     "execution_count": 16,
     "metadata": {},
     "output_type": "execute_result"
    }
   ],
   "source": [
    "# 15. Filter outlier pada dataset dengan batas bawah dan atas\n",
    "outlier_filter = ((df_ex_object < batas_bawah) | (df_ex_object > batas_atas))\n",
    "outlier_filter"
   ]
  },
  {
   "cell_type": "code",
   "execution_count": 17,
   "id": "f62e2fbc-f54c-4a04-ac0a-a0363eed18cd",
   "metadata": {},
   "outputs": [
    {
     "name": "stdout",
     "output_type": "stream",
     "text": [
      "Nama Kolom: Flight\n",
      "False    10787\n",
      "Name: Flight, dtype: int64\n",
      "-------------------\n",
      "Nama Kolom: Time\n",
      "False    10787\n",
      "Name: Time, dtype: int64\n",
      "-------------------\n",
      "Nama Kolom: Length\n",
      "False    10305\n",
      "True       482\n",
      "Name: Length, dtype: int64\n",
      "-------------------\n",
      "Nama Kolom: DayOfWeek\n",
      "False    10787\n",
      "Name: DayOfWeek, dtype: int64\n",
      "-------------------\n",
      "Nama Kolom: Class\n",
      "False    10787\n",
      "Name: Class, dtype: int64\n",
      "-------------------\n"
     ]
    }
   ],
   "source": [
    "## 16. Menghitung Jumlah Outlier Pada Data\n",
    "for col in outlier_filter.columns :\n",
    "    \n",
    "    # Exclude kolom dengan tipe data object     \n",
    "    if df[col].dtype != 'object' :\n",
    "        print('Nama Kolom:',col)\n",
    "        print(outlier_filter[col].value_counts())\n",
    "        print('-------------------')"
   ]
  },
  {
   "cell_type": "code",
   "execution_count": 18,
   "id": "dd0f2a31-9874-4a65-9343-667273adfbb2",
   "metadata": {},
   "outputs": [
    {
     "data": {
      "text/plain": [
       "4.4683415222026515"
      ]
     },
     "execution_count": 18,
     "metadata": {},
     "output_type": "execute_result"
    }
   ],
   "source": [
    "# 17. Persentase Outliers\n",
    "length_outliers_percentage = len(outlier_filter[outlier_filter.Length==True]) / len(df['Length']) * 100\n",
    "length_outliers_percentage"
   ]
  },
  {
   "cell_type": "code",
   "execution_count": 19,
   "id": "a8929e8a-c38d-4cfa-b94a-ddd2736e5baf",
   "metadata": {},
   "outputs": [
    {
     "data": {
      "text/plain": [
       "Airline\n",
       "9E     24.875878\n",
       "AA     78.526423\n",
       "AS     88.820168\n",
       "B6     84.098211\n",
       "CO     83.818790\n",
       "DL     74.778749\n",
       "EV     27.575863\n",
       "F9     44.830826\n",
       "FL     41.401125\n",
       "HA    104.737861\n",
       "MQ     35.772763\n",
       "OH     33.616975\n",
       "OO     41.266610\n",
       "UA     93.873549\n",
       "US     77.540757\n",
       "WN     60.650822\n",
       "XE     36.938267\n",
       "YV     40.076336\n",
       "Name: Length, dtype: float64"
      ]
     },
     "execution_count": 19,
     "metadata": {},
     "output_type": "execute_result"
    }
   ],
   "source": [
    "# 18. Analisa standar deviasi panjang penerbangan masing-masing maskapai dengan Groupby\n",
    "df.groupby('Airline')['Length'].std()"
   ]
  },
  {
   "cell_type": "code",
   "execution_count": 20,
   "id": "e340161d-d86a-4ee0-865c-048ef15e3141",
   "metadata": {},
   "outputs": [
    {
     "data": {
      "text/plain": [
       "Airline\n",
       "9E     153\n",
       "AA     354\n",
       "AS      71\n",
       "B6     142\n",
       "CO     241\n",
       "DL     510\n",
       "EV     225\n",
       "F9      46\n",
       "FL     127\n",
       "HA      35\n",
       "MQ     240\n",
       "OH      69\n",
       "OO     427\n",
       "UA     146\n",
       "US     239\n",
       "WN    1268\n",
       "XE     215\n",
       "YV      77\n",
       "Name: Class, dtype: int64"
      ]
     },
     "execution_count": 20,
     "metadata": {},
     "output_type": "execute_result"
    }
   ],
   "source": [
    "# 19. Analisa jumlah delay masing-masing maskapai dengan Groupby\n",
    "df.groupby('Airline')['Class'].sum()"
   ]
  },
  {
   "cell_type": "code",
   "execution_count": 21,
   "id": "bab141cd-6dca-462e-a344-e17fdaea16fc",
   "metadata": {},
   "outputs": [
    {
     "data": {
      "text/plain": [
       "DayOfWeek\n",
       "1    686\n",
       "2    661\n",
       "3    859\n",
       "4    834\n",
       "5    701\n",
       "6    438\n",
       "7    649\n",
       "Name: Class, dtype: int64"
      ]
     },
     "execution_count": 21,
     "metadata": {},
     "output_type": "execute_result"
    }
   ],
   "source": [
    "# 20. Analisa jumlah delay dari masing-masing hari dengan Groupby\n",
    "df.groupby('DayOfWeek')['Class'].sum()"
   ]
  },
  {
   "cell_type": "code",
   "execution_count": 22,
   "id": "2da0ec9f-69b8-44d2-97e4-fe2d7a4c52e2",
   "metadata": {},
   "outputs": [],
   "source": [
    "# Import Library\n",
    "\n",
    "# 21. Import Numpy\n",
    "import numpy as np\n",
    "\n",
    "# 22. Import Pyplot from Matplotlib\n",
    "import matplotlib.pyplot as plt\n",
    "\n",
    "# 23. Import Seaborn\n",
    "import seaborn as sns"
   ]
  },
  {
   "cell_type": "code",
   "execution_count": 23,
   "id": "45d27db3-6870-47b8-863f-2ea79834e948",
   "metadata": {},
   "outputs": [
    {
     "data": {
      "image/png": "[encoded data removed]",
      "text/plain": [
       "<Figure size 1440x144 with 1 Axes>"
      ]
     },
     "metadata": {
      "needs_background": "light"
     },
     "output_type": "display_data"
    },
    {
     "data": {
      "image/png": "[encoded data removed]",
      "text/plain": [
       "<Figure size 1440x144 with 1 Axes>"
      ]
     },
     "metadata": {
      "needs_background": "light"
     },
     "output_type": "display_data"
    },
    {
     "data": {
      "image/png": "[encoded data removed]",
      "text/plain": [
       "<Figure size 1440x144 with 1 Axes>"
      ]
     },
     "metadata": {
      "needs_background": "light"
     },
     "output_type": "display_data"
    },
    {
     "data": {
      "image/png": "[encoded data removed]",
      "text/plain": [
       "<Figure size 1440x144 with 1 Axes>"
      ]
     },
     "metadata": {
      "needs_background": "light"
     },
     "output_type": "display_data"
    },
    {
     "data": {
      "image/png": "[encoded data removed]",
      "text/plain": [
       "<Figure size 1440x144 with 1 Axes>"
      ]
     },
     "metadata": {
      "needs_background": "light"
     },
     "output_type": "display_data"
    }
   ],
   "source": [
    "# Mencari Outliers - Boxplot\n",
    "\n",
    "# 24. Exclude object data type columns\n",
    "df_outlier = df.select_dtypes(exclude='object')\n",
    "# Plot boxplot for each column\n",
    "for column in df_outlier:\n",
    "    plt.figure(figsize=(20, 2))\n",
    "    sns.boxplot(data=df_outlier, x=column)"
   ]
  },
  {
   "cell_type": "code",
   "execution_count": 24,
   "id": "499a0f00-0c59-4c19-9f6a-6d16bc852c56",
   "metadata": {},
   "outputs": [
    {
     "name": "stderr",
     "output_type": "stream",
     "text": [
      "/tmp/ipykernel_215048/3493561368.py:4: FutureWarning: The default value of numeric_only in DataFrameGroupBy.sum is deprecated. In a future version, numeric_only will default to False. Either specify numeric_only or select only columns which should be valid for the function.\n",
      "  Airline_Delay_Count = df.groupby('Airline').sum()['Class'].sort_values(ascending=False)\n"
     ]
    },
    {
     "data": {
      "image/png": "[encoded data removed]",
      "text/plain": [
       "<Figure size 720x360 with 1 Axes>"
      ]
     },
     "metadata": {
      "needs_background": "light"
     },
     "output_type": "display_data"
    }
   ],
   "source": [
    "# Analisa jumlah delay masing-masing maskapai \n",
    "\n",
    "# 25. Sum the values in the 'Class' column for each airline group, and sort the airlines based on the sum in descending order\n",
    "Airline_Delay_Count = df.groupby('Airline').sum()['Class'].sort_values(ascending=False)\n",
    "plt.figure(figsize=(10, 5))\n",
    "\n",
    "# Define color palette\n",
    "myColors = sns.color_palette('pastel')[0:5]\n",
    "# Plot the data\n",
    "Airline_Delay_Count.plot(kind='bar', color=myColors)\n",
    "plt.ylabel('Jumlah Delay')\n",
    "plt.title('Jumlah Delay Masing-Masing Airline')\n",
    "plt.show()"
   ]
  },
  {
   "cell_type": "code",
   "execution_count": 25,
   "id": "fea96632-7697-42df-859c-b97a35558011",
   "metadata": {},
   "outputs": [
    {
     "data": {
      "text/html": [
       "<div>\n",
       "<style scoped>\n",
       "    .dataframe tbody tr th:only-of-type {\n",
       "        vertical-align: middle;\n",
       "    }\n",
       "\n",
       "    .dataframe tbody tr th {\n",
       "        vertical-align: top;\n",
       "    }\n",
       "\n",
       "    .dataframe thead th {\n",
       "        text-align: right;\n",
       "    }\n",
       "</style>\n",
       "<table border=\"1\" class=\"dataframe\">\n",
       "  <thead>\n",
       "    <tr style=\"text-align: right;\">\n",
       "      <th>Class</th>\n",
       "      <th>0</th>\n",
       "      <th>1</th>\n",
       "    </tr>\n",
       "    <tr>\n",
       "      <th>DayOfWeek</th>\n",
       "      <th></th>\n",
       "      <th></th>\n",
       "    </tr>\n",
       "  </thead>\n",
       "  <tbody>\n",
       "    <tr>\n",
       "      <th>1</th>\n",
       "      <td>743</td>\n",
       "      <td>631</td>\n",
       "    </tr>\n",
       "    <tr>\n",
       "      <th>2</th>\n",
       "      <td>755</td>\n",
       "      <td>609</td>\n",
       "    </tr>\n",
       "    <tr>\n",
       "      <th>3</th>\n",
       "      <td>848</td>\n",
       "      <td>778</td>\n",
       "    </tr>\n",
       "    <tr>\n",
       "      <th>4</th>\n",
       "      <td>901</td>\n",
       "      <td>757</td>\n",
       "    </tr>\n",
       "    <tr>\n",
       "      <th>5</th>\n",
       "      <td>890</td>\n",
       "      <td>650</td>\n",
       "    </tr>\n",
       "    <tr>\n",
       "      <th>6</th>\n",
       "      <td>641</td>\n",
       "      <td>414</td>\n",
       "    </tr>\n",
       "    <tr>\n",
       "      <th>7</th>\n",
       "      <td>684</td>\n",
       "      <td>613</td>\n",
       "    </tr>\n",
       "  </tbody>\n",
       "</table>\n",
       "</div>"
      ],
      "text/plain": [
       "Class        0    1\n",
       "DayOfWeek          \n",
       "1          743  631\n",
       "2          755  609\n",
       "3          848  778\n",
       "4          901  757\n",
       "5          890  650\n",
       "6          641  414\n",
       "7          684  613"
      ]
     },
     "execution_count": 25,
     "metadata": {},
     "output_type": "execute_result"
    }
   ],
   "source": [
    "# 26. Analisa Hari dengan delay - Groupby\n",
    "delay_per_day = df.groupby(['DayOfWeek', 'Class']).count().unstack('Class')['Time']\n",
    "delay_per_day"
   ]
  },
  {
   "cell_type": "code",
   "execution_count": 26,
   "id": "010f5c11-37da-4d9f-a2dd-873d47a16844",
   "metadata": {},
   "outputs": [
    {
     "data": {
      "image/png": "[encoded data removed]",
      "text/plain": [
       "<Figure size 432x288 with 1 Axes>"
      ]
     },
     "metadata": {},
     "output_type": "display_data"
    },
    {
     "data": {
      "image/png": "[encoded data removed]",
      "text/plain": [
       "<Figure size 432x288 with 1 Axes>"
      ]
     },
     "metadata": {},
     "output_type": "display_data"
    },
    {
     "data": {
      "image/png": "[encoded data removed]",
      "text/plain": [
       "<Figure size 432x288 with 1 Axes>"
      ]
     },
     "metadata": {},
     "output_type": "display_data"
    },
    {
     "data": {
      "image/png": "[encoded data removed]",
      "text/plain": [
       "<Figure size 432x288 with 1 Axes>"
      ]
     },
     "metadata": {},
     "output_type": "display_data"
    },
    {
     "data": {
      "image/png": "[encoded data removed]",
      "text/plain": [
       "<Figure size 432x288 with 1 Axes>"
      ]
     },
     "metadata": {},
     "output_type": "display_data"
    },
    {
     "data": {
      "image/png": "[encoded data removed]",
      "text/plain": [
       "<Figure size 432x288 with 1 Axes>"
      ]
     },
     "metadata": {},
     "output_type": "display_data"
    },
    {
     "data": {
      "image/png": "[encoded data removed]",
      "text/plain": [
       "<Figure size 432x288 with 1 Axes>"
      ]
     },
     "metadata": {},
     "output_type": "display_data"
    }
   ],
   "source": [
    "# 28. Label Pie Chart\n",
    "pieChartLabels = ['On Time','Delayed']\n",
    "\n",
    "#Menentukan warna pale\n",
    "myColors = sns.color_palette('pastel')\n",
    "\n",
    "#Menampilkan pie chart untuk 1 minggu   \n",
    "for i in range(1,8):\n",
    "    b = delay_per_day.iloc[i-1,:]\n",
    "    #create pie chart\n",
    "    plt.pie(b, labels = pieChartLabels, colors = myColors, autopct='%.0f%%')\n",
    "    plt.title('Day ' + str(i))\n",
    "    plt.show()"
   ]
  },
  {
   "cell_type": "code",
   "execution_count": 27,
   "id": "ac1e4325-2fa8-4a6d-9893-3cc8f71efaf4",
   "metadata": {},
   "outputs": [
    {
     "data": {
      "text/html": [
       "<div>\n",
       "<style scoped>\n",
       "    .dataframe tbody tr th:only-of-type {\n",
       "        vertical-align: middle;\n",
       "    }\n",
       "\n",
       "    .dataframe tbody tr th {\n",
       "        vertical-align: top;\n",
       "    }\n",
       "\n",
       "    .dataframe thead th {\n",
       "        text-align: right;\n",
       "    }\n",
       "</style>\n",
       "<table border=\"1\" class=\"dataframe\">\n",
       "  <thead>\n",
       "    <tr style=\"text-align: right;\">\n",
       "      <th></th>\n",
       "      <th>Flight</th>\n",
       "      <th>Time</th>\n",
       "      <th>Length</th>\n",
       "      <th>DayOfWeek</th>\n",
       "      <th>Class</th>\n",
       "    </tr>\n",
       "  </thead>\n",
       "  <tbody>\n",
       "    <tr>\n",
       "      <th>Flight</th>\n",
       "      <td>1.000000</td>\n",
       "      <td>-0.002933</td>\n",
       "      <td>-0.341742</td>\n",
       "      <td>0.011387</td>\n",
       "      <td>-0.046805</td>\n",
       "    </tr>\n",
       "    <tr>\n",
       "      <th>Time</th>\n",
       "      <td>-0.002933</td>\n",
       "      <td>1.000000</td>\n",
       "      <td>-0.013385</td>\n",
       "      <td>0.007768</td>\n",
       "      <td>0.136350</td>\n",
       "    </tr>\n",
       "    <tr>\n",
       "      <th>Length</th>\n",
       "      <td>-0.341742</td>\n",
       "      <td>-0.013385</td>\n",
       "      <td>1.000000</td>\n",
       "      <td>0.002753</td>\n",
       "      <td>0.039975</td>\n",
       "    </tr>\n",
       "    <tr>\n",
       "      <th>DayOfWeek</th>\n",
       "      <td>0.011387</td>\n",
       "      <td>0.007768</td>\n",
       "      <td>0.002753</td>\n",
       "      <td>1.000000</td>\n",
       "      <td>-0.020370</td>\n",
       "    </tr>\n",
       "    <tr>\n",
       "      <th>Class</th>\n",
       "      <td>-0.046805</td>\n",
       "      <td>0.136350</td>\n",
       "      <td>0.039975</td>\n",
       "      <td>-0.020370</td>\n",
       "      <td>1.000000</td>\n",
       "    </tr>\n",
       "  </tbody>\n",
       "</table>\n",
       "</div>"
      ],
      "text/plain": [
       "             Flight      Time    Length  DayOfWeek     Class\n",
       "Flight     1.000000 -0.002933 -0.341742   0.011387 -0.046805\n",
       "Time      -0.002933  1.000000 -0.013385   0.007768  0.136350\n",
       "Length    -0.341742 -0.013385  1.000000   0.002753  0.039975\n",
       "DayOfWeek  0.011387  0.007768  0.002753   1.000000 -0.020370\n",
       "Class     -0.046805  0.136350  0.039975  -0.020370  1.000000"
      ]
     },
     "execution_count": 27,
     "metadata": {},
     "output_type": "execute_result"
    }
   ],
   "source": [
    "# 29. Melihat korelasi antara kolom\n",
    "df.select_dtypes(exclude=\"object\").corr()"
   ]
  },
  {
   "cell_type": "code",
   "execution_count": 28,
   "id": "c2d2bea0-d180-4dea-8723-8857af6d9400",
   "metadata": {},
   "outputs": [
    {
     "data": {
      "text/plain": [
       "<AxesSubplot:>"
      ]
     },
     "execution_count": 28,
     "metadata": {},
     "output_type": "execute_result"
    },
    {
     "data": {
      "image/png": "[encoded data removed]",
      "text/plain": [
       "<Figure size 432x288 with 2 Axes>"
      ]
     },
     "metadata": {
      "needs_background": "light"
     },
     "output_type": "display_data"
    }
   ],
   "source": [
    "## 30. Melihat korelasi dengan Seaborn heatmap\n",
    "sns.heatmap(df.select_dtypes(include='float').corr(), annot=True, cmap='coolwarm')"
   ]
  },
  {
   "cell_type": "code",
   "execution_count": 29,
   "id": "92dd3b95-f053-4fb5-8e9a-c624ec99657d",
   "metadata": {},
   "outputs": [
    {
     "data": {
      "text/plain": [
       "<AxesSubplot:>"
      ]
     },
     "execution_count": 29,
     "metadata": {},
     "output_type": "execute_result"
    },
    {
     "data": {
      "image/png": "[encoded data removed]",
      "text/plain": [
       "<Figure size 432x288 with 2 Axes>"
      ]
     },
     "metadata": {
      "needs_background": "light"
     },
     "output_type": "display_data"
    }
   ],
   "source": [
    "## 30. Melihat korelasi dengan Seaborn heatmap\n",
    "sns.heatmap(df.select_dtypes(exclude=['object']).corr())"
   ]
  },
  {
   "cell_type": "code",
   "execution_count": 30,
   "id": "484b97f4-37cf-4e4f-a1d5-e01d0fb50a60",
   "metadata": {},
   "outputs": [
    {
     "ename": "SyntaxError",
     "evalue": "invalid syntax (1008090744.py, line 1)",
     "output_type": "error",
     "traceback": [
      "\u001b[0;36m  Input \u001b[0;32mIn [30]\u001b[0;36m\u001b[0m\n\u001b[0;31m    Data Preparation Phrase 1 & 2\u001b[0m\n\u001b[0m         ^\u001b[0m\n\u001b[0;31mSyntaxError\u001b[0m\u001b[0;31m:\u001b[0m invalid syntax\n"
     ]
    }
   ],
   "source": [
    "Data Preparation Phrase 1 & 2"
   ]
  },
  {
   "cell_type": "code",
   "execution_count": 31,
   "id": "bd3f7496-4d53-4818-8eae-7dd17f6805d7",
   "metadata": {},
   "outputs": [
    {
     "data": {
      "text/html": [
       "<div>\n",
       "<style scoped>\n",
       "    .dataframe tbody tr th:only-of-type {\n",
       "        vertical-align: middle;\n",
       "    }\n",
       "\n",
       "    .dataframe tbody tr th {\n",
       "        vertical-align: top;\n",
       "    }\n",
       "\n",
       "    .dataframe thead th {\n",
       "        text-align: right;\n",
       "    }\n",
       "</style>\n",
       "<table border=\"1\" class=\"dataframe\">\n",
       "  <thead>\n",
       "    <tr style=\"text-align: right;\">\n",
       "      <th></th>\n",
       "      <th>Flight</th>\n",
       "      <th>Time</th>\n",
       "      <th>Length</th>\n",
       "      <th>Airline</th>\n",
       "      <th>AirportFrom</th>\n",
       "      <th>AirportTo</th>\n",
       "      <th>DayOfWeek</th>\n",
       "      <th>Class</th>\n",
       "    </tr>\n",
       "  </thead>\n",
       "  <tbody>\n",
       "    <tr>\n",
       "      <th>0</th>\n",
       "      <td>320.0</td>\n",
       "      <td>870.0</td>\n",
       "      <td>180.0</td>\n",
       "      <td>NaN</td>\n",
       "      <td>IAH</td>\n",
       "      <td>PHX</td>\n",
       "      <td>5</td>\n",
       "      <td>0</td>\n",
       "    </tr>\n",
       "    <tr>\n",
       "      <th>1</th>\n",
       "      <td>3045.0</td>\n",
       "      <td>365.0</td>\n",
       "      <td>66.0</td>\n",
       "      <td>OO</td>\n",
       "      <td>DSM</td>\n",
       "      <td>MKE</td>\n",
       "      <td>2</td>\n",
       "      <td>0</td>\n",
       "    </tr>\n",
       "    <tr>\n",
       "      <th>2</th>\n",
       "      <td>1560.0</td>\n",
       "      <td>740.0</td>\n",
       "      <td>257.0</td>\n",
       "      <td>DL</td>\n",
       "      <td>SEA</td>\n",
       "      <td>CVG</td>\n",
       "      <td>7</td>\n",
       "      <td>0</td>\n",
       "    </tr>\n",
       "    <tr>\n",
       "      <th>3</th>\n",
       "      <td>1156.0</td>\n",
       "      <td>595.0</td>\n",
       "      <td>235.0</td>\n",
       "      <td>WN</td>\n",
       "      <td>SNA</td>\n",
       "      <td>MDW</td>\n",
       "      <td>7</td>\n",
       "      <td>1</td>\n",
       "    </tr>\n",
       "    <tr>\n",
       "      <th>4</th>\n",
       "      <td>1873.0</td>\n",
       "      <td>530.0</td>\n",
       "      <td>133.0</td>\n",
       "      <td>CO</td>\n",
       "      <td>IAH</td>\n",
       "      <td>MCO</td>\n",
       "      <td>6</td>\n",
       "      <td>1</td>\n",
       "    </tr>\n",
       "  </tbody>\n",
       "</table>\n",
       "</div>"
      ],
      "text/plain": [
       "   Flight   Time  Length Airline AirportFrom AirportTo  DayOfWeek  Class\n",
       "0   320.0  870.0   180.0     NaN         IAH       PHX          5      0\n",
       "1  3045.0  365.0    66.0      OO         DSM       MKE          2      0\n",
       "2  1560.0  740.0   257.0      DL         SEA       CVG          7      0\n",
       "3  1156.0  595.0   235.0      WN         SNA       MDW          7      1\n",
       "4  1873.0  530.0   133.0      CO         IAH       MCO          6      1"
      ]
     },
     "execution_count": 31,
     "metadata": {},
     "output_type": "execute_result"
    }
   ],
   "source": [
    "# Menampilkan 5 baris teratas dari dataset \n",
    "df.head()"
   ]
  },
  {
   "cell_type": "code",
   "execution_count": 32,
   "id": "5f7d52df-6532-4c99-8828-29dcbebddba7",
   "metadata": {},
   "outputs": [],
   "source": [
    "# Membuang kolom Flight menggunakan fungsi iloc\n",
    "df_drop1 = df.iloc[:,1:8]"
   ]
  },
  {
   "cell_type": "code",
   "execution_count": 33,
   "id": "8639f781-b560-4cfc-a869-e689325907a5",
   "metadata": {},
   "outputs": [
    {
     "data": {
      "text/html": [
       "<div>\n",
       "<style scoped>\n",
       "    .dataframe tbody tr th:only-of-type {\n",
       "        vertical-align: middle;\n",
       "    }\n",
       "\n",
       "    .dataframe tbody tr th {\n",
       "        vertical-align: top;\n",
       "    }\n",
       "\n",
       "    .dataframe thead th {\n",
       "        text-align: right;\n",
       "    }\n",
       "</style>\n",
       "<table border=\"1\" class=\"dataframe\">\n",
       "  <thead>\n",
       "    <tr style=\"text-align: right;\">\n",
       "      <th></th>\n",
       "      <th>Time</th>\n",
       "      <th>Length</th>\n",
       "      <th>Airline</th>\n",
       "      <th>AirportFrom</th>\n",
       "      <th>AirportTo</th>\n",
       "      <th>DayOfWeek</th>\n",
       "      <th>Class</th>\n",
       "    </tr>\n",
       "  </thead>\n",
       "  <tbody>\n",
       "    <tr>\n",
       "      <th>0</th>\n",
       "      <td>870.0</td>\n",
       "      <td>180.0</td>\n",
       "      <td>NaN</td>\n",
       "      <td>IAH</td>\n",
       "      <td>PHX</td>\n",
       "      <td>5</td>\n",
       "      <td>0</td>\n",
       "    </tr>\n",
       "    <tr>\n",
       "      <th>1</th>\n",
       "      <td>365.0</td>\n",
       "      <td>66.0</td>\n",
       "      <td>OO</td>\n",
       "      <td>DSM</td>\n",
       "      <td>MKE</td>\n",
       "      <td>2</td>\n",
       "      <td>0</td>\n",
       "    </tr>\n",
       "    <tr>\n",
       "      <th>2</th>\n",
       "      <td>740.0</td>\n",
       "      <td>257.0</td>\n",
       "      <td>DL</td>\n",
       "      <td>SEA</td>\n",
       "      <td>CVG</td>\n",
       "      <td>7</td>\n",
       "      <td>0</td>\n",
       "    </tr>\n",
       "    <tr>\n",
       "      <th>3</th>\n",
       "      <td>595.0</td>\n",
       "      <td>235.0</td>\n",
       "      <td>WN</td>\n",
       "      <td>SNA</td>\n",
       "      <td>MDW</td>\n",
       "      <td>7</td>\n",
       "      <td>1</td>\n",
       "    </tr>\n",
       "    <tr>\n",
       "      <th>4</th>\n",
       "      <td>530.0</td>\n",
       "      <td>133.0</td>\n",
       "      <td>CO</td>\n",
       "      <td>IAH</td>\n",
       "      <td>MCO</td>\n",
       "      <td>6</td>\n",
       "      <td>1</td>\n",
       "    </tr>\n",
       "  </tbody>\n",
       "</table>\n",
       "</div>"
      ],
      "text/plain": [
       "    Time  Length Airline AirportFrom AirportTo  DayOfWeek  Class\n",
       "0  870.0   180.0     NaN         IAH       PHX          5      0\n",
       "1  365.0    66.0      OO         DSM       MKE          2      0\n",
       "2  740.0   257.0      DL         SEA       CVG          7      0\n",
       "3  595.0   235.0      WN         SNA       MDW          7      1\n",
       "4  530.0   133.0      CO         IAH       MCO          6      1"
      ]
     },
     "execution_count": 33,
     "metadata": {},
     "output_type": "execute_result"
    }
   ],
   "source": [
    "df_drop1.head()"
   ]
  },
  {
   "cell_type": "code",
   "execution_count": 34,
   "id": "17e26c0e-0621-4dea-bcee-2dbd98214cec",
   "metadata": {},
   "outputs": [],
   "source": [
    "# Membuang kolom Flight dengan fungsi drop - memuat dataset\n",
    "df_drop2 = pd.read_csv('delay_maskapai.csv')"
   ]
  },
  {
   "cell_type": "code",
   "execution_count": 35,
   "id": "6167057b-2127-4387-8915-829f59aecd1a",
   "metadata": {},
   "outputs": [],
   "source": [
    "# Membuang kolom flight dengan fungsi drop\n",
    "df_drop2.drop(['Flight'],axis=1,inplace=True)"
   ]
  },
  {
   "cell_type": "code",
   "execution_count": 36,
   "id": "82296740-891e-4911-9f7c-4c473ebbd715",
   "metadata": {},
   "outputs": [],
   "source": [
    "#Import Library\n",
    "import numpy as np"
   ]
  },
  {
   "cell_type": "code",
   "execution_count": 37,
   "id": "8e2464c3-2cd3-46ea-aef6-376ce6250fff",
   "metadata": {},
   "outputs": [],
   "source": [
    "unique_id = np.random.choice(len(df),size=len(df),replace=False)"
   ]
  },
  {
   "cell_type": "code",
   "execution_count": 38,
   "id": "9fd06472-29c5-4db7-9c9e-44b6f95a3489",
   "metadata": {},
   "outputs": [],
   "source": [
    "df['unique_id'] = unique_id"
   ]
  },
  {
   "cell_type": "code",
   "execution_count": 39,
   "id": "c13ef2ce-b0a6-4e4c-81af-d808128bf281",
   "metadata": {},
   "outputs": [
    {
     "data": {
      "text/plain": [
       "True"
      ]
     },
     "execution_count": 39,
     "metadata": {},
     "output_type": "execute_result"
    }
   ],
   "source": [
    "df['unique_id'].is_unique"
   ]
  },
  {
   "cell_type": "code",
   "execution_count": 40,
   "id": "f5bc4909-7e82-4b90-9fcf-1fb243620792",
   "metadata": {},
   "outputs": [],
   "source": [
    "df_index = df.set_index('unique_id')"
   ]
  },
  {
   "cell_type": "code",
   "execution_count": 41,
   "id": "153571cc-f998-4b75-ba3a-99f24f958566",
   "metadata": {},
   "outputs": [
    {
     "data": {
      "text/html": [
       "<div>\n",
       "<style scoped>\n",
       "    .dataframe tbody tr th:only-of-type {\n",
       "        vertical-align: middle;\n",
       "    }\n",
       "\n",
       "    .dataframe tbody tr th {\n",
       "        vertical-align: top;\n",
       "    }\n",
       "\n",
       "    .dataframe thead th {\n",
       "        text-align: right;\n",
       "    }\n",
       "</style>\n",
       "<table border=\"1\" class=\"dataframe\">\n",
       "  <thead>\n",
       "    <tr style=\"text-align: right;\">\n",
       "      <th></th>\n",
       "      <th>Flight</th>\n",
       "      <th>Time</th>\n",
       "      <th>Length</th>\n",
       "      <th>Airline</th>\n",
       "      <th>AirportFrom</th>\n",
       "      <th>AirportTo</th>\n",
       "      <th>DayOfWeek</th>\n",
       "      <th>Class</th>\n",
       "    </tr>\n",
       "    <tr>\n",
       "      <th>unique_id</th>\n",
       "      <th></th>\n",
       "      <th></th>\n",
       "      <th></th>\n",
       "      <th></th>\n",
       "      <th></th>\n",
       "      <th></th>\n",
       "      <th></th>\n",
       "      <th></th>\n",
       "    </tr>\n",
       "  </thead>\n",
       "  <tbody>\n",
       "    <tr>\n",
       "      <th>2585</th>\n",
       "      <td>320.0</td>\n",
       "      <td>870.0</td>\n",
       "      <td>180.0</td>\n",
       "      <td>NaN</td>\n",
       "      <td>IAH</td>\n",
       "      <td>PHX</td>\n",
       "      <td>5</td>\n",
       "      <td>0</td>\n",
       "    </tr>\n",
       "    <tr>\n",
       "      <th>2361</th>\n",
       "      <td>3045.0</td>\n",
       "      <td>365.0</td>\n",
       "      <td>66.0</td>\n",
       "      <td>OO</td>\n",
       "      <td>DSM</td>\n",
       "      <td>MKE</td>\n",
       "      <td>2</td>\n",
       "      <td>0</td>\n",
       "    </tr>\n",
       "    <tr>\n",
       "      <th>5023</th>\n",
       "      <td>1560.0</td>\n",
       "      <td>740.0</td>\n",
       "      <td>257.0</td>\n",
       "      <td>DL</td>\n",
       "      <td>SEA</td>\n",
       "      <td>CVG</td>\n",
       "      <td>7</td>\n",
       "      <td>0</td>\n",
       "    </tr>\n",
       "    <tr>\n",
       "      <th>3062</th>\n",
       "      <td>1156.0</td>\n",
       "      <td>595.0</td>\n",
       "      <td>235.0</td>\n",
       "      <td>WN</td>\n",
       "      <td>SNA</td>\n",
       "      <td>MDW</td>\n",
       "      <td>7</td>\n",
       "      <td>1</td>\n",
       "    </tr>\n",
       "    <tr>\n",
       "      <th>7167</th>\n",
       "      <td>1873.0</td>\n",
       "      <td>530.0</td>\n",
       "      <td>133.0</td>\n",
       "      <td>CO</td>\n",
       "      <td>IAH</td>\n",
       "      <td>MCO</td>\n",
       "      <td>6</td>\n",
       "      <td>1</td>\n",
       "    </tr>\n",
       "  </tbody>\n",
       "</table>\n",
       "</div>"
      ],
      "text/plain": [
       "           Flight   Time  Length Airline AirportFrom AirportTo  DayOfWeek  \\\n",
       "unique_id                                                                   \n",
       "2585        320.0  870.0   180.0     NaN         IAH       PHX          5   \n",
       "2361       3045.0  365.0    66.0      OO         DSM       MKE          2   \n",
       "5023       1560.0  740.0   257.0      DL         SEA       CVG          7   \n",
       "3062       1156.0  595.0   235.0      WN         SNA       MDW          7   \n",
       "7167       1873.0  530.0   133.0      CO         IAH       MCO          6   \n",
       "\n",
       "           Class  \n",
       "unique_id         \n",
       "2585           0  \n",
       "2361           0  \n",
       "5023           0  \n",
       "3062           1  \n",
       "7167           1  "
      ]
     },
     "execution_count": 41,
     "metadata": {},
     "output_type": "execute_result"
    }
   ],
   "source": [
    "df_index.head()"
   ]
  },
  {
   "cell_type": "code",
   "execution_count": 42,
   "id": "7fe79c3a-790a-4d1b-b9ae-7eb620c7c48f",
   "metadata": {},
   "outputs": [],
   "source": [
    "Time = pd.to_datetime(df.Time, unit='m').dt.strftime('%H.%M')"
   ]
  },
  {
   "cell_type": "code",
   "execution_count": 43,
   "id": "bf8c9f8f-565b-418e-948a-72961abd57a0",
   "metadata": {},
   "outputs": [],
   "source": [
    "df['DepartTime'] = Time "
   ]
  },
  {
   "cell_type": "code",
   "execution_count": 44,
   "id": "687eb6c1-52a4-4105-bb20-1bc5e7019bc7",
   "metadata": {},
   "outputs": [
    {
     "data": {
      "text/html": [
       "<div>\n",
       "<style scoped>\n",
       "    .dataframe tbody tr th:only-of-type {\n",
       "        vertical-align: middle;\n",
       "    }\n",
       "\n",
       "    .dataframe tbody tr th {\n",
       "        vertical-align: top;\n",
       "    }\n",
       "\n",
       "    .dataframe thead th {\n",
       "        text-align: right;\n",
       "    }\n",
       "</style>\n",
       "<table border=\"1\" class=\"dataframe\">\n",
       "  <thead>\n",
       "    <tr style=\"text-align: right;\">\n",
       "      <th></th>\n",
       "      <th>Flight</th>\n",
       "      <th>Time</th>\n",
       "      <th>Length</th>\n",
       "      <th>Airline</th>\n",
       "      <th>AirportFrom</th>\n",
       "      <th>AirportTo</th>\n",
       "      <th>DayOfWeek</th>\n",
       "      <th>Class</th>\n",
       "      <th>unique_id</th>\n",
       "      <th>DepartTime</th>\n",
       "    </tr>\n",
       "  </thead>\n",
       "  <tbody>\n",
       "    <tr>\n",
       "      <th>0</th>\n",
       "      <td>320.0</td>\n",
       "      <td>870.0</td>\n",
       "      <td>180.0</td>\n",
       "      <td>NaN</td>\n",
       "      <td>IAH</td>\n",
       "      <td>PHX</td>\n",
       "      <td>5</td>\n",
       "      <td>0</td>\n",
       "      <td>2585</td>\n",
       "      <td>14.30</td>\n",
       "    </tr>\n",
       "    <tr>\n",
       "      <th>1</th>\n",
       "      <td>3045.0</td>\n",
       "      <td>365.0</td>\n",
       "      <td>66.0</td>\n",
       "      <td>OO</td>\n",
       "      <td>DSM</td>\n",
       "      <td>MKE</td>\n",
       "      <td>2</td>\n",
       "      <td>0</td>\n",
       "      <td>2361</td>\n",
       "      <td>06.05</td>\n",
       "    </tr>\n",
       "    <tr>\n",
       "      <th>2</th>\n",
       "      <td>1560.0</td>\n",
       "      <td>740.0</td>\n",
       "      <td>257.0</td>\n",
       "      <td>DL</td>\n",
       "      <td>SEA</td>\n",
       "      <td>CVG</td>\n",
       "      <td>7</td>\n",
       "      <td>0</td>\n",
       "      <td>5023</td>\n",
       "      <td>12.20</td>\n",
       "    </tr>\n",
       "    <tr>\n",
       "      <th>3</th>\n",
       "      <td>1156.0</td>\n",
       "      <td>595.0</td>\n",
       "      <td>235.0</td>\n",
       "      <td>WN</td>\n",
       "      <td>SNA</td>\n",
       "      <td>MDW</td>\n",
       "      <td>7</td>\n",
       "      <td>1</td>\n",
       "      <td>3062</td>\n",
       "      <td>09.55</td>\n",
       "    </tr>\n",
       "    <tr>\n",
       "      <th>4</th>\n",
       "      <td>1873.0</td>\n",
       "      <td>530.0</td>\n",
       "      <td>133.0</td>\n",
       "      <td>CO</td>\n",
       "      <td>IAH</td>\n",
       "      <td>MCO</td>\n",
       "      <td>6</td>\n",
       "      <td>1</td>\n",
       "      <td>7167</td>\n",
       "      <td>08.50</td>\n",
       "    </tr>\n",
       "  </tbody>\n",
       "</table>\n",
       "</div>"
      ],
      "text/plain": [
       "   Flight   Time  Length Airline AirportFrom AirportTo  DayOfWeek  Class  \\\n",
       "0   320.0  870.0   180.0     NaN         IAH       PHX          5      0   \n",
       "1  3045.0  365.0    66.0      OO         DSM       MKE          2      0   \n",
       "2  1560.0  740.0   257.0      DL         SEA       CVG          7      0   \n",
       "3  1156.0  595.0   235.0      WN         SNA       MDW          7      1   \n",
       "4  1873.0  530.0   133.0      CO         IAH       MCO          6      1   \n",
       "\n",
       "   unique_id DepartTime  \n",
       "0       2585      14.30  \n",
       "1       2361      06.05  \n",
       "2       5023      12.20  \n",
       "3       3062      09.55  \n",
       "4       7167      08.50  "
      ]
     },
     "execution_count": 44,
     "metadata": {},
     "output_type": "execute_result"
    }
   ],
   "source": [
    "df.head()"
   ]
  },
  {
   "cell_type": "code",
   "execution_count": 45,
   "id": "e8f37b4d-3401-4574-b9cf-bb21547d52ab",
   "metadata": {},
   "outputs": [
    {
     "data": {
      "text/plain": [
       "DepartTime\n",
       "00.15    1\n",
       "00.30    0\n",
       "00.35    1\n",
       "00.40    1\n",
       "00.49    0\n",
       "Name: Class, dtype: int64"
      ]
     },
     "execution_count": 45,
     "metadata": {},
     "output_type": "execute_result"
    }
   ],
   "source": [
    "Time_Class_Sum = df.groupby('DepartTime').sum(numeric_only=True)['Class'].sort_index()\n",
    "Time_Class_Sum.head()"
   ]
  },
  {
   "cell_type": "code",
   "execution_count": 46,
   "id": "2ff96024-8a46-4b50-b9f9-5145fc0924df",
   "metadata": {},
   "outputs": [
    {
     "data": {
      "text/plain": [
       "DepartTime\n",
       "06.00    42\n",
       "07.00    37\n",
       "19.00    36\n",
       "17.00    35\n",
       "12.00    34\n",
       "19.05    33\n",
       "16.00    33\n",
       "11.40    32\n",
       "14.45    31\n",
       "12.05    31\n",
       "10.00    30\n",
       "11.45    29\n",
       "17.30    29\n",
       "18.15    28\n",
       "15.30    28\n",
       "11.55    27\n",
       "20.00    27\n",
       "15.15    27\n",
       "19.10    27\n",
       "17.35    27\n",
       "Name: Class, dtype: int64"
      ]
     },
     "execution_count": 46,
     "metadata": {},
     "output_type": "execute_result"
    }
   ],
   "source": [
    "Time_Class_Sum.sort_values(ascending=False).head(20)"
   ]
  },
  {
   "cell_type": "code",
   "execution_count": 47,
   "id": "defd971c-45b0-43eb-a282-b0e278e275ff",
   "metadata": {},
   "outputs": [],
   "source": [
    "import matplotlib.pyplot as plt"
   ]
  },
  {
   "cell_type": "code",
   "execution_count": 48,
   "id": "520a4dc0-b01e-4a1c-b18f-eb5fd894a914",
   "metadata": {},
   "outputs": [
    {
     "data": {
      "image/png": "[encoded data removed]",
      "text/plain": [
       "<Figure size 1080x720 with 1 Axes>"
      ]
     },
     "metadata": {
      "needs_background": "light"
     },
     "output_type": "display_data"
    }
   ],
   "source": [
    "# Mengatur ukuran gambar\n",
    "plt.figure(figsize=(15, 10))\n",
    "\n",
    "# Melakukan plot data\n",
    "Time_Class_Sum.plot()\n",
    "\n",
    "# Mengatur label sumbu x\n",
    "ticks = range(0, len(Time_Class_Sum.index), 30)  # Menentukan posisi label setiap setengah jam\n",
    "labels = Time_Class_Sum.index[ticks]  # Mengambil label berdasarkan posisi\n",
    "plt.xticks(rotation=90) # Mengatur posisi rotasi label pada sumbu x\n",
    "plt.xticks(ticks, labels)  # Mengatur posisi dan label pada sumbu x\n",
    "\n",
    "# Mengatur label sumbu y dan judul grafik\n",
    "plt.xlabel('Jam')\n",
    "plt.ylabel('Jumlah Delay')\n",
    "plt.title('Jumlah Delay Dalam 24 jam')\n",
    "\n",
    "# Menampilkan grafik\n",
    "plt.show()\n"
   ]
  },
  {
   "cell_type": "code",
   "execution_count": 49,
   "id": "4391c3b8-eaea-4693-ba5d-df70d6da9601",
   "metadata": {},
   "outputs": [
    {
     "data": {
      "text/html": [
       "<div>\n",
       "<style scoped>\n",
       "    .dataframe tbody tr th:only-of-type {\n",
       "        vertical-align: middle;\n",
       "    }\n",
       "\n",
       "    .dataframe tbody tr th {\n",
       "        vertical-align: top;\n",
       "    }\n",
       "\n",
       "    .dataframe thead th {\n",
       "        text-align: right;\n",
       "    }\n",
       "</style>\n",
       "<table border=\"1\" class=\"dataframe\">\n",
       "  <thead>\n",
       "    <tr style=\"text-align: right;\">\n",
       "      <th></th>\n",
       "      <th>Flight</th>\n",
       "      <th>Time</th>\n",
       "      <th>Length</th>\n",
       "      <th>Airline</th>\n",
       "      <th>AirportFrom</th>\n",
       "      <th>AirportTo</th>\n",
       "      <th>DayOfWeek</th>\n",
       "      <th>Class</th>\n",
       "      <th>unique_id</th>\n",
       "      <th>DepartTime</th>\n",
       "    </tr>\n",
       "  </thead>\n",
       "  <tbody>\n",
       "    <tr>\n",
       "      <th>0</th>\n",
       "      <td>320.0</td>\n",
       "      <td>870.0</td>\n",
       "      <td>180.0</td>\n",
       "      <td>NaN</td>\n",
       "      <td>IAH</td>\n",
       "      <td>PHX</td>\n",
       "      <td>5</td>\n",
       "      <td>0</td>\n",
       "      <td>2585</td>\n",
       "      <td>14.30</td>\n",
       "    </tr>\n",
       "    <tr>\n",
       "      <th>1</th>\n",
       "      <td>3045.0</td>\n",
       "      <td>365.0</td>\n",
       "      <td>66.0</td>\n",
       "      <td>OO</td>\n",
       "      <td>DSM</td>\n",
       "      <td>MKE</td>\n",
       "      <td>2</td>\n",
       "      <td>0</td>\n",
       "      <td>2361</td>\n",
       "      <td>06.05</td>\n",
       "    </tr>\n",
       "    <tr>\n",
       "      <th>2</th>\n",
       "      <td>1560.0</td>\n",
       "      <td>740.0</td>\n",
       "      <td>257.0</td>\n",
       "      <td>DL</td>\n",
       "      <td>SEA</td>\n",
       "      <td>CVG</td>\n",
       "      <td>7</td>\n",
       "      <td>0</td>\n",
       "      <td>5023</td>\n",
       "      <td>12.20</td>\n",
       "    </tr>\n",
       "    <tr>\n",
       "      <th>3</th>\n",
       "      <td>1156.0</td>\n",
       "      <td>595.0</td>\n",
       "      <td>235.0</td>\n",
       "      <td>WN</td>\n",
       "      <td>SNA</td>\n",
       "      <td>MDW</td>\n",
       "      <td>7</td>\n",
       "      <td>1</td>\n",
       "      <td>3062</td>\n",
       "      <td>09.55</td>\n",
       "    </tr>\n",
       "    <tr>\n",
       "      <th>4</th>\n",
       "      <td>1873.0</td>\n",
       "      <td>530.0</td>\n",
       "      <td>133.0</td>\n",
       "      <td>CO</td>\n",
       "      <td>IAH</td>\n",
       "      <td>MCO</td>\n",
       "      <td>6</td>\n",
       "      <td>1</td>\n",
       "      <td>7167</td>\n",
       "      <td>08.50</td>\n",
       "    </tr>\n",
       "  </tbody>\n",
       "</table>\n",
       "</div>"
      ],
      "text/plain": [
       "   Flight   Time  Length Airline AirportFrom AirportTo  DayOfWeek  Class  \\\n",
       "0   320.0  870.0   180.0     NaN         IAH       PHX          5      0   \n",
       "1  3045.0  365.0    66.0      OO         DSM       MKE          2      0   \n",
       "2  1560.0  740.0   257.0      DL         SEA       CVG          7      0   \n",
       "3  1156.0  595.0   235.0      WN         SNA       MDW          7      1   \n",
       "4  1873.0  530.0   133.0      CO         IAH       MCO          6      1   \n",
       "\n",
       "   unique_id DepartTime  \n",
       "0       2585      14.30  \n",
       "1       2361      06.05  \n",
       "2       5023      12.20  \n",
       "3       3062      09.55  \n",
       "4       7167      08.50  "
      ]
     },
     "execution_count": 49,
     "metadata": {},
     "output_type": "execute_result"
    }
   ],
   "source": [
    "df.head()"
   ]
  },
  {
   "cell_type": "code",
   "execution_count": 50,
   "id": "f339e54f-97cb-4414-8916-6369d669d9ae",
   "metadata": {},
   "outputs": [],
   "source": [
    "df_rename_col = df.rename(columns={\"Time\":\"DepartTime\"})"
   ]
  },
  {
   "cell_type": "code",
   "execution_count": 51,
   "id": "532a1a7d-69ac-42aa-acf8-5aeb3ea62942",
   "metadata": {},
   "outputs": [
    {
     "data": {
      "text/html": [
       "<div>\n",
       "<style scoped>\n",
       "    .dataframe tbody tr th:only-of-type {\n",
       "        vertical-align: middle;\n",
       "    }\n",
       "\n",
       "    .dataframe tbody tr th {\n",
       "        vertical-align: top;\n",
       "    }\n",
       "\n",
       "    .dataframe thead th {\n",
       "        text-align: right;\n",
       "    }\n",
       "</style>\n",
       "<table border=\"1\" class=\"dataframe\">\n",
       "  <thead>\n",
       "    <tr style=\"text-align: right;\">\n",
       "      <th></th>\n",
       "      <th>Flight</th>\n",
       "      <th>DepartTime</th>\n",
       "      <th>Length</th>\n",
       "      <th>Airline</th>\n",
       "      <th>AirportFrom</th>\n",
       "      <th>AirportTo</th>\n",
       "      <th>DayOfWeek</th>\n",
       "      <th>Class</th>\n",
       "      <th>unique_id</th>\n",
       "      <th>DepartTime</th>\n",
       "    </tr>\n",
       "  </thead>\n",
       "  <tbody>\n",
       "    <tr>\n",
       "      <th>0</th>\n",
       "      <td>320.0</td>\n",
       "      <td>870.0</td>\n",
       "      <td>180.0</td>\n",
       "      <td>NaN</td>\n",
       "      <td>IAH</td>\n",
       "      <td>PHX</td>\n",
       "      <td>5</td>\n",
       "      <td>0</td>\n",
       "      <td>2585</td>\n",
       "      <td>14.30</td>\n",
       "    </tr>\n",
       "    <tr>\n",
       "      <th>1</th>\n",
       "      <td>3045.0</td>\n",
       "      <td>365.0</td>\n",
       "      <td>66.0</td>\n",
       "      <td>OO</td>\n",
       "      <td>DSM</td>\n",
       "      <td>MKE</td>\n",
       "      <td>2</td>\n",
       "      <td>0</td>\n",
       "      <td>2361</td>\n",
       "      <td>06.05</td>\n",
       "    </tr>\n",
       "    <tr>\n",
       "      <th>2</th>\n",
       "      <td>1560.0</td>\n",
       "      <td>740.0</td>\n",
       "      <td>257.0</td>\n",
       "      <td>DL</td>\n",
       "      <td>SEA</td>\n",
       "      <td>CVG</td>\n",
       "      <td>7</td>\n",
       "      <td>0</td>\n",
       "      <td>5023</td>\n",
       "      <td>12.20</td>\n",
       "    </tr>\n",
       "    <tr>\n",
       "      <th>3</th>\n",
       "      <td>1156.0</td>\n",
       "      <td>595.0</td>\n",
       "      <td>235.0</td>\n",
       "      <td>WN</td>\n",
       "      <td>SNA</td>\n",
       "      <td>MDW</td>\n",
       "      <td>7</td>\n",
       "      <td>1</td>\n",
       "      <td>3062</td>\n",
       "      <td>09.55</td>\n",
       "    </tr>\n",
       "    <tr>\n",
       "      <th>4</th>\n",
       "      <td>1873.0</td>\n",
       "      <td>530.0</td>\n",
       "      <td>133.0</td>\n",
       "      <td>CO</td>\n",
       "      <td>IAH</td>\n",
       "      <td>MCO</td>\n",
       "      <td>6</td>\n",
       "      <td>1</td>\n",
       "      <td>7167</td>\n",
       "      <td>08.50</td>\n",
       "    </tr>\n",
       "  </tbody>\n",
       "</table>\n",
       "</div>"
      ],
      "text/plain": [
       "   Flight DepartTime  Length Airline AirportFrom AirportTo  DayOfWeek  Class  \\\n",
       "0   320.0      870.0   180.0     NaN         IAH       PHX          5      0   \n",
       "1  3045.0      365.0    66.0      OO         DSM       MKE          2      0   \n",
       "2  1560.0      740.0   257.0      DL         SEA       CVG          7      0   \n",
       "3  1156.0      595.0   235.0      WN         SNA       MDW          7      1   \n",
       "4  1873.0      530.0   133.0      CO         IAH       MCO          6      1   \n",
       "\n",
       "   unique_id DepartTime  \n",
       "0       2585      14.30  \n",
       "1       2361      06.05  \n",
       "2       5023      12.20  \n",
       "3       3062      09.55  \n",
       "4       7167      08.50  "
      ]
     },
     "execution_count": 51,
     "metadata": {},
     "output_type": "execute_result"
    }
   ],
   "source": [
    "df_rename_col.head()"
   ]
  },
  {
   "cell_type": "code",
   "execution_count": 52,
   "id": "89947ab1-39e2-4ff2-86b2-07a99781328a",
   "metadata": {},
   "outputs": [
    {
     "data": {
      "text/html": [
       "<div>\n",
       "<style scoped>\n",
       "    .dataframe tbody tr th:only-of-type {\n",
       "        vertical-align: middle;\n",
       "    }\n",
       "\n",
       "    .dataframe tbody tr th {\n",
       "        vertical-align: top;\n",
       "    }\n",
       "\n",
       "    .dataframe thead th {\n",
       "        text-align: right;\n",
       "    }\n",
       "</style>\n",
       "<table border=\"1\" class=\"dataframe\">\n",
       "  <thead>\n",
       "    <tr style=\"text-align: right;\">\n",
       "      <th></th>\n",
       "      <th>Flight</th>\n",
       "      <th>Time</th>\n",
       "      <th>Length</th>\n",
       "      <th>Airline</th>\n",
       "      <th>AirportFrom</th>\n",
       "      <th>AirportTo</th>\n",
       "      <th>DayOfWeek</th>\n",
       "      <th>Class</th>\n",
       "      <th>unique_id</th>\n",
       "      <th>DepartTime</th>\n",
       "    </tr>\n",
       "  </thead>\n",
       "  <tbody>\n",
       "    <tr>\n",
       "      <th>0</th>\n",
       "      <td>320.0</td>\n",
       "      <td>870.0</td>\n",
       "      <td>180.0</td>\n",
       "      <td>NaN</td>\n",
       "      <td>IAH</td>\n",
       "      <td>PHX</td>\n",
       "      <td>5</td>\n",
       "      <td>0</td>\n",
       "      <td>2585</td>\n",
       "      <td>14.30</td>\n",
       "    </tr>\n",
       "    <tr>\n",
       "      <th>1</th>\n",
       "      <td>3045.0</td>\n",
       "      <td>365.0</td>\n",
       "      <td>66.0</td>\n",
       "      <td>OO</td>\n",
       "      <td>DSM</td>\n",
       "      <td>MKE</td>\n",
       "      <td>2</td>\n",
       "      <td>0</td>\n",
       "      <td>2361</td>\n",
       "      <td>06.05</td>\n",
       "    </tr>\n",
       "    <tr>\n",
       "      <th>2</th>\n",
       "      <td>1560.0</td>\n",
       "      <td>740.0</td>\n",
       "      <td>257.0</td>\n",
       "      <td>DL</td>\n",
       "      <td>SEA</td>\n",
       "      <td>CVG</td>\n",
       "      <td>7</td>\n",
       "      <td>0</td>\n",
       "      <td>5023</td>\n",
       "      <td>12.20</td>\n",
       "    </tr>\n",
       "    <tr>\n",
       "      <th>3</th>\n",
       "      <td>1156.0</td>\n",
       "      <td>595.0</td>\n",
       "      <td>235.0</td>\n",
       "      <td>WN</td>\n",
       "      <td>SNA</td>\n",
       "      <td>MDW</td>\n",
       "      <td>7</td>\n",
       "      <td>1</td>\n",
       "      <td>3062</td>\n",
       "      <td>09.55</td>\n",
       "    </tr>\n",
       "    <tr>\n",
       "      <th>4</th>\n",
       "      <td>1873.0</td>\n",
       "      <td>530.0</td>\n",
       "      <td>133.0</td>\n",
       "      <td>CO</td>\n",
       "      <td>IAH</td>\n",
       "      <td>MCO</td>\n",
       "      <td>6</td>\n",
       "      <td>1</td>\n",
       "      <td>7167</td>\n",
       "      <td>08.50</td>\n",
       "    </tr>\n",
       "  </tbody>\n",
       "</table>\n",
       "</div>"
      ],
      "text/plain": [
       "   Flight   Time  Length Airline AirportFrom AirportTo  DayOfWeek  Class  \\\n",
       "0   320.0  870.0   180.0     NaN         IAH       PHX          5      0   \n",
       "1  3045.0  365.0    66.0      OO         DSM       MKE          2      0   \n",
       "2  1560.0  740.0   257.0      DL         SEA       CVG          7      0   \n",
       "3  1156.0  595.0   235.0      WN         SNA       MDW          7      1   \n",
       "4  1873.0  530.0   133.0      CO         IAH       MCO          6      1   \n",
       "\n",
       "   unique_id DepartTime  \n",
       "0       2585      14.30  \n",
       "1       2361      06.05  \n",
       "2       5023      12.20  \n",
       "3       3062      09.55  \n",
       "4       7167      08.50  "
      ]
     },
     "execution_count": 52,
     "metadata": {},
     "output_type": "execute_result"
    }
   ],
   "source": [
    "# 3. Menampilkan 5 baris teratas dari dataset \n",
    "df.head(5)"
   ]
  },
  {
   "cell_type": "code",
   "execution_count": 53,
   "id": "e0c8390b-3e2c-4433-821a-6de6756bb1bd",
   "metadata": {},
   "outputs": [],
   "source": [
    "# 6. Pada variabel df_drop1 pilihlah hanya kolom Airline, AirportFrom, AirportTo\n",
    "df_drop1 = df.iloc[:,[3,4,5]] "
   ]
  },
  {
   "cell_type": "code",
   "execution_count": 54,
   "id": "8115fa0f-0ca6-4596-be52-40ab4f3677ec",
   "metadata": {},
   "outputs": [
    {
     "data": {
      "text/html": [
       "<div>\n",
       "<style scoped>\n",
       "    .dataframe tbody tr th:only-of-type {\n",
       "        vertical-align: middle;\n",
       "    }\n",
       "\n",
       "    .dataframe tbody tr th {\n",
       "        vertical-align: top;\n",
       "    }\n",
       "\n",
       "    .dataframe thead th {\n",
       "        text-align: right;\n",
       "    }\n",
       "</style>\n",
       "<table border=\"1\" class=\"dataframe\">\n",
       "  <thead>\n",
       "    <tr style=\"text-align: right;\">\n",
       "      <th></th>\n",
       "      <th>Airline</th>\n",
       "      <th>AirportFrom</th>\n",
       "      <th>AirportTo</th>\n",
       "    </tr>\n",
       "  </thead>\n",
       "  <tbody>\n",
       "    <tr>\n",
       "      <th>0</th>\n",
       "      <td>NaN</td>\n",
       "      <td>IAH</td>\n",
       "      <td>PHX</td>\n",
       "    </tr>\n",
       "    <tr>\n",
       "      <th>1</th>\n",
       "      <td>OO</td>\n",
       "      <td>DSM</td>\n",
       "      <td>MKE</td>\n",
       "    </tr>\n",
       "    <tr>\n",
       "      <th>2</th>\n",
       "      <td>DL</td>\n",
       "      <td>SEA</td>\n",
       "      <td>CVG</td>\n",
       "    </tr>\n",
       "    <tr>\n",
       "      <th>3</th>\n",
       "      <td>WN</td>\n",
       "      <td>SNA</td>\n",
       "      <td>MDW</td>\n",
       "    </tr>\n",
       "    <tr>\n",
       "      <th>4</th>\n",
       "      <td>CO</td>\n",
       "      <td>IAH</td>\n",
       "      <td>MCO</td>\n",
       "    </tr>\n",
       "  </tbody>\n",
       "</table>\n",
       "</div>"
      ],
      "text/plain": [
       "  Airline AirportFrom AirportTo\n",
       "0     NaN         IAH       PHX\n",
       "1      OO         DSM       MKE\n",
       "2      DL         SEA       CVG\n",
       "3      WN         SNA       MDW\n",
       "4      CO         IAH       MCO"
      ]
     },
     "execution_count": 54,
     "metadata": {},
     "output_type": "execute_result"
    }
   ],
   "source": [
    "df_drop1.head()"
   ]
  },
  {
   "cell_type": "code",
   "execution_count": 55,
   "id": "d8a2f4ac-f083-4f3d-aa82-f606801f3775",
   "metadata": {},
   "outputs": [],
   "source": [
    "df_index = df.set_index('Airline')"
   ]
  },
  {
   "cell_type": "code",
   "execution_count": 56,
   "id": "83501970-9db6-42d5-b7a2-e24982362f63",
   "metadata": {},
   "outputs": [
    {
     "data": {
      "text/html": [
       "<div>\n",
       "<style scoped>\n",
       "    .dataframe tbody tr th:only-of-type {\n",
       "        vertical-align: middle;\n",
       "    }\n",
       "\n",
       "    .dataframe tbody tr th {\n",
       "        vertical-align: top;\n",
       "    }\n",
       "\n",
       "    .dataframe thead th {\n",
       "        text-align: right;\n",
       "    }\n",
       "</style>\n",
       "<table border=\"1\" class=\"dataframe\">\n",
       "  <thead>\n",
       "    <tr style=\"text-align: right;\">\n",
       "      <th></th>\n",
       "      <th>Flight</th>\n",
       "      <th>Time</th>\n",
       "      <th>Length</th>\n",
       "      <th>AirportFrom</th>\n",
       "      <th>AirportTo</th>\n",
       "      <th>DayOfWeek</th>\n",
       "      <th>Class</th>\n",
       "      <th>unique_id</th>\n",
       "      <th>DepartTime</th>\n",
       "    </tr>\n",
       "    <tr>\n",
       "      <th>Airline</th>\n",
       "      <th></th>\n",
       "      <th></th>\n",
       "      <th></th>\n",
       "      <th></th>\n",
       "      <th></th>\n",
       "      <th></th>\n",
       "      <th></th>\n",
       "      <th></th>\n",
       "      <th></th>\n",
       "    </tr>\n",
       "  </thead>\n",
       "  <tbody>\n",
       "    <tr>\n",
       "      <th>NaN</th>\n",
       "      <td>320.0</td>\n",
       "      <td>870.0</td>\n",
       "      <td>180.0</td>\n",
       "      <td>IAH</td>\n",
       "      <td>PHX</td>\n",
       "      <td>5</td>\n",
       "      <td>0</td>\n",
       "      <td>2585</td>\n",
       "      <td>14.30</td>\n",
       "    </tr>\n",
       "    <tr>\n",
       "      <th>OO</th>\n",
       "      <td>3045.0</td>\n",
       "      <td>365.0</td>\n",
       "      <td>66.0</td>\n",
       "      <td>DSM</td>\n",
       "      <td>MKE</td>\n",
       "      <td>2</td>\n",
       "      <td>0</td>\n",
       "      <td>2361</td>\n",
       "      <td>06.05</td>\n",
       "    </tr>\n",
       "    <tr>\n",
       "      <th>DL</th>\n",
       "      <td>1560.0</td>\n",
       "      <td>740.0</td>\n",
       "      <td>257.0</td>\n",
       "      <td>SEA</td>\n",
       "      <td>CVG</td>\n",
       "      <td>7</td>\n",
       "      <td>0</td>\n",
       "      <td>5023</td>\n",
       "      <td>12.20</td>\n",
       "    </tr>\n",
       "    <tr>\n",
       "      <th>WN</th>\n",
       "      <td>1156.0</td>\n",
       "      <td>595.0</td>\n",
       "      <td>235.0</td>\n",
       "      <td>SNA</td>\n",
       "      <td>MDW</td>\n",
       "      <td>7</td>\n",
       "      <td>1</td>\n",
       "      <td>3062</td>\n",
       "      <td>09.55</td>\n",
       "    </tr>\n",
       "    <tr>\n",
       "      <th>CO</th>\n",
       "      <td>1873.0</td>\n",
       "      <td>530.0</td>\n",
       "      <td>133.0</td>\n",
       "      <td>IAH</td>\n",
       "      <td>MCO</td>\n",
       "      <td>6</td>\n",
       "      <td>1</td>\n",
       "      <td>7167</td>\n",
       "      <td>08.50</td>\n",
       "    </tr>\n",
       "  </tbody>\n",
       "</table>\n",
       "</div>"
      ],
      "text/plain": [
       "         Flight   Time  Length AirportFrom AirportTo  DayOfWeek  Class  \\\n",
       "Airline                                                                  \n",
       "NaN       320.0  870.0   180.0         IAH       PHX          5      0   \n",
       "OO       3045.0  365.0    66.0         DSM       MKE          2      0   \n",
       "DL       1560.0  740.0   257.0         SEA       CVG          7      0   \n",
       "WN       1156.0  595.0   235.0         SNA       MDW          7      1   \n",
       "CO       1873.0  530.0   133.0         IAH       MCO          6      1   \n",
       "\n",
       "         unique_id DepartTime  \n",
       "Airline                        \n",
       "NaN           2585      14.30  \n",
       "OO            2361      06.05  \n",
       "DL            5023      12.20  \n",
       "WN            3062      09.55  \n",
       "CO            7167      08.50  "
      ]
     },
     "execution_count": 56,
     "metadata": {},
     "output_type": "execute_result"
    }
   ],
   "source": [
    "df_index.head()"
   ]
  },
  {
   "cell_type": "code",
   "execution_count": 57,
   "id": "321ee411-05ff-42ec-bff2-6056302ffaf8",
   "metadata": {},
   "outputs": [],
   "source": [
    "# 13. Mengubah format kolom Time ke dalam Jam dan Menit\n",
    "Time = pd.to_datetime(df_index.Time, unit='m').dt.strftime('%H.%M')"
   ]
  },
  {
   "cell_type": "code",
   "execution_count": 58,
   "id": "cd8846d4-c5e0-48d8-b181-cc67778b68ba",
   "metadata": {},
   "outputs": [],
   "source": [
    "# 14. Membuat kolom baru dengan nama DepartTime dengan isi datanya berasal dari variabel Time\n",
    "df_index['DepartTime'] = Time"
   ]
  },
  {
   "cell_type": "code",
   "execution_count": 59,
   "id": "2c2a3332-a0ff-444d-a3ec-ef090e30992c",
   "metadata": {},
   "outputs": [
    {
     "data": {
      "text/html": [
       "<div>\n",
       "<style scoped>\n",
       "    .dataframe tbody tr th:only-of-type {\n",
       "        vertical-align: middle;\n",
       "    }\n",
       "\n",
       "    .dataframe tbody tr th {\n",
       "        vertical-align: top;\n",
       "    }\n",
       "\n",
       "    .dataframe thead th {\n",
       "        text-align: right;\n",
       "    }\n",
       "</style>\n",
       "<table border=\"1\" class=\"dataframe\">\n",
       "  <thead>\n",
       "    <tr style=\"text-align: right;\">\n",
       "      <th></th>\n",
       "      <th>Flight</th>\n",
       "      <th>Time</th>\n",
       "      <th>Length</th>\n",
       "      <th>AirportFrom</th>\n",
       "      <th>AirportTo</th>\n",
       "      <th>DayOfWeek</th>\n",
       "      <th>Class</th>\n",
       "      <th>unique_id</th>\n",
       "      <th>DepartTime</th>\n",
       "    </tr>\n",
       "    <tr>\n",
       "      <th>Airline</th>\n",
       "      <th></th>\n",
       "      <th></th>\n",
       "      <th></th>\n",
       "      <th></th>\n",
       "      <th></th>\n",
       "      <th></th>\n",
       "      <th></th>\n",
       "      <th></th>\n",
       "      <th></th>\n",
       "    </tr>\n",
       "  </thead>\n",
       "  <tbody>\n",
       "    <tr>\n",
       "      <th>NaN</th>\n",
       "      <td>320.0</td>\n",
       "      <td>870.0</td>\n",
       "      <td>180.0</td>\n",
       "      <td>IAH</td>\n",
       "      <td>PHX</td>\n",
       "      <td>5</td>\n",
       "      <td>0</td>\n",
       "      <td>2585</td>\n",
       "      <td>14.30</td>\n",
       "    </tr>\n",
       "    <tr>\n",
       "      <th>OO</th>\n",
       "      <td>3045.0</td>\n",
       "      <td>365.0</td>\n",
       "      <td>66.0</td>\n",
       "      <td>DSM</td>\n",
       "      <td>MKE</td>\n",
       "      <td>2</td>\n",
       "      <td>0</td>\n",
       "      <td>2361</td>\n",
       "      <td>06.05</td>\n",
       "    </tr>\n",
       "    <tr>\n",
       "      <th>DL</th>\n",
       "      <td>1560.0</td>\n",
       "      <td>740.0</td>\n",
       "      <td>257.0</td>\n",
       "      <td>SEA</td>\n",
       "      <td>CVG</td>\n",
       "      <td>7</td>\n",
       "      <td>0</td>\n",
       "      <td>5023</td>\n",
       "      <td>12.20</td>\n",
       "    </tr>\n",
       "    <tr>\n",
       "      <th>WN</th>\n",
       "      <td>1156.0</td>\n",
       "      <td>595.0</td>\n",
       "      <td>235.0</td>\n",
       "      <td>SNA</td>\n",
       "      <td>MDW</td>\n",
       "      <td>7</td>\n",
       "      <td>1</td>\n",
       "      <td>3062</td>\n",
       "      <td>09.55</td>\n",
       "    </tr>\n",
       "    <tr>\n",
       "      <th>CO</th>\n",
       "      <td>1873.0</td>\n",
       "      <td>530.0</td>\n",
       "      <td>133.0</td>\n",
       "      <td>IAH</td>\n",
       "      <td>MCO</td>\n",
       "      <td>6</td>\n",
       "      <td>1</td>\n",
       "      <td>7167</td>\n",
       "      <td>08.50</td>\n",
       "    </tr>\n",
       "  </tbody>\n",
       "</table>\n",
       "</div>"
      ],
      "text/plain": [
       "         Flight   Time  Length AirportFrom AirportTo  DayOfWeek  Class  \\\n",
       "Airline                                                                  \n",
       "NaN       320.0  870.0   180.0         IAH       PHX          5      0   \n",
       "OO       3045.0  365.0    66.0         DSM       MKE          2      0   \n",
       "DL       1560.0  740.0   257.0         SEA       CVG          7      0   \n",
       "WN       1156.0  595.0   235.0         SNA       MDW          7      1   \n",
       "CO       1873.0  530.0   133.0         IAH       MCO          6      1   \n",
       "\n",
       "         unique_id DepartTime  \n",
       "Airline                        \n",
       "NaN           2585      14.30  \n",
       "OO            2361      06.05  \n",
       "DL            5023      12.20  \n",
       "WN            3062      09.55  \n",
       "CO            7167      08.50  "
      ]
     },
     "execution_count": 59,
     "metadata": {},
     "output_type": "execute_result"
    }
   ],
   "source": [
    "df_index.head()"
   ]
  },
  {
   "cell_type": "code",
   "execution_count": 60,
   "id": "eced191c-5bb0-4672-8076-26546ccdc3d5",
   "metadata": {},
   "outputs": [
    {
     "data": {
      "text/plain": [
       "DepartTime\n",
       "00.15    1\n",
       "00.30    0\n",
       "00.35    1\n",
       "00.40    1\n",
       "00.49    0\n",
       "Name: Class, dtype: int64"
      ]
     },
     "execution_count": 60,
     "metadata": {},
     "output_type": "execute_result"
    }
   ],
   "source": [
    "# 15. Menghitung jumlah penerbangan dalam 24 jam\n",
    "Time_Flight_Count = df_index.groupby('DepartTime').sum(numeric_only=True)['Class'].sort_index()\n",
    "Time_Flight_Count.head()"
   ]
  },
  {
   "cell_type": "code",
   "execution_count": 61,
   "id": "99e84f36-3c45-4924-b7c6-d26e8d82907d",
   "metadata": {},
   "outputs": [
    {
     "data": {
      "text/plain": [
       "DepartTime\n",
       "06.00    42\n",
       "07.00    37\n",
       "19.00    36\n",
       "17.00    35\n",
       "12.00    34\n",
       "19.05    33\n",
       "16.00    33\n",
       "11.40    32\n",
       "14.45    31\n",
       "12.05    31\n",
       "10.00    30\n",
       "11.45    29\n",
       "17.30    29\n",
       "18.15    28\n",
       "15.30    28\n",
       "11.55    27\n",
       "20.00    27\n",
       "15.15    27\n",
       "19.10    27\n",
       "17.35    27\n",
       "Name: Class, dtype: int64"
      ]
     },
     "execution_count": 61,
     "metadata": {},
     "output_type": "execute_result"
    }
   ],
   "source": [
    "# 16. Mengurutkan 20 data dari jumlah penerbangan terbanyak\n",
    "Time_Flight_Count.sort_values(ascending=False).head(20)"
   ]
  },
  {
   "cell_type": "code",
   "execution_count": 62,
   "id": "741306f3-3017-4ebe-a266-133c1b416107",
   "metadata": {},
   "outputs": [],
   "source": [
    "# 17. Mengimport library pyplot\n",
    "import matplotlib.pyplot as plt"
   ]
  },
  {
   "cell_type": "code",
   "execution_count": 63,
   "id": "7a856b22-48b1-46a2-90fb-81107e7e54ef",
   "metadata": {},
   "outputs": [
    {
     "data": {
      "image/png": "[encoded data removed]",
      "text/plain": [
       "<Figure size 1080x720 with 1 Axes>"
      ]
     },
     "metadata": {
      "needs_background": "light"
     },
     "output_type": "display_data"
    }
   ],
   "source": [
    "# 18. Mengatur ukuran gambar\n",
    "plt.figure(figsize=(15, 10))\n",
    "\n",
    "# 19. Melakukan plot data\n",
    "Time_Flight_Count.plot()\n",
    "\n",
    "# 20. Mengatur label sumbu x\n",
    "ticks = range(0, len(Time_Flight_Count.index), 30)  # Menentukan posisi label setiap setengah jam\n",
    "labels = Time_Flight_Count.index[ticks]  # Mengambil label berdasarkan posisi\n",
    "plt.xticks(rotation=90) # Mengatur posisi rotasi label pada sumbu x\n",
    "plt.xticks(ticks, labels)  # Mengatur posisi dan label pada sumbu x\n",
    "\n",
    "# 21. Mengatur label sumbu x, y dan judul grafik\n",
    "plt.xlabel('label_x')\n",
    "plt.ylabel('label_y')\n",
    "plt.title('judul_grafik')\n",
    "\n",
    "\n",
    "# 22. Menampilkan grafik\n",
    "plt.show()"
   ]
  },
  {
   "cell_type": "code",
   "execution_count": 64,
   "id": "62e966b4-ab1a-4e9b-92d2-4be8e356a40f",
   "metadata": {},
   "outputs": [],
   "source": [
    "df_cuy = pd.read_csv('dataset_tm_10k.csv')"
   ]
  },
  {
   "cell_type": "code",
   "execution_count": 65,
   "id": "ec72a462-2d4a-46a0-94d0-7bd59e05db5d",
   "metadata": {},
   "outputs": [
    {
     "data": {
      "text/plain": [
       "Flight            0\n",
       "Time            873\n",
       "Length         1343\n",
       "Airline         582\n",
       "AirportFrom       0\n",
       "AirportTo         0\n",
       "DayOfWeek         0\n",
       "Class             0\n",
       "dtype: int64"
      ]
     },
     "execution_count": 65,
     "metadata": {},
     "output_type": "execute_result"
    }
   ],
   "source": [
    "df_cuy.isna().sum()"
   ]
  },
  {
   "cell_type": "code",
   "execution_count": 66,
   "id": "eb1fb334-7638-4ef1-afc1-03db6d0c9cee",
   "metadata": {},
   "outputs": [],
   "source": [
    "# Membuat variabel jumlah data yang akan dihapus secara random\n",
    "jumlah_hapus = 3012"
   ]
  },
  {
   "cell_type": "code",
   "execution_count": 67,
   "id": "cba94020-bc6e-43ec-86cc-a0877878f683",
   "metadata": {},
   "outputs": [],
   "source": [
    "# Membuat variabel untuk menampung indeks dari data yang akan dihapus\n",
    "indeks_hapus = df_cuy.sample(n=jumlah_hapus).index"
   ]
  },
  {
   "cell_type": "code",
   "execution_count": 68,
   "id": "62a82570-8ef7-417d-82aa-64f601c302f8",
   "metadata": {},
   "outputs": [],
   "source": [
    "df_cuy.loc[indeks_hapus, 'Time'] = None"
   ]
  },
  {
   "cell_type": "code",
   "execution_count": 69,
   "id": "a31c3168-cbff-436b-9f25-cedbcd5b618c",
   "metadata": {},
   "outputs": [
    {
     "data": {
      "text/plain": [
       "Flight            0\n",
       "Time           3650\n",
       "Length         1343\n",
       "Airline         582\n",
       "AirportFrom       0\n",
       "AirportTo         0\n",
       "DayOfWeek         0\n",
       "Class             0\n",
       "dtype: int64"
      ]
     },
     "execution_count": 69,
     "metadata": {},
     "output_type": "execute_result"
    }
   ],
   "source": [
    "# Menghitung nilai data yang kosong\n",
    "df_cuy.isna().sum()"
   ]
  },
  {
   "cell_type": "code",
   "execution_count": 70,
   "id": "0649dc9d-f539-4bee-af95-d5cd239ab72c",
   "metadata": {},
   "outputs": [
    {
     "data": {
      "text/plain": [
       "33.83702604987485"
      ]
     },
     "execution_count": 70,
     "metadata": {},
     "output_type": "execute_result"
    }
   ],
   "source": [
    "# Menghitung persentase data yang kosong pada kolom \"Length\"\n",
    "length_missdata_percentage = (df_cuy['Time'].isnull().sum() / df_cuy.shape[0]) * 100\n",
    "length_missdata_percentage"
   ]
  },
  {
   "cell_type": "code",
   "execution_count": 71,
   "id": "741a4ed7-3b66-40de-9b71-9611afb62eb5",
   "metadata": {},
   "outputs": [
    {
     "data": {
      "text/plain": [
       "802.1083088132268"
      ]
     },
     "execution_count": 71,
     "metadata": {},
     "output_type": "execute_result"
    }
   ],
   "source": [
    "# Melakukan imputasi pada data yang kosong dengan menggunakan imputasi rata-rata\n",
    "meanImputation = df_cuy['Time'].mean() #Membuat variabel meanImputation untuk menampung nilai rata-rata dari kolom \"Length\"\n",
    "meanImputation"
   ]
  },
  {
   "cell_type": "code",
   "execution_count": 72,
   "id": "12994264-ce6e-4450-87b5-420005d15ae1",
   "metadata": {},
   "outputs": [],
   "source": [
    "df_cuy['Time'].fillna(meanImputation,\n",
    "                    inplace=True)"
   ]
  },
  {
   "cell_type": "code",
   "execution_count": 73,
   "id": "171af6b1-9697-40b4-914f-11be537e7163",
   "metadata": {},
   "outputs": [],
   "source": [
    "jumlah_hapus = 632"
   ]
  },
  {
   "cell_type": "code",
   "execution_count": 74,
   "id": "cf42f7f1-d581-44fe-9cc7-900c04d6417c",
   "metadata": {},
   "outputs": [],
   "source": [
    "indeks_hapus = df_cuy.sample(n=jumlah_hapus).index"
   ]
  },
  {
   "cell_type": "code",
   "execution_count": 75,
   "id": "8a3d9f22-1427-4a4a-8958-4cda7c7e8adc",
   "metadata": {},
   "outputs": [],
   "source": [
    "# Membuat baris menjadi nilai None atau Menghapus baris sesuai dengan indeks yang dideklarasikan di variabel indeks_hapus dan pada kolom \"Length\"\n",
    "df_cuy.loc[indeks_hapus, 'Time'] = None"
   ]
  },
  {
   "cell_type": "code",
   "execution_count": 76,
   "id": "27535c7b-c434-4804-a82d-9edaaad80dbb",
   "metadata": {},
   "outputs": [
    {
     "data": {
      "text/plain": [
       "Flight            0\n",
       "Time            632\n",
       "Length         1343\n",
       "Airline         582\n",
       "AirportFrom       0\n",
       "AirportTo         0\n",
       "DayOfWeek         0\n",
       "Class             0\n",
       "dtype: int64"
      ]
     },
     "execution_count": 76,
     "metadata": {},
     "output_type": "execute_result"
    }
   ],
   "source": [
    "# Mengecek nilai data yang kosong\n",
    "df_cuy.isna().sum()"
   ]
  },
  {
   "cell_type": "code",
   "execution_count": 77,
   "id": "5852ab6c-764d-4bd4-bfb5-b923831c5938",
   "metadata": {},
   "outputs": [
    {
     "data": {
      "text/plain": [
       "5.858904236581069"
      ]
     },
     "execution_count": 77,
     "metadata": {},
     "output_type": "execute_result"
    }
   ],
   "source": [
    "# Menghitung persentase data yang kosong pada kolom \"Length\"\n",
    "length_missdata_percentage = (df_cuy['Time'].isnull().sum() / df_cuy.shape[0]) * 100\n",
    "length_missdata_percentage"
   ]
  },
  {
   "cell_type": "code",
   "execution_count": 78,
   "id": "8e20fbae-c2f4-46b1-b286-3e0770971896",
   "metadata": {},
   "outputs": [
    {
     "data": {
      "text/plain": [
       "802.1083088132268"
      ]
     },
     "execution_count": 78,
     "metadata": {},
     "output_type": "execute_result"
    }
   ],
   "source": [
    "# Melakukan imputasi pada data yang kosong dengan menggunakan imputasi median\n",
    "medianImputation = df_cuy['Time'].median()\n",
    "medianImputation"
   ]
  },
  {
   "cell_type": "code",
   "execution_count": 79,
   "id": "2a425934-486b-44a1-aa43-22456d28900e",
   "metadata": {},
   "outputs": [],
   "source": [
    "# Mengisi nilai kosong dengan median\n",
    "df_cuy['Time'].fillna(medianImputation, inplace=True)"
   ]
  },
  {
   "cell_type": "code",
   "execution_count": 80,
   "id": "a03a9eb8-e3ee-4f84-80a1-03231154c0d6",
   "metadata": {},
   "outputs": [
    {
     "data": {
      "text/plain": [
       "False"
      ]
     },
     "execution_count": 80,
     "metadata": {},
     "output_type": "execute_result"
    }
   ],
   "source": [
    "# Mengecek data kosong pada kolom Length\n",
    "df_cuy['Time'].isnull().any()"
   ]
  },
  {
   "cell_type": "markdown",
   "id": "aa5449d4-2c27-46ca-a76f-82155580188b",
   "metadata": {},
   "source": [
    "Clear Data NaN in Column Length"
   ]
  },
  {
   "cell_type": "code",
   "execution_count": 81,
   "id": "73a3b887-bccd-4a2d-bead-44997925885f",
   "metadata": {},
   "outputs": [],
   "source": [
    "# Membuat variabel jumlah data yang akan dihapus secara random\n",
    "jumlah_hapus = 3012"
   ]
  },
  {
   "cell_type": "code",
   "execution_count": 82,
   "id": "c944fefd-877d-4087-929e-75f036433dd3",
   "metadata": {},
   "outputs": [],
   "source": [
    "# Membuat variabel untuk menampung indeks dari data yang akan dihapus\n",
    "indeks_hapus = df_cuy.sample(n=jumlah_hapus).index"
   ]
  },
  {
   "cell_type": "code",
   "execution_count": 83,
   "id": "5ea6dc40-5d3d-4d81-bf65-300cee1af513",
   "metadata": {},
   "outputs": [],
   "source": [
    "df_cuy.loc[indeks_hapus, 'Length'] = None"
   ]
  },
  {
   "cell_type": "code",
   "execution_count": 84,
   "id": "ca4f876a-db3b-4d20-92b3-47b1fe90c0c4",
   "metadata": {},
   "outputs": [
    {
     "data": {
      "text/plain": [
       "Flight            0\n",
       "Time              0\n",
       "Length         3985\n",
       "Airline         582\n",
       "AirportFrom       0\n",
       "AirportTo         0\n",
       "DayOfWeek         0\n",
       "Class             0\n",
       "dtype: int64"
      ]
     },
     "execution_count": 84,
     "metadata": {},
     "output_type": "execute_result"
    }
   ],
   "source": [
    "df_cuy.isna().sum()"
   ]
  },
  {
   "cell_type": "code",
   "execution_count": 85,
   "id": "3747dfb9-c712-47ef-a621-fd4e3aa9e4d9",
   "metadata": {},
   "outputs": [
    {
     "data": {
      "text/plain": [
       "36.942616111986645"
      ]
     },
     "execution_count": 85,
     "metadata": {},
     "output_type": "execute_result"
    }
   ],
   "source": [
    "# Menghitung persentase data yang kosong pada kolom \"Length\"\n",
    "length_missdata_percentage = (df_cuy['Length'].isnull().sum() / df_cuy.shape[0]) * 100\n",
    "length_missdata_percentage"
   ]
  },
  {
   "cell_type": "code",
   "execution_count": 86,
   "id": "58b92bb4-6fd2-4798-8f9a-9b4f7fd5185c",
   "metadata": {},
   "outputs": [
    {
     "data": {
      "text/plain": [
       "133.105998235813"
      ]
     },
     "execution_count": 86,
     "metadata": {},
     "output_type": "execute_result"
    }
   ],
   "source": [
    "# Melakukan imputasi pada data yang kosong dengan menggunakan imputasi rata-rata\n",
    "meanImputation = df_cuy['Length'].mean() #Membuat variabel meanImputation untuk menampung nilai rata-rata dari kolom \"Length\"\n",
    "meanImputation"
   ]
  },
  {
   "cell_type": "code",
   "execution_count": 87,
   "id": "533d0007-e452-4a07-aed9-9513a5abe0c4",
   "metadata": {},
   "outputs": [],
   "source": [
    "df_cuy['Length'].fillna(meanImputation,\n",
    "                    inplace=True)"
   ]
  },
  {
   "cell_type": "code",
   "execution_count": 88,
   "id": "bc362b7d-9d8c-4134-9067-91cc3cf54fd6",
   "metadata": {},
   "outputs": [],
   "source": [
    "jumlah_hapus = 632"
   ]
  },
  {
   "cell_type": "code",
   "execution_count": 89,
   "id": "fe6d50dc-9da5-4242-a175-da7ef0691c99",
   "metadata": {},
   "outputs": [],
   "source": [
    "indeks_hapus = df_cuy.sample(n=jumlah_hapus).index"
   ]
  },
  {
   "cell_type": "code",
   "execution_count": 90,
   "id": "97c71f66-eff7-4fc0-9c71-4729cbe74706",
   "metadata": {},
   "outputs": [],
   "source": [
    "# Membuat baris menjadi nilai None atau Menghapus baris sesuai dengan indeks yang dideklarasikan di variabel indeks_hapus dan pada kolom \"Length\"\n",
    "df_cuy.loc[indeks_hapus, 'Length'] = None"
   ]
  },
  {
   "cell_type": "code",
   "execution_count": 91,
   "id": "3d10dbe7-5864-45c8-b359-682cb4b81ed9",
   "metadata": {},
   "outputs": [
    {
     "data": {
      "text/plain": [
       "Flight           0\n",
       "Time             0\n",
       "Length         632\n",
       "Airline        582\n",
       "AirportFrom      0\n",
       "AirportTo        0\n",
       "DayOfWeek        0\n",
       "Class            0\n",
       "dtype: int64"
      ]
     },
     "execution_count": 91,
     "metadata": {},
     "output_type": "execute_result"
    }
   ],
   "source": [
    "# Mengecek nilai data yang kosong\n",
    "df_cuy.isna().sum()"
   ]
  },
  {
   "cell_type": "code",
   "execution_count": 92,
   "id": "08fc94d3-bc82-4974-9e31-b9f96bb8abf1",
   "metadata": {},
   "outputs": [
    {
     "data": {
      "text/plain": [
       "5.858904236581069"
      ]
     },
     "execution_count": 92,
     "metadata": {},
     "output_type": "execute_result"
    }
   ],
   "source": [
    "# Menghitung persentase data yang kosong pada kolom \"Length\"\n",
    "length_missdata_percentage = (df_cuy['Length'].isnull().sum() / df_cuy.shape[0]) * 100\n",
    "length_missdata_percentage"
   ]
  },
  {
   "cell_type": "code",
   "execution_count": 93,
   "id": "db70fc43-4b2e-4ac8-8884-75d43c07e6d6",
   "metadata": {},
   "outputs": [
    {
     "data": {
      "text/plain": [
       "133.105998235813"
      ]
     },
     "execution_count": 93,
     "metadata": {},
     "output_type": "execute_result"
    }
   ],
   "source": [
    "# Melakukan imputasi pada data yang kosong dengan menggunakan imputasi median\n",
    "medianImputation = df_cuy['Length'].median()\n",
    "medianImputation"
   ]
  },
  {
   "cell_type": "code",
   "execution_count": 94,
   "id": "48936fb1-d9f3-4719-8799-2dd3b54c1cfd",
   "metadata": {},
   "outputs": [],
   "source": [
    "# Mengisi nilai kosong dengan median\n",
    "df_cuy['Length'].fillna(medianImputation, inplace=True)"
   ]
  },
  {
   "cell_type": "code",
   "execution_count": 95,
   "id": "1d339ee2-431a-4f97-a7fa-928c07544776",
   "metadata": {},
   "outputs": [
    {
     "data": {
      "text/plain": [
       "False"
      ]
     },
     "execution_count": 95,
     "metadata": {},
     "output_type": "execute_result"
    }
   ],
   "source": [
    "# Mengecek data kosong pada kolom Length\n",
    "df_cuy['Length'].isnull().any()"
   ]
  },
  {
   "cell_type": "code",
   "execution_count": null,
   "id": "556fd6b6-ee5f-43d9-808b-765d8f6afa9e",
   "metadata": {},
   "outputs": [],
   "source": []
  },
  {
   "cell_type": "markdown",
   "id": "e28f0e78-598a-4039-ad31-cbb224da56cc",
   "metadata": {},
   "source": [
    "Data Modeling"
   ]
  },
  {
   "cell_type": "code",
   "execution_count": null,
   "id": "a136d32f-f802-41b2-9ff3-ceefaccf00c7",
   "metadata": {},
   "outputs": [],
   "source": []
  },
  {
   "cell_type": "markdown",
   "id": "a0d1d0e9-67a2-40ad-9209-734cf7fcae74",
   "metadata": {},
   "source": [
    "Linear Regression"
   ]
  },
  {
   "cell_type": "code",
   "execution_count": 96,
   "id": "fe8e8174-b714-4129-bfab-c8fb575ac519",
   "metadata": {},
   "outputs": [],
   "source": [
    "# Import Library\n",
    "import pandas as pd"
   ]
  },
  {
   "cell_type": "code",
   "execution_count": 97,
   "id": "5299c9b1-a723-448b-8e42-8ba7c0898909",
   "metadata": {},
   "outputs": [],
   "source": [
    "# Membuang Kolom \"Flight\"\n",
    "df_cuy = df_cuy.iloc[:,1:]"
   ]
  },
  {
   "cell_type": "code",
   "execution_count": 98,
   "id": "f4734bfb-c9cd-4da5-9ff6-dc9f8b4649bb",
   "metadata": {},
   "outputs": [
    {
     "data": {
      "text/html": [
       "<div>\n",
       "<style scoped>\n",
       "    .dataframe tbody tr th:only-of-type {\n",
       "        vertical-align: middle;\n",
       "    }\n",
       "\n",
       "    .dataframe tbody tr th {\n",
       "        vertical-align: top;\n",
       "    }\n",
       "\n",
       "    .dataframe thead th {\n",
       "        text-align: right;\n",
       "    }\n",
       "</style>\n",
       "<table border=\"1\" class=\"dataframe\">\n",
       "  <thead>\n",
       "    <tr style=\"text-align: right;\">\n",
       "      <th></th>\n",
       "      <th>Time</th>\n",
       "      <th>Length</th>\n",
       "      <th>Airline</th>\n",
       "      <th>AirportFrom</th>\n",
       "      <th>AirportTo</th>\n",
       "      <th>DayOfWeek</th>\n",
       "      <th>Class</th>\n",
       "    </tr>\n",
       "  </thead>\n",
       "  <tbody>\n",
       "    <tr>\n",
       "      <th>0</th>\n",
       "      <td>802.108309</td>\n",
       "      <td>133.105998</td>\n",
       "      <td>NaN</td>\n",
       "      <td>IAH</td>\n",
       "      <td>PHX</td>\n",
       "      <td>5</td>\n",
       "      <td>0</td>\n",
       "    </tr>\n",
       "    <tr>\n",
       "      <th>1</th>\n",
       "      <td>802.108309</td>\n",
       "      <td>66.000000</td>\n",
       "      <td>OO</td>\n",
       "      <td>DSM</td>\n",
       "      <td>MKE</td>\n",
       "      <td>2</td>\n",
       "      <td>0</td>\n",
       "    </tr>\n",
       "    <tr>\n",
       "      <th>2</th>\n",
       "      <td>802.108309</td>\n",
       "      <td>133.105998</td>\n",
       "      <td>DL</td>\n",
       "      <td>SEA</td>\n",
       "      <td>CVG</td>\n",
       "      <td>7</td>\n",
       "      <td>0</td>\n",
       "    </tr>\n",
       "    <tr>\n",
       "      <th>3</th>\n",
       "      <td>595.000000</td>\n",
       "      <td>133.105998</td>\n",
       "      <td>WN</td>\n",
       "      <td>SNA</td>\n",
       "      <td>MDW</td>\n",
       "      <td>7</td>\n",
       "      <td>1</td>\n",
       "    </tr>\n",
       "    <tr>\n",
       "      <th>4</th>\n",
       "      <td>530.000000</td>\n",
       "      <td>133.105998</td>\n",
       "      <td>CO</td>\n",
       "      <td>IAH</td>\n",
       "      <td>MCO</td>\n",
       "      <td>6</td>\n",
       "      <td>1</td>\n",
       "    </tr>\n",
       "  </tbody>\n",
       "</table>\n",
       "</div>"
      ],
      "text/plain": [
       "         Time      Length Airline AirportFrom AirportTo  DayOfWeek  Class\n",
       "0  802.108309  133.105998     NaN         IAH       PHX          5      0\n",
       "1  802.108309   66.000000      OO         DSM       MKE          2      0\n",
       "2  802.108309  133.105998      DL         SEA       CVG          7      0\n",
       "3  595.000000  133.105998      WN         SNA       MDW          7      1\n",
       "4  530.000000  133.105998      CO         IAH       MCO          6      1"
      ]
     },
     "execution_count": 98,
     "metadata": {},
     "output_type": "execute_result"
    }
   ],
   "source": [
    "df_cuy.head()"
   ]
  },
  {
   "cell_type": "code",
   "execution_count": 99,
   "id": "4f31a767-76f0-46dc-984b-d9a176654664",
   "metadata": {},
   "outputs": [],
   "source": [
    "# Scaling\n",
    "from sklearn.preprocessing import RobustScaler"
   ]
  },
  {
   "cell_type": "code",
   "execution_count": 100,
   "id": "9f4eba2b-f585-486a-a37a-b44d7fd898f3",
   "metadata": {},
   "outputs": [
    {
     "data": {
      "text/html": [
       "<div>\n",
       "<style scoped>\n",
       "    .dataframe tbody tr th:only-of-type {\n",
       "        vertical-align: middle;\n",
       "    }\n",
       "\n",
       "    .dataframe tbody tr th {\n",
       "        vertical-align: top;\n",
       "    }\n",
       "\n",
       "    .dataframe thead th {\n",
       "        text-align: right;\n",
       "    }\n",
       "</style>\n",
       "<table border=\"1\" class=\"dataframe\">\n",
       "  <thead>\n",
       "    <tr style=\"text-align: right;\">\n",
       "      <th></th>\n",
       "      <th>Time</th>\n",
       "      <th>Length</th>\n",
       "      <th>Airline</th>\n",
       "      <th>AirportFrom</th>\n",
       "      <th>AirportTo</th>\n",
       "      <th>DayOfWeek</th>\n",
       "      <th>Class</th>\n",
       "    </tr>\n",
       "  </thead>\n",
       "  <tbody>\n",
       "    <tr>\n",
       "      <th>0</th>\n",
       "      <td>0.000000</td>\n",
       "      <td>0.000000</td>\n",
       "      <td>NaN</td>\n",
       "      <td>IAH</td>\n",
       "      <td>PHX</td>\n",
       "      <td>5</td>\n",
       "      <td>0</td>\n",
       "    </tr>\n",
       "    <tr>\n",
       "      <th>1</th>\n",
       "      <td>0.000000</td>\n",
       "      <td>-2.228991</td>\n",
       "      <td>OO</td>\n",
       "      <td>DSM</td>\n",
       "      <td>MKE</td>\n",
       "      <td>2</td>\n",
       "      <td>0</td>\n",
       "    </tr>\n",
       "    <tr>\n",
       "      <th>2</th>\n",
       "      <td>0.000000</td>\n",
       "      <td>0.000000</td>\n",
       "      <td>DL</td>\n",
       "      <td>SEA</td>\n",
       "      <td>CVG</td>\n",
       "      <td>7</td>\n",
       "      <td>0</td>\n",
       "    </tr>\n",
       "    <tr>\n",
       "      <th>3</th>\n",
       "      <td>-1.141093</td>\n",
       "      <td>0.000000</td>\n",
       "      <td>WN</td>\n",
       "      <td>SNA</td>\n",
       "      <td>MDW</td>\n",
       "      <td>7</td>\n",
       "      <td>1</td>\n",
       "    </tr>\n",
       "    <tr>\n",
       "      <th>4</th>\n",
       "      <td>-1.499219</td>\n",
       "      <td>0.000000</td>\n",
       "      <td>CO</td>\n",
       "      <td>IAH</td>\n",
       "      <td>MCO</td>\n",
       "      <td>6</td>\n",
       "      <td>1</td>\n",
       "    </tr>\n",
       "  </tbody>\n",
       "</table>\n",
       "</div>"
      ],
      "text/plain": [
       "       Time    Length Airline AirportFrom AirportTo  DayOfWeek  Class\n",
       "0  0.000000  0.000000     NaN         IAH       PHX          5      0\n",
       "1  0.000000 -2.228991      OO         DSM       MKE          2      0\n",
       "2  0.000000  0.000000      DL         SEA       CVG          7      0\n",
       "3 -1.141093  0.000000      WN         SNA       MDW          7      1\n",
       "4 -1.499219  0.000000      CO         IAH       MCO          6      1"
      ]
     },
     "execution_count": 100,
     "metadata": {},
     "output_type": "execute_result"
    }
   ],
   "source": [
    "scaler = RobustScaler()\n",
    "df_cuy[['Time','Length']] = scaler.fit_transform(df_cuy[['Time','Length']])\n",
    "df_cuy.head()"
   ]
  },
  {
   "cell_type": "code",
   "execution_count": 101,
   "id": "9281f718-e04f-4ccc-b3cb-f63d9915095e",
   "metadata": {},
   "outputs": [],
   "source": [
    "# Membuat variabel independen (X) dan variabel dependen (y)\n",
    "X = df_cuy[['Time']]\n",
    "y = df_cuy['Class']"
   ]
  },
  {
   "cell_type": "code",
   "execution_count": 102,
   "id": "599fe9bb-cbd6-4448-8a67-9bff2663cffa",
   "metadata": {},
   "outputs": [],
   "source": [
    "# Membagi dataset ke data latih dan data uji\n",
    "\n",
    "# Import fungsi train_test_split untuk membagi data dari libray sklearn dan modul model_selection\n",
    "from sklearn.model_selection import train_test_split\n",
    "\n",
    "X_train, X_test, y_train, y_test = train_test_split(X,y,test_size=0.3, random_state=0)"
   ]
  },
  {
   "cell_type": "code",
   "execution_count": 103,
   "id": "995af5af-6a48-4131-b2a7-cf4714875b58",
   "metadata": {},
   "outputs": [],
   "source": [
    "# Memanggil fungsi LinearRegression\n",
    "from sklearn.linear_model import LinearRegression"
   ]
  },
  {
   "cell_type": "code",
   "execution_count": 104,
   "id": "c779fc48-3de3-420d-bedb-89c46f24d136",
   "metadata": {},
   "outputs": [
    {
     "data": {
      "text/html": [
       "<style>#sk-container-id-1 {color: black;background-color: white;}#sk-container-id-1 pre{padding: 0;}#sk-container-id-1 div.sk-toggleable {background-color: white;}#sk-container-id-1 label.sk-toggleable__label {cursor: pointer;display: block;width: 100%;margin-bottom: 0;padding: 0.3em;box-sizing: border-box;text-align: center;}#sk-container-id-1 label.sk-toggleable__label-arrow:before {content: \"▸\";float: left;margin-right: 0.25em;color: #696969;}#sk-container-id-1 label.sk-toggleable__label-arrow:hover:before {color: black;}#sk-container-id-1 div.sk-estimator:hover label.sk-toggleable__label-arrow:before {color: black;}#sk-container-id-1 div.sk-toggleable__content {max-height: 0;max-width: 0;overflow: hidden;text-align: left;background-color: #f0f8ff;}#sk-container-id-1 div.sk-toggleable__content pre {margin: 0.2em;color: black;border-radius: 0.25em;background-color: #f0f8ff;}#sk-container-id-1 input.sk-toggleable__control:checked~div.sk-toggleable__content {max-height: 200px;max-width: 100%;overflow: auto;}#sk-container-id-1 input.sk-toggleable__control:checked~label.sk-toggleable__label-arrow:before {content: \"▾\";}#sk-container-id-1 div.sk-estimator input.sk-toggleable__control:checked~label.sk-toggleable__label {background-color: #d4ebff;}#sk-container-id-1 div.sk-label input.sk-toggleable__control:checked~label.sk-toggleable__label {background-color: #d4ebff;}#sk-container-id-1 input.sk-hidden--visually {border: 0;clip: rect(1px 1px 1px 1px);clip: rect(1px, 1px, 1px, 1px);height: 1px;margin: -1px;overflow: hidden;padding: 0;position: absolute;width: 1px;}#sk-container-id-1 div.sk-estimator {font-family: monospace;background-color: #f0f8ff;border: 1px dotted black;border-radius: 0.25em;box-sizing: border-box;margin-bottom: 0.5em;}#sk-container-id-1 div.sk-estimator:hover {background-color: #d4ebff;}#sk-container-id-1 div.sk-parallel-item::after {content: \"\";width: 100%;border-bottom: 1px solid gray;flex-grow: 1;}#sk-container-id-1 div.sk-label:hover label.sk-toggleable__label {background-color: #d4ebff;}#sk-container-id-1 div.sk-serial::before {content: \"\";position: absolute;border-left: 1px solid gray;box-sizing: border-box;top: 0;bottom: 0;left: 50%;z-index: 0;}#sk-container-id-1 div.sk-serial {display: flex;flex-direction: column;align-items: center;background-color: white;padding-right: 0.2em;padding-left: 0.2em;position: relative;}#sk-container-id-1 div.sk-item {position: relative;z-index: 1;}#sk-container-id-1 div.sk-parallel {display: flex;align-items: stretch;justify-content: center;background-color: white;position: relative;}#sk-container-id-1 div.sk-item::before, #sk-container-id-1 div.sk-parallel-item::before {content: \"\";position: absolute;border-left: 1px solid gray;box-sizing: border-box;top: 0;bottom: 0;left: 50%;z-index: -1;}#sk-container-id-1 div.sk-parallel-item {display: flex;flex-direction: column;z-index: 1;position: relative;background-color: white;}#sk-container-id-1 div.sk-parallel-item:first-child::after {align-self: flex-end;width: 50%;}#sk-container-id-1 div.sk-parallel-item:last-child::after {align-self: flex-start;width: 50%;}#sk-container-id-1 div.sk-parallel-item:only-child::after {width: 0;}#sk-container-id-1 div.sk-dashed-wrapped {border: 1px dashed gray;margin: 0 0.4em 0.5em 0.4em;box-sizing: border-box;padding-bottom: 0.4em;background-color: white;}#sk-container-id-1 div.sk-label label {font-family: monospace;font-weight: bold;display: inline-block;line-height: 1.2em;}#sk-container-id-1 div.sk-label-container {text-align: center;}#sk-container-id-1 div.sk-container {/* jupyter's `normalize.less` sets `[hidden] { display: none; }` but bootstrap.min.css set `[hidden] { display: none !important; }` so we also need the `!important` here to be able to override the default hidden behavior on the sphinx rendered scikit-learn.org. See: https://github.com/scikit-learn/scikit-learn/issues/21755 */display: inline-block !important;position: relative;}#sk-container-id-1 div.sk-text-repr-fallback {display: none;}</style><div id=\"sk-container-id-1\" class=\"sk-top-container\"><div class=\"sk-text-repr-fallback\"><pre>LinearRegression()</pre><b>In a Jupyter environment, please rerun this cell to show the HTML representation or trust the notebook. <br />On GitHub, the HTML representation is unable to render, please try loading this page with nbviewer.org.</b></div><div class=\"sk-container\" hidden><div class=\"sk-item\"><div class=\"sk-estimator sk-toggleable\"><input class=\"sk-toggleable__control sk-hidden--visually\" id=\"sk-estimator-id-1\" type=\"checkbox\" checked><label for=\"sk-estimator-id-1\" class=\"sk-toggleable__label sk-toggleable__label-arrow\">LinearRegression</label><div class=\"sk-toggleable__content\"><pre>LinearRegression()</pre></div></div></div></div></div>"
      ],
      "text/plain": [
       "LinearRegression()"
      ]
     },
     "execution_count": 104,
     "metadata": {},
     "output_type": "execute_result"
    }
   ],
   "source": [
    "# Memanggil objek LinearRegression ke dalam variabel mlr\n",
    "lr = LinearRegression()  \n",
    "\n",
    "# Melatih model\n",
    "lr.fit(X_train, y_train)"
   ]
  },
  {
   "cell_type": "code",
   "execution_count": 105,
   "id": "78131c48-762f-4dae-a1c5-96ddd17f8208",
   "metadata": {},
   "outputs": [
    {
     "name": "stdout",
     "output_type": "stream",
     "text": [
      "Prediction for test set: [0.45170487 0.44753606 0.53647609 ... 0.45170487 0.45170487 0.49017854]\n"
     ]
    }
   ],
   "source": [
    "# Memprediksi model\n",
    "y_pred_lr = lr.predict(X_test)\n",
    "# Nilai prediksi\n",
    "print(\"Prediction for test set: {}\".format(y_pred_lr))"
   ]
  },
  {
   "cell_type": "code",
   "execution_count": 106,
   "id": "fb018174-4432-4685-8d62-5cdc528cc212",
   "metadata": {},
   "outputs": [
    {
     "data": {
      "text/html": [
       "<div>\n",
       "<style scoped>\n",
       "    .dataframe tbody tr th:only-of-type {\n",
       "        vertical-align: middle;\n",
       "    }\n",
       "\n",
       "    .dataframe tbody tr th {\n",
       "        vertical-align: top;\n",
       "    }\n",
       "\n",
       "    .dataframe thead th {\n",
       "        text-align: right;\n",
       "    }\n",
       "</style>\n",
       "<table border=\"1\" class=\"dataframe\">\n",
       "  <thead>\n",
       "    <tr style=\"text-align: right;\">\n",
       "      <th></th>\n",
       "      <th>Actual value</th>\n",
       "      <th>Predicted value</th>\n",
       "    </tr>\n",
       "  </thead>\n",
       "  <tbody>\n",
       "    <tr>\n",
       "      <th>7823</th>\n",
       "      <td>1</td>\n",
       "      <td>0.451705</td>\n",
       "    </tr>\n",
       "    <tr>\n",
       "      <th>6132</th>\n",
       "      <td>0</td>\n",
       "      <td>0.447536</td>\n",
       "    </tr>\n",
       "    <tr>\n",
       "      <th>9949</th>\n",
       "      <td>0</td>\n",
       "      <td>0.536476</td>\n",
       "    </tr>\n",
       "    <tr>\n",
       "      <th>10440</th>\n",
       "      <td>0</td>\n",
       "      <td>0.519175</td>\n",
       "    </tr>\n",
       "    <tr>\n",
       "      <th>9097</th>\n",
       "      <td>1</td>\n",
       "      <td>0.448754</td>\n",
       "    </tr>\n",
       "  </tbody>\n",
       "</table>\n",
       "</div>"
      ],
      "text/plain": [
       "       Actual value  Predicted value\n",
       "7823              1         0.451705\n",
       "6132              0         0.447536\n",
       "9949              0         0.536476\n",
       "10440             0         0.519175\n",
       "9097              1         0.448754"
      ]
     },
     "execution_count": 106,
     "metadata": {},
     "output_type": "execute_result"
    }
   ],
   "source": [
    "# Membandingkan nilai sebenarnya dengan nilai prediksi menggunakan linear regression\n",
    "lr_diff = pd.DataFrame({'Actual value': y_test, 'Predicted value': y_pred_lr})\n",
    "lr_diff.head()"
   ]
  },
  {
   "cell_type": "code",
   "execution_count": 107,
   "id": "e3413908-034b-477a-a867-1e069408f0ed",
   "metadata": {},
   "outputs": [],
   "source": [
    "# Menerapkan threshold pada variabel y_pred_lr ke dalam variabel y_predict_class\n",
    "y_predict_class = [1 if prob > 0.5 else 0 for prob in y_pred_lr]"
   ]
  },
  {
   "cell_type": "code",
   "execution_count": 108,
   "id": "2eda731f-1bbd-4b20-945e-5bf59e0cb0b2",
   "metadata": {},
   "outputs": [
    {
     "name": "stdout",
     "output_type": "stream",
     "text": [
      "Accuracy: 0.562\n"
     ]
    }
   ],
   "source": [
    "# Import Library\n",
    "from sklearn.metrics import accuracy_score\n",
    "\n",
    "# Menghitung Akurasi\n",
    "print(\"Accuracy:\"\n",
    "      , round(accuracy_score(y_test, y_predict_class), 3)) # Membulatkan nilai akurasi menjadi tiga angka di belakang koma"
   ]
  },
  {
   "cell_type": "markdown",
   "id": "d9e10629-0ba1-4028-b66d-58f75007e7ec",
   "metadata": {},
   "source": [
    "Logistic Regression"
   ]
  },
  {
   "cell_type": "code",
   "execution_count": 109,
   "id": "6de28bc7-6270-46da-8b26-5bb30791e0d9",
   "metadata": {},
   "outputs": [],
   "source": [
    "# Menyimpan nama kolom yang berjenis kategori ke dalam variabel cat_col\n",
    "cat_col = ['Airline','AirportFrom','AirportTo','DayOfWeek']"
   ]
  },
  {
   "cell_type": "code",
   "execution_count": 110,
   "id": "6efbbd65-1baf-4821-be6f-5e3f7a5dd823",
   "metadata": {},
   "outputs": [],
   "source": [
    "# Encoding Kolom Kategori\n",
    "from sklearn import preprocessing\n",
    "le = preprocessing.LabelEncoder()\n",
    "df_cuy[cat_col] = df_cuy[cat_col].apply(le.fit_transform)"
   ]
  },
  {
   "cell_type": "code",
   "execution_count": 111,
   "id": "8abdcdde-09f1-4f4e-b00c-0921cc44aa06",
   "metadata": {},
   "outputs": [
    {
     "data": {
      "text/html": [
       "<div>\n",
       "<style scoped>\n",
       "    .dataframe tbody tr th:only-of-type {\n",
       "        vertical-align: middle;\n",
       "    }\n",
       "\n",
       "    .dataframe tbody tr th {\n",
       "        vertical-align: top;\n",
       "    }\n",
       "\n",
       "    .dataframe thead th {\n",
       "        text-align: right;\n",
       "    }\n",
       "</style>\n",
       "<table border=\"1\" class=\"dataframe\">\n",
       "  <thead>\n",
       "    <tr style=\"text-align: right;\">\n",
       "      <th></th>\n",
       "      <th>Time</th>\n",
       "      <th>Length</th>\n",
       "      <th>Airline</th>\n",
       "      <th>AirportFrom</th>\n",
       "      <th>AirportTo</th>\n",
       "      <th>DayOfWeek</th>\n",
       "      <th>Class</th>\n",
       "    </tr>\n",
       "  </thead>\n",
       "  <tbody>\n",
       "    <tr>\n",
       "      <th>0</th>\n",
       "      <td>0.000000</td>\n",
       "      <td>0.000000</td>\n",
       "      <td>18</td>\n",
       "      <td>125</td>\n",
       "      <td>199</td>\n",
       "      <td>4</td>\n",
       "      <td>0</td>\n",
       "    </tr>\n",
       "    <tr>\n",
       "      <th>1</th>\n",
       "      <td>0.000000</td>\n",
       "      <td>-2.228991</td>\n",
       "      <td>12</td>\n",
       "      <td>76</td>\n",
       "      <td>170</td>\n",
       "      <td>1</td>\n",
       "      <td>0</td>\n",
       "    </tr>\n",
       "    <tr>\n",
       "      <th>2</th>\n",
       "      <td>0.000000</td>\n",
       "      <td>0.000000</td>\n",
       "      <td>5</td>\n",
       "      <td>235</td>\n",
       "      <td>64</td>\n",
       "      <td>6</td>\n",
       "      <td>0</td>\n",
       "    </tr>\n",
       "    <tr>\n",
       "      <th>3</th>\n",
       "      <td>-1.141093</td>\n",
       "      <td>0.000000</td>\n",
       "      <td>15</td>\n",
       "      <td>245</td>\n",
       "      <td>162</td>\n",
       "      <td>6</td>\n",
       "      <td>1</td>\n",
       "    </tr>\n",
       "    <tr>\n",
       "      <th>4</th>\n",
       "      <td>-1.499219</td>\n",
       "      <td>0.000000</td>\n",
       "      <td>4</td>\n",
       "      <td>125</td>\n",
       "      <td>160</td>\n",
       "      <td>5</td>\n",
       "      <td>1</td>\n",
       "    </tr>\n",
       "  </tbody>\n",
       "</table>\n",
       "</div>"
      ],
      "text/plain": [
       "       Time    Length  Airline  AirportFrom  AirportTo  DayOfWeek  Class\n",
       "0  0.000000  0.000000       18          125        199          4      0\n",
       "1  0.000000 -2.228991       12           76        170          1      0\n",
       "2  0.000000  0.000000        5          235         64          6      0\n",
       "3 -1.141093  0.000000       15          245        162          6      1\n",
       "4 -1.499219  0.000000        4          125        160          5      1"
      ]
     },
     "execution_count": 111,
     "metadata": {},
     "output_type": "execute_result"
    }
   ],
   "source": [
    "df_cuy.head()"
   ]
  },
  {
   "cell_type": "code",
   "execution_count": 112,
   "id": "c1c833a3-17a0-4308-b206-4ad4ecd4280f",
   "metadata": {},
   "outputs": [],
   "source": [
    "# Membuat variabel independen (X) dan variabel dependen (y)\n",
    "X = df_cuy.iloc[:,0:-1].values\n",
    "y = df_cuy.iloc[:,-1].values"
   ]
  },
  {
   "cell_type": "code",
   "execution_count": 113,
   "id": "b5362103-9da8-4e3e-9286-fbdc421433c9",
   "metadata": {},
   "outputs": [],
   "source": [
    "# Membagi dataset ke data latih dan data uji\n",
    "from sklearn.model_selection import train_test_split\n",
    "X_train, X_test, y_train, y_test = train_test_split(X,y,test_size=0.3, random_state=0)"
   ]
  },
  {
   "cell_type": "code",
   "execution_count": 114,
   "id": "f7342071-8f29-4f44-be60-202519259583",
   "metadata": {},
   "outputs": [],
   "source": [
    "# Membuat Model - LogisticRegression\n",
    "from sklearn.linear_model import LogisticRegression"
   ]
  },
  {
   "cell_type": "code",
   "execution_count": 115,
   "id": "650cf835-efc7-4a4f-a808-c64cf822cc48",
   "metadata": {},
   "outputs": [],
   "source": [
    "reg = LogisticRegression(solver='lbfgs', max_iter=1000)"
   ]
  },
  {
   "cell_type": "code",
   "execution_count": 116,
   "id": "8d0ca19c-9676-4b90-84a2-01976faf957c",
   "metadata": {},
   "outputs": [],
   "source": [
    "reg.fit(X_train, y_train)\n",
    "y_pred = reg.predict(X_test)"
   ]
  },
  {
   "cell_type": "code",
   "execution_count": 117,
   "id": "70b8adce-06e4-492e-949b-3c691e0ae7f6",
   "metadata": {},
   "outputs": [
    {
     "data": {
      "text/plain": [
       "Time           0\n",
       "Length         0\n",
       "Airline        0\n",
       "AirportFrom    0\n",
       "AirportTo      0\n",
       "DayOfWeek      0\n",
       "Class          0\n",
       "dtype: int64"
      ]
     },
     "execution_count": 117,
     "metadata": {},
     "output_type": "execute_result"
    }
   ],
   "source": [
    "df_cuy.isna().sum()"
   ]
  },
  {
   "cell_type": "code",
   "execution_count": 118,
   "id": "c3411368-326b-4025-80e4-526bc7009c7c",
   "metadata": {},
   "outputs": [
    {
     "data": {
      "text/plain": [
       "array([[1434,  389],\n",
       "       [1015,  399]])"
      ]
     },
     "execution_count": 118,
     "metadata": {},
     "output_type": "execute_result"
    }
   ],
   "source": [
    "# Membuat Confusion Matrix\n",
    "from sklearn import metrics\n",
    "\n",
    "cnf_matrix = metrics.confusion_matrix(y_test, y_pred)\n",
    "cnf_matrix"
   ]
  },
  {
   "cell_type": "code",
   "execution_count": 119,
   "id": "1dda964f-6c7e-448c-82bc-17414f41bd09",
   "metadata": {},
   "outputs": [
    {
     "data": {
      "text/plain": [
       "Text(0.5, 257.44, 'Predicted label')"
      ]
     },
     "execution_count": 119,
     "metadata": {},
     "output_type": "execute_result"
    },
    {
     "data": {
      "image/png": "[encoded data removed]",
      "text/plain": [
       "<Figure size 432x288 with 2 Axes>"
      ]
     },
     "metadata": {
      "needs_background": "light"
     },
     "output_type": "display_data"
    }
   ],
   "source": [
    "# Visualisasi Confusion Matrix dengan Heatmap\n",
    "\n",
    "# Import Library\n",
    "import numpy as np\n",
    "import matplotlib.pyplot as plt\n",
    "import seaborn as sns\n",
    "\n",
    "class_names=[0,1] # Label kelas yang akan ditampilkan pada sumbu x dan y\n",
    "fig, ax = plt.subplots() #Membuat objek gambar dan sumbu menggunakan\n",
    "tick_marks = np.arange(len(class_names)) # Membuat array dengan rentang jumlah kelas yang ada\n",
    "\n",
    "# Menentukan tanda-tanda pada sumbu x dan y sesuai dengan array yang telah dibuat\n",
    "plt.xticks(tick_marks, class_names)\n",
    "plt.yticks(tick_marks, class_names)\n",
    "\n",
    "# Membuat Heatmap\n",
    "sns.heatmap(pd.DataFrame(cnf_matrix) #Parameter yang akan divisualisasi \n",
    "            , annot=True # Menampilkan nilai di dalam kotak heatmap\n",
    "            , cmap=\"YlGnBu\" # Skema warna pada heatmap, \"YlGnBu\" adalah kombinasi antara Yellow (Kuning), Green (Hijau), dan Blue (Biru).\n",
    "            ,fmt='g') #Mengatur format angka menjadi notasi umum (general notation)\n",
    "\n",
    "# Mengatur posisi label sumbu x ke bagian atas heatmap\n",
    "ax.xaxis.set_label_position(\"top\")\n",
    "\n",
    "# Mengatur tampilan grafik agar lebih rapi.\n",
    "plt.tight_layout()\n",
    "\n",
    "# Mengatur judul grafik, label pada sumbu y dan x\n",
    "plt.title('Confusion matrix', y=1.1)\n",
    "plt.ylabel('Actual label')\n",
    "plt.xlabel('Predicted label')"
   ]
  },
  {
   "cell_type": "code",
   "execution_count": 120,
   "id": "a1d54928-f82d-47b1-a2b3-91e6a8492815",
   "metadata": {},
   "outputs": [
    {
     "name": "stdout",
     "output_type": "stream",
     "text": [
      "              precision    recall  f1-score   support\n",
      "\n",
      " Not Delayed       0.59      0.79      0.67      1823\n",
      "     Delayed       0.51      0.28      0.36      1414\n",
      "\n",
      "    accuracy                           0.57      3237\n",
      "   macro avg       0.55      0.53      0.52      3237\n",
      "weighted avg       0.55      0.57      0.54      3237\n",
      "\n"
     ]
    }
   ],
   "source": [
    "# Import library\n",
    "from sklearn.metrics import classification_report\n",
    "\n",
    "# Mendefinisikan nama kelas dalam array\n",
    "target_names = ['Not Delayed', 'Delayed']\n",
    "\n",
    "print(classification_report(y_test # Array target yang berisi label aktual \n",
    "                            , y_pred # Array target yang berisi label prediksi\n",
    "                            , target_names=target_names)) #Memberikan nama kelas yang akan ditampilkan"
   ]
  },
  {
   "cell_type": "code",
   "execution_count": 121,
   "id": "48fa9c1b-073b-4102-853d-96ead15ad3dd",
   "metadata": {},
   "outputs": [],
   "source": [
    "import matplotlib.pyplot as plt"
   ]
  },
  {
   "cell_type": "code",
   "execution_count": 122,
   "id": "e89eb37b-f759-4575-94f0-a35a3eb46d57",
   "metadata": {},
   "outputs": [
    {
     "data": {
      "image/png": "[encoded data removed]",
      "text/plain": [
       "<Figure size 432x288 with 1 Axes>"
      ]
     },
     "metadata": {
      "needs_background": "light"
     },
     "output_type": "display_data"
    }
   ],
   "source": [
    "# Memperoleh probabilitas prediksi kelas positif (y=1) dari model klasifikasi reg untuk data uji (X_test)\n",
    "y_pred_proba = reg.predict_proba(X_test)[::,1]\n",
    "\n",
    "# Menghitung false positive rate (fpr), true positive rate (tpr), dan threshold yang terkait dengan kurva ROC.\n",
    "fpr, tpr, _ = metrics.roc_curve(y_test, #Label aktual  \n",
    "                                y_pred_proba)\n",
    "\n",
    "# Menghitung nilai AUC dari kurva ROC\n",
    "auc = metrics.roc_auc_score(y_test, y_pred_proba)\n",
    "\n",
    "# Membuat plot untuk kurva ROC\n",
    "plt.plot(fpr,tpr\n",
    "         ,label=\"Score AUC=\"+str(auc)) #Label \"Score AUC\" ditambahkan ke legenda untuk menampilkan nilai AUC di grafik\n",
    "\n",
    "# Menampilkan legenda di lokasi keempat (kanan bawah) pada grafik\n",
    "plt.legend(loc=4)\n",
    "\n",
    "# Menampilkan grafik\n",
    "plt.show()"
   ]
  },
  {
   "cell_type": "markdown",
   "id": "66a3a9bd-93ee-45fd-b13d-dfd6f053eb30",
   "metadata": {},
   "source": [
    "K-NN"
   ]
  },
  {
   "cell_type": "code",
   "execution_count": 123,
   "id": "2588da89-310b-475c-9969-aeae217744cb",
   "metadata": {},
   "outputs": [],
   "source": [
    "# Membagi dataset ke data latih dan data uji\n",
    "from sklearn.model_selection import train_test_split\n",
    "X_train, X_test, y_train, y_test = train_test_split(X,y,test_size=0.3, random_state=0)"
   ]
  },
  {
   "cell_type": "code",
   "execution_count": 124,
   "id": "b0c22a23-59cb-4b17-b2aa-c8be479dde39",
   "metadata": {},
   "outputs": [],
   "source": [
    "# Membuat Model - Import Library\n",
    "from sklearn.model_selection import cross_val_score, KFold\n",
    "from sklearn.neighbors import KNeighborsClassifier\n",
    "from sklearn.metrics import accuracy_score, classification_report, roc_auc_score"
   ]
  },
  {
   "cell_type": "code",
   "execution_count": 125,
   "id": "055c3f79-d167-412d-b5cc-e1bb580ab187",
   "metadata": {},
   "outputs": [
    {
     "name": "stdout",
     "output_type": "stream",
     "text": [
      "Accuracy on the training set: 0.553\n"
     ]
    }
   ],
   "source": [
    "knn = KNeighborsClassifier(n_neighbors= 3) # Menentukan jumlah tetangga terdekat (nearest neighbors)\n",
    "\n",
    "# Melatih model\n",
    "knn.fit(X_train, y_train)\n",
    "\n",
    "# Melakukan validasi silang dengan membagi data pelatihan menjadi 5 lipatan (folds)\n",
    "k = KFold(n_splits = 5)\n",
    "\n",
    "# Menghitung skor akurasi untuk setiap lipatan menggunakan metode validasi silang yang telah ditentukan\n",
    "score = cross_val_score(knn\n",
    "                        , X_train, y_train\n",
    "                        , scoring = 'accuracy' #Parameter yang ingin digunakan\n",
    "                        , cv = k).mean() # cv=k -> jumlah lipatan, .mean() -> menghitung rata-rata skor akurasi  \n",
    "\n",
    "# Mencetak skor akurasi pada set data pelatihan dengan pembulatan ke 3 desimal\n",
    "print(\"Accuracy on the training set:\", round(score, 3))"
   ]
  },
  {
   "cell_type": "code",
   "execution_count": 126,
   "id": "1d35ba8c-987d-43e0-8c3f-c240e5101a9b",
   "metadata": {},
   "outputs": [
    {
     "name": "stdout",
     "output_type": "stream",
     "text": [
      "Accuracy on the test set: 0.554\n"
     ]
    }
   ],
   "source": [
    "y_pred = knn.predict(X_test)\n",
    "print(\"Accuracy on the test set:\", round(accuracy_score(y_test, y_pred), 3))"
   ]
  },
  {
   "cell_type": "code",
   "execution_count": 127,
   "id": "9a479b66-0666-4039-a047-e869ed4eb405",
   "metadata": {},
   "outputs": [
    {
     "name": "stdout",
     "output_type": "stream",
     "text": [
      "              precision    recall  f1-score   support\n",
      "\n",
      " Not Delayed       0.60      0.61      0.60      1823\n",
      "     Delayed       0.49      0.49      0.49      1414\n",
      "\n",
      "    accuracy                           0.55      3237\n",
      "   macro avg       0.55      0.55      0.55      3237\n",
      "weighted avg       0.55      0.55      0.55      3237\n",
      "\n"
     ]
    }
   ],
   "source": [
    "from sklearn.metrics import classification_report\n",
    "target_names = ['Not Delayed', 'Delayed'] \n",
    "print(classification_report(y_test, y_pred, target_names=target_names))"
   ]
  },
  {
   "cell_type": "code",
   "execution_count": 128,
   "id": "585e0317-eba1-4806-bd23-d3131927960c",
   "metadata": {},
   "outputs": [],
   "source": [
    "# Membuat list kosong dalam variabel accuracy\n",
    "accuracy = []\n",
    "\n",
    "# Membuat loop dengan rentang nilai i dari 1-14 (Exclude 15)\n",
    "# Loop akan menguji setiap n dari 1-14 untuk mencari n dengan akurasi yang paling tinggi\n",
    "\n",
    "for i in range(1,15):\n",
    "    knn = KNeighborsClassifier(n_neighbors=i)\n",
    "    knn.fit(X_train,y_train)\n",
    "    pred_i = knn.predict(X_test)\n",
    "    accuracy_i = accuracy_score(y_test, pred_i)\n",
    "    \n",
    "    # Menyimpan skor akurasi pada setiap iterasi ke dalam list \"accuracy\" \n",
    "    accuracy.append(accuracy_i)"
   ]
  },
  {
   "cell_type": "code",
   "execution_count": 129,
   "id": "4e854725-fe90-4921-83a6-dd1f40e64463",
   "metadata": {},
   "outputs": [],
   "source": [
    "import matplotlib.pyplot as plt"
   ]
  },
  {
   "cell_type": "code",
   "execution_count": 130,
   "id": "f4f615d4-a6bc-4aad-aff5-3c21c5ceb22a",
   "metadata": {},
   "outputs": [
    {
     "data": {
      "image/png": "[encoded data removed]",
      "text/plain": [
       "<Figure size 1080x432 with 1 Axes>"
      ]
     },
     "metadata": {
      "needs_background": "light"
     },
     "output_type": "display_data"
    }
   ],
   "source": [
    "# Melihat akurasi dari setiap iterasi pada line chart\n",
    "plt.figure(figsize=(15,6))\n",
    "plt.plot(range(1,15, 1), accuracy, color='blue', linestyle='dashed', marker='o',\n",
    "         markerfacecolor='red', markersize=10)\n",
    "plt.title('Accuracy vs. K Value')\n",
    "plt.xlabel('K')\n",
    "plt.ylabel('Accuracy')\n",
    "plt.show()"
   ]
  },
  {
   "cell_type": "code",
   "execution_count": 131,
   "id": "df95605c-3d0d-4a5e-a436-dd3f6973aad6",
   "metadata": {},
   "outputs": [],
   "source": [
    "# Dapat dilihat dari grafik di atas bahwa akurasi paling tinggi didapatkan dengan n = 14\n",
    "knn = KNeighborsClassifier(n_neighbors = 4)\n",
    "knn.fit(X_train, y_train)\n",
    "y_pred = knn.predict(X_test)"
   ]
  },
  {
   "cell_type": "code",
   "execution_count": 132,
   "id": "5a087688-2bb8-49e8-b6ca-d3e9a4ab079f",
   "metadata": {},
   "outputs": [
    {
     "name": "stdout",
     "output_type": "stream",
     "text": [
      "Accuracy on the test set: 56.19%\n"
     ]
    }
   ],
   "source": [
    "accuracy = accuracy_score(y_test, y_pred)\n",
    "print(f\"Accuracy on the test set: {round(accuracy * 100, 2)}%\")"
   ]
  },
  {
   "cell_type": "code",
   "execution_count": 133,
   "id": "85fbfce7-ef34-4a8b-b5ef-bb5de900e333",
   "metadata": {},
   "outputs": [
    {
     "name": "stdout",
     "output_type": "stream",
     "text": [
      "              precision    recall  f1-score   support\n",
      "\n",
      " Not Delayed       0.59      0.76      0.66      1823\n",
      "     Delayed       0.50      0.30      0.38      1414\n",
      "\n",
      "    accuracy                           0.56      3237\n",
      "   macro avg       0.54      0.53      0.52      3237\n",
      "weighted avg       0.55      0.56      0.54      3237\n",
      "\n"
     ]
    }
   ],
   "source": [
    "print(classification_report(y_test, y_pred, target_names=target_names))"
   ]
  },
  {
   "cell_type": "code",
   "execution_count": 134,
   "id": "b9658286-1b81-4974-b7bb-2b585529a5de",
   "metadata": {},
   "outputs": [],
   "source": [
    "import sklearn.metrics as metrics\n",
    "import matplotlib.pyplot as plt"
   ]
  },
  {
   "cell_type": "code",
   "execution_count": 135,
   "id": "94011505-b8c8-4856-b2d2-607bfca9fc59",
   "metadata": {},
   "outputs": [
    {
     "data": {
      "image/png": "[encoded data removed]",
      "text/plain": [
       "<Figure size 432x288 with 1 Axes>"
      ]
     },
     "metadata": {
      "needs_background": "light"
     },
     "output_type": "display_data"
    }
   ],
   "source": [
    "# Memperoleh probabilitas prediksi kelas positif (y=1) dari model klasifikasi KNN untuk data uji (X_test)\n",
    "y_pred_proba = knn.predict_proba(X_test)[::,1]\n",
    "\n",
    "fpr, tpr, _ = metrics.roc_curve(y_test,  y_pred_proba)\n",
    "auc = metrics.roc_auc_score(y_test, y_pred_proba)\n",
    "plt.plot(fpr,tpr,label=\"Score AUC=\"+str(auc))\n",
    "plt.legend(loc=4)\n",
    "plt.show()"
   ]
  },
  {
   "cell_type": "markdown",
   "id": "136e5f1a-8b03-45d8-8ad2-8d30d8318b34",
   "metadata": {},
   "source": [
    "KNN Method"
   ]
  },
  {
   "cell_type": "code",
   "execution_count": 136,
   "id": "28b8f80f-4119-4e9b-afe4-df45227370cb",
   "metadata": {},
   "outputs": [],
   "source": [
    "# Membagi dataset ke data latih dan data uji\n",
    "from sklearn.model_selection import train_test_split\n",
    "X_train, X_test, y_train, y_test = train_test_split(X,y,test_size=0.3, random_state=0)"
   ]
  },
  {
   "cell_type": "code",
   "execution_count": 137,
   "id": "646d1469-f797-463a-bc2b-a7124b7b3fcb",
   "metadata": {},
   "outputs": [],
   "source": [
    "# Membuat Model - Import Library\n",
    "from sklearn.model_selection import cross_val_score, KFold\n",
    "from sklearn.neighbors import KNeighborsClassifier\n",
    "from sklearn.metrics import accuracy_score, classification_report, roc_auc_score"
   ]
  },
  {
   "cell_type": "code",
   "execution_count": 138,
   "id": "d48954ad-e1be-4a06-b11c-22df9a9311aa",
   "metadata": {},
   "outputs": [],
   "source": [
    "# Import library Cupy\n",
    "import cupy as cp"
   ]
  },
  {
   "cell_type": "code",
   "execution_count": 139,
   "id": "470d8a89-fc4b-423c-baa9-a8f84eff0992",
   "metadata": {},
   "outputs": [
    {
     "data": {
      "text/plain": [
       "True"
      ]
     },
     "execution_count": 139,
     "metadata": {},
     "output_type": "execute_result"
    }
   ],
   "source": [
    "cp.cuda.is_available()"
   ]
  },
  {
   "cell_type": "code",
   "execution_count": 140,
   "id": "d1c45b77-bb8f-408f-8734-ebc333876f69",
   "metadata": {},
   "outputs": [],
   "source": [
    "# Membuat ANN\n",
    "class NeuralNetwork:\n",
    "    def __init__(self, input_size, hidden_sizes, output_size):\n",
    "        self.input_size = input_size\n",
    "        self.hidden_sizes = hidden_sizes\n",
    "        self.output_size = output_size\n",
    "        self.num_hidden_layers = len(hidden_sizes)\n",
    "\n",
    "        # Inisialisasi bobot secara acak dengan mean 0\n",
    "        self.weights = []\n",
    "        input_dim = input_size\n",
    "        for hidden_size in hidden_sizes:\n",
    "            self.weights.append(cp.random.randn(input_dim, hidden_size))\n",
    "            input_dim = hidden_size\n",
    "        self.weights.append(cp.random.randn(input_dim, output_size))\n",
    "\n",
    "    def sigmoid(self, x):\n",
    "        return 1 / (1 + cp.exp(-x))\n",
    "\n",
    "    def forward(self, X):\n",
    "        self.z_values = []\n",
    "        input_data = X\n",
    "\n",
    "        for weight in self.weights:\n",
    "            z = cp.dot(input_data, weight)\n",
    "            input_data = self.sigmoid(z)\n",
    "            self.z_values.append(z)\n",
    "\n",
    "        return input_data\n",
    "\n",
    "    def sigmoid_derivative(self, x):\n",
    "        return x * (1 - x)\n",
    "\n",
    "    def backward(self, X, y, y_hat, learning_rate):\n",
    "        deltas = [None] * (self.num_hidden_layers + 1)\n",
    "        error = y - y_hat\n",
    "        delta_output = error * self.sigmoid_derivative(y_hat)\n",
    "        deltas[self.num_hidden_layers] = delta_output\n",
    "\n",
    "        for i in range(self.num_hidden_layers, 0, -1):\n",
    "            error_hidden = cp.dot(deltas[i], self.weights[i].T)\n",
    "            delta_hidden = error_hidden * self.sigmoid_derivative(self.z_values[i-1])\n",
    "            deltas[i-1] = delta_hidden\n",
    "\n",
    "        for i in range(self.num_hidden_layers, -1, -1):\n",
    "            if i == self.num_hidden_layers:\n",
    "                self.weights[i] += cp.dot(self.z_values[i-1].T, deltas[i]) * learning_rate\n",
    "            elif i == 0:\n",
    "                self.weights[i] += cp.dot(X.T, deltas[i]) * learning_rate\n",
    "            else:\n",
    "                self.weights[i] += cp.dot(self.z_values[i-1].T, deltas[i]) * learning_rate\n",
    "\n",
    "    def train(self, X, y, epochs, learning_rate):\n",
    "        X = cp.array(X)\n",
    "        y = cp.array(y)\n",
    "\n",
    "        for i in range(epochs):\n",
    "            y_hat = self.forward(X)\n",
    "            self.backward(X, y, y_hat, learning_rate)\n",
    "            loss = cp.mean(cp.square(y - y_hat))\n",
    "            if i % 100 == 0:\n",
    "                print(f\"Epoch {i}: loss = {loss}\")\n",
    "\n",
    "    def predict(self, X):\n",
    "        X = cp.array(X)\n",
    "        y_hat = self.forward(X)\n",
    "        return y_hat.get()\n"
   ]
  },
  {
   "cell_type": "code",
   "execution_count": 141,
   "id": "e737f7ba-684a-4ff8-ae2c-3262c6d44c3c",
   "metadata": {},
   "outputs": [],
   "source": [
    "input_size = X_train.shape[1]\n",
    "hidden_size = [5,5] # 2 Hidden layer dengan masing-masing 5 neuron / unit\n",
    "output_size = len(cp.unique(y_train))\n",
    "epochs = 3000\n",
    "learning_rate = 0.5\n",
    "\n",
    "# Membangun dan melatih jaringan saraf tiruan\n",
    "model = NeuralNetwork(input_size, hidden_size, output_size)"
   ]
  },
  {
   "cell_type": "code",
   "execution_count": 142,
   "id": "1b5f69a5-0b69-46bb-98c9-97fe048a3cae",
   "metadata": {},
   "outputs": [
    {
     "data": {
      "text/plain": [
       "6"
      ]
     },
     "execution_count": 142,
     "metadata": {},
     "output_type": "execute_result"
    }
   ],
   "source": [
    "X_train.shape[1]"
   ]
  },
  {
   "cell_type": "code",
   "execution_count": 143,
   "id": "13adf9b8-81fb-4d2a-bf10-e1d9049ee957",
   "metadata": {},
   "outputs": [
    {
     "data": {
      "text/plain": [
       "2"
      ]
     },
     "execution_count": 143,
     "metadata": {},
     "output_type": "execute_result"
    }
   ],
   "source": [
    "len(cp.unique(y_train))"
   ]
  },
  {
   "cell_type": "code",
   "execution_count": 144,
   "id": "b138239d-9b69-4957-9f83-f8cfe8d2e47f",
   "metadata": {},
   "outputs": [],
   "source": [
    "# Library untuk menghitung waktu eksekusi / waktu yang dibutuhkan program ketika berjalan sampai selesai\n",
    "import time"
   ]
  },
  {
   "cell_type": "code",
   "execution_count": 145,
   "id": "c885ab44-3f9c-4096-a141-153d7bf88ba1",
   "metadata": {},
   "outputs": [
    {
     "name": "stdout",
     "output_type": "stream",
     "text": [
      "Epoch 0: loss = 0.29166875956733124\n",
      "Epoch 100: loss = 0.5478145695364238\n",
      "Epoch 200: loss = 0.5478145695364238\n",
      "Epoch 300: loss = 0.5478145695364238\n",
      "Epoch 400: loss = 0.5478145695364238\n",
      "Epoch 500: loss = 0.5478145695364238\n",
      "Epoch 600: loss = 0.5478145695364238\n",
      "Epoch 700: loss = 0.5478145695364238\n",
      "Epoch 800: loss = 0.5478145695364238\n",
      "Epoch 900: loss = 0.5478145695364238\n",
      "Epoch 1000: loss = 0.5478145695364238\n",
      "Epoch 1100: loss = 0.5478145695364238\n",
      "Epoch 1200: loss = 0.5478145695364238\n",
      "Epoch 1300: loss = 0.5478145695364238\n",
      "Epoch 1400: loss = 0.5478145695364238\n",
      "Epoch 1500: loss = 0.5478145695364238\n",
      "Epoch 1600: loss = 0.5478145695364238\n",
      "Epoch 1700: loss = 0.5478145695364238\n",
      "Epoch 1800: loss = 0.5478145695364238\n",
      "Epoch 1900: loss = 0.5478145695364238\n",
      "Epoch 2000: loss = 0.5478145695364238\n",
      "Epoch 2100: loss = 0.5478145695364238\n",
      "Epoch 2200: loss = 0.5478145695364238\n",
      "Epoch 2300: loss = 0.5478145695364238\n",
      "Epoch 2400: loss = 0.5478145695364238\n",
      "Epoch 2500: loss = 0.5478145695364238\n",
      "Epoch 2600: loss = 0.5478145695364238\n",
      "Epoch 2700: loss = 0.5478145695364238\n",
      "Epoch 2800: loss = 0.5478145695364238\n",
      "Epoch 2900: loss = 0.5478145695364238\n",
      "Waktu eksekusi kode : 3.1 detik\n"
     ]
    }
   ],
   "source": [
    "# Melatih model\n",
    "start_time = time.time()\n",
    "model.train(X_train, y_train.reshape(-1, 1), epochs, learning_rate)\n",
    "end_time = time.time()\n",
    "\n",
    "execution_time = end_time - start_time\n",
    "print(\"Waktu eksekusi kode :\", round(execution_time,2), \"detik\")"
   ]
  },
  {
   "cell_type": "code",
   "execution_count": 146,
   "id": "a434e5bf-3b90-413a-9353-7d220df6583a",
   "metadata": {},
   "outputs": [],
   "source": [
    "# Melakukan prediksi pada data uji\n",
    "y_pred = model.predict(X_test)"
   ]
  },
  {
   "cell_type": "code",
   "execution_count": 147,
   "id": "238af9d8-997f-4ace-97f4-803773c6196d",
   "metadata": {},
   "outputs": [
    {
     "data": {
      "text/plain": [
       "dtype('float64')"
      ]
     },
     "execution_count": 147,
     "metadata": {},
     "output_type": "execute_result"
    }
   ],
   "source": [
    "# Melihat tipe data pada variabel y_pred\n",
    "y_pred.dtype"
   ]
  },
  {
   "cell_type": "code",
   "execution_count": 148,
   "id": "b29d6c46-548d-4eb0-a2dd-58e1070d4cc6",
   "metadata": {},
   "outputs": [
    {
     "name": "stdout",
     "output_type": "stream",
     "text": [
      "Nilai: 1.0, Jumlah: 6474\n"
     ]
    }
   ],
   "source": [
    "# Menggunakan np.unique() dan np.bincount() untuk menghitung value counts\n",
    "unique_values, value_counts = cp.unique(y_pred, return_counts=True)\n",
    "\n",
    "# Cetak value counts / jumlah nilai pada variabel y_pred\n",
    "for value, count in zip(unique_values, value_counts):\n",
    "    print(f\"Nilai: {value}, Jumlah: {count}\")"
   ]
  },
  {
   "cell_type": "code",
   "execution_count": 149,
   "id": "730e7026-be3e-4a1a-96a6-ec50d81f1322",
   "metadata": {},
   "outputs": [],
   "source": [
    "y_pred_label = (y_pred >= 0.5).astype(int)"
   ]
  },
  {
   "cell_type": "code",
   "execution_count": 150,
   "id": "466023ad-4851-48fb-88ba-abab2c789cc1",
   "metadata": {},
   "outputs": [
    {
     "name": "stdout",
     "output_type": "stream",
     "text": [
      "Nilai: 1, Jumlah: 6474\n"
     ]
    }
   ],
   "source": [
    "# Menggunakan np.unique() dan np.bincount() untuk menghitung value counts\n",
    "unique_values, value_counts = cp.unique(y_pred_label, return_counts=True)\n",
    "\n",
    "# Cetak value counts\n",
    "for value, count in zip(unique_values, value_counts):\n",
    "    print(f\"Nilai: {value}, Jumlah: {count}\")"
   ]
  },
  {
   "cell_type": "code",
   "execution_count": 151,
   "id": "aa49590e-cd6c-4563-870e-7023f047d44d",
   "metadata": {},
   "outputs": [],
   "source": [
    "from sklearn.metrics import accuracy_score"
   ]
  },
  {
   "cell_type": "code",
   "execution_count": 152,
   "id": "21407f29-f1e9-4612-8c0e-464bf485100b",
   "metadata": {},
   "outputs": [
    {
     "name": "stdout",
     "output_type": "stream",
     "text": [
      "Akurasi model untuk label 0:  0.56317578004325\n",
      "Akurasi model untuk label 1:  0.4368242199567501\n"
     ]
    }
   ],
   "source": [
    "# Menghitung akurasi model dalam klasifikasi masing-masing kelas 0 dan 1\n",
    "y_pred_label_0 = (y_pred[:, 1] < 0.5).astype(int)\n",
    "y_pred_label_1 = (y_pred[:, 1] >= 0.5).astype(int)\n",
    "\n",
    "accuracy_label_0 = accuracy_score(y_test, y_pred_label_0)\n",
    "accuracy_label_1 = accuracy_score(y_test, y_pred_label_1)\n",
    "\n",
    "print(\"Akurasi model untuk label 0: \", accuracy_label_0)\n",
    "print(\"Akurasi model untuk label 1: \", accuracy_label_1)"
   ]
  },
  {
   "cell_type": "code",
   "execution_count": 153,
   "id": "1708a492-8e0d-422c-8a0c-c5226c5b9913",
   "metadata": {},
   "outputs": [],
   "source": [
    "# Melihat akurasi model dalam melakukan klasifikasi kelas 0 dan 1 secara gabungan / bersamaan\n",
    "y_test_label_0 = y_test\n",
    "y_test_label_1 = y_test"
   ]
  },
  {
   "cell_type": "code",
   "execution_count": 154,
   "id": "fb674799-2314-4902-8039-1d4a75d5d60d",
   "metadata": {},
   "outputs": [],
   "source": [
    "y_pred_combined = cp.hstack((y_pred_label[:, 0], y_pred_label[:, 1]))\n",
    "y_test_combined = cp.hstack((y_test_label_0, y_test_label_1))"
   ]
  },
  {
   "cell_type": "code",
   "execution_count": 155,
   "id": "63d05abf-308b-4aaf-a411-ce9e9995150e",
   "metadata": {},
   "outputs": [
    {
     "name": "stdout",
     "output_type": "stream",
     "text": [
      "0.4368242199567501\n"
     ]
    }
   ],
   "source": [
    "accuracy_combined = accuracy_score(y_test_combined.get(), y_pred_combined.get())\n",
    "print(accuracy_combined)"
   ]
  },
  {
   "cell_type": "code",
   "execution_count": 156,
   "id": "1c54e62b-c60b-468c-8fbc-2d9c4cdf0fc7",
   "metadata": {},
   "outputs": [
    {
     "name": "stdout",
     "output_type": "stream",
     "text": [
      "Precision untuk kelas 0: 0.0\n",
      "Precision untuk kelas 1: 0.4368242199567501\n",
      "Recall untuk kelas 0: 0.0\n",
      "Recall untuk kelas 1: 1.0\n",
      "F1-score untuk kelas 0: 0.0\n",
      "F1-score untuk kelas 1: 0.6080412814448506\n"
     ]
    },
    {
     "name": "stderr",
     "output_type": "stream",
     "text": [
      "/usr/local/lib/python3.8/dist-packages/sklearn/metrics/_classification.py:1334: UndefinedMetricWarning: Precision is ill-defined and being set to 0.0 in labels with no predicted samples. Use `zero_division` parameter to control this behavior.\n",
      "  _warn_prf(average, modifier, msg_start, len(result))\n"
     ]
    }
   ],
   "source": [
    "from sklearn.metrics import precision_score, recall_score, f1_score\n",
    "\n",
    "# Menghitung precision\n",
    "precision = precision_score(y_test_combined.get(), y_pred_combined.get(), average=None)\n",
    "print(\"Precision untuk kelas 0:\", precision[0])\n",
    "print(\"Precision untuk kelas 1:\", precision[1])\n",
    "\n",
    "# Menghitung recall\n",
    "recall = recall_score(y_test_combined.get(), y_pred_combined.get(), average=None)\n",
    "print(\"Recall untuk kelas 0:\", recall[0])\n",
    "print(\"Recall untuk kelas 1:\", recall[1])\n",
    "\n",
    "# Menghitung F1-score\n",
    "f1 = f1_score(y_test_combined.get(), y_pred_combined.get(), average=None)\n",
    "print(\"F1-score untuk kelas 0:\", f1[0])\n",
    "print(\"F1-score untuk kelas 1:\", f1[1])\n"
   ]
  },
  {
   "cell_type": "code",
   "execution_count": null,
   "id": "d0526aeb-3e1a-4819-979e-25d6d38a1352",
   "metadata": {},
   "outputs": [],
   "source": []
  },
  {
   "cell_type": "code",
   "execution_count": null,
   "id": "28e43ba8-eac8-4149-85cd-89f6c842ac92",
   "metadata": {},
   "outputs": [],
   "source": []
  },
  {
   "cell_type": "code",
   "execution_count": null,
   "id": "77d23804-0fd2-4eee-9ecc-225f4bc122a4",
   "metadata": {},
   "outputs": [],
   "source": []
  }
 ],
 "metadata": {
  "colab": {
   "provenance": []
  },
  "kernelspec": {
   "display_name": "Python 3 (ipykernel)",
   "language": "python",
   "name": "python3"
  },
  "language_info": {
   "codemirror_mode": {
    "name": "ipython",
    "version": 3
   },
   "file_extension": ".py",
   "mimetype": "text/x-python",
   "name": "python",
   "nbconvert_exporter": "python",
   "pygments_lexer": "ipython3",
   "version": "3.8.10"
  }
 },
 "nbformat": 4,
 "nbformat_minor": 5
}
