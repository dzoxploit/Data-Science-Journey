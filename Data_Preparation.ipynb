{
 "cells": [
  {
   "attachments": {},
   "cell_type": "markdown",
   "id": "30fce050",
   "metadata": {
    "id": "30fce050"
   },
   "source": [
    "<center>\n",
    "    <img src=\"https://drive.google.com/uc?export=view&id=1hDKusF04c0lNZA_qOShvWQrpImayVKz8\"  width=\"1000\" />\n",
    "</center>"
   ]
  },
  {
   "attachments": {},
   "cell_type": "markdown",
   "id": "78957aef",
   "metadata": {
    "id": "78957aef"
   },
   "source": [
    "# Tugas Mandiri\n",
    "---\n",
    "Tugas mandiri ini digunakan pada kegiatan Kursus Data Science yang merupakan pembekalan bagi mahasiswa Universitas Gunadarma untuk Skema Associate Data Scientist"
   ]
  },
  {
   "attachments": {},
   "cell_type": "markdown",
   "id": "e1d3e6a4",
   "metadata": {
    "id": "e1d3e6a4"
   },
   "source": [
    "### Pertemuan 2 - Semester 8"
   ]
  },
  {
   "attachments": {},
   "cell_type": "markdown",
   "id": "72ec6d5d",
   "metadata": {
    "id": "72ec6d5d"
   },
   "source": [
    "## Tugas Mandiri Data Preparation\n",
    "---"
   ]
  },
  {
   "cell_type": "code",
   "execution_count": 1,
   "id": "eda21257",
   "metadata": {
    "id": "eda21257"
   },
   "outputs": [],
   "source": [
    "# 1. Import Library Pandas\n",
    "import pandas as pd"
   ]
  },
  {
   "cell_type": "code",
   "execution_count": 2,
   "id": "5cf8c0b9",
   "metadata": {
    "id": "5cf8c0b9"
   },
   "outputs": [],
   "source": [
    "# 2. Memuat data berformat CSV\n",
    "df = pd.read_csv('delay_maskapai_tm_2.csv')"
   ]
  },
  {
   "cell_type": "code",
   "execution_count": 3,
   "id": "b87cbba4",
   "metadata": {
    "id": "b87cbba4"
   },
   "outputs": [
    {
     "data": {
      "text/html": [
       "<div>\n",
       "<style scoped>\n",
       "    .dataframe tbody tr th:only-of-type {\n",
       "        vertical-align: middle;\n",
       "    }\n",
       "\n",
       "    .dataframe tbody tr th {\n",
       "        vertical-align: top;\n",
       "    }\n",
       "\n",
       "    .dataframe thead th {\n",
       "        text-align: right;\n",
       "    }\n",
       "</style>\n",
       "<table border=\"1\" class=\"dataframe\">\n",
       "  <thead>\n",
       "    <tr style=\"text-align: right;\">\n",
       "      <th></th>\n",
       "      <th>Flight</th>\n",
       "      <th>Time</th>\n",
       "      <th>Length</th>\n",
       "      <th>Airline</th>\n",
       "      <th>AirportFrom</th>\n",
       "      <th>AirportTo</th>\n",
       "      <th>DayOfWeek</th>\n",
       "      <th>Class</th>\n",
       "    </tr>\n",
       "  </thead>\n",
       "  <tbody>\n",
       "    <tr>\n",
       "      <th>0</th>\n",
       "      <td>320.0</td>\n",
       "      <td>870.0</td>\n",
       "      <td>180.0</td>\n",
       "      <td>CO</td>\n",
       "      <td>IAH</td>\n",
       "      <td>PHX</td>\n",
       "      <td>5</td>\n",
       "      <td>0</td>\n",
       "    </tr>\n",
       "    <tr>\n",
       "      <th>1</th>\n",
       "      <td>3045.0</td>\n",
       "      <td>365.0</td>\n",
       "      <td>66.0</td>\n",
       "      <td>OO</td>\n",
       "      <td>DSM</td>\n",
       "      <td>MKE</td>\n",
       "      <td>2</td>\n",
       "      <td>0</td>\n",
       "    </tr>\n",
       "    <tr>\n",
       "      <th>2</th>\n",
       "      <td>1560.0</td>\n",
       "      <td>740.0</td>\n",
       "      <td>257.0</td>\n",
       "      <td>DL</td>\n",
       "      <td>SEA</td>\n",
       "      <td>CVG</td>\n",
       "      <td>7</td>\n",
       "      <td>0</td>\n",
       "    </tr>\n",
       "    <tr>\n",
       "      <th>3</th>\n",
       "      <td>1156.0</td>\n",
       "      <td>595.0</td>\n",
       "      <td>235.0</td>\n",
       "      <td>WN</td>\n",
       "      <td>SNA</td>\n",
       "      <td>MDW</td>\n",
       "      <td>7</td>\n",
       "      <td>1</td>\n",
       "    </tr>\n",
       "    <tr>\n",
       "      <th>4</th>\n",
       "      <td>1873.0</td>\n",
       "      <td>530.0</td>\n",
       "      <td>133.0</td>\n",
       "      <td>CO</td>\n",
       "      <td>IAH</td>\n",
       "      <td>MCO</td>\n",
       "      <td>6</td>\n",
       "      <td>1</td>\n",
       "    </tr>\n",
       "  </tbody>\n",
       "</table>\n",
       "</div>"
      ],
      "text/plain": [
       "   Flight   Time  Length Airline AirportFrom AirportTo  DayOfWeek  Class\n",
       "0   320.0  870.0   180.0      CO         IAH       PHX          5      0\n",
       "1  3045.0  365.0    66.0      OO         DSM       MKE          2      0\n",
       "2  1560.0  740.0   257.0      DL         SEA       CVG          7      0\n",
       "3  1156.0  595.0   235.0      WN         SNA       MDW          7      1\n",
       "4  1873.0  530.0   133.0      CO         IAH       MCO          6      1"
      ]
     },
     "execution_count": 3,
     "metadata": {},
     "output_type": "execute_result"
    }
   ],
   "source": [
    "# 3. Menampilkan 5 baris teratas dari dataset \n",
    "df.head(5)"
   ]
  },
  {
   "attachments": {},
   "cell_type": "markdown",
   "id": "1cef38e3",
   "metadata": {
    "id": "1cef38e3"
   },
   "source": [
    "#### Data cleansing - membuang kolom\n",
    "Dari dataset di atas dapat diketahui bahwa kolom Flight merupakan kolom untuk ID masing-masing penerbangan, kolom ini dapat dibuang karena tidak memiliki makna rill. Untuk membuang kolom dapat menggunakan fungsi iloc maupun drop, berikut adalah perbedaan penggunaan loc dan iloc"
   ]
  },
  {
   "attachments": {},
   "cell_type": "markdown",
   "id": "b5852583",
   "metadata": {
    "id": "b5852583"
   },
   "source": [
    "<center>\n",
    "    <img src=\"https://miro.medium.com/v2/resize:fit:1400/1*dYtynwab99wnMqfgyPUd3w.png\"  width=\"500\" />\n",
    "</center>"
   ]
  },
  {
   "cell_type": "code",
   "execution_count": 9,
   "id": "d87ff210",
   "metadata": {
    "id": "d87ff210"
   },
   "outputs": [],
   "source": [
    "# 4. Memuat dataset\n",
    "df_drop1 = pd.read_csv('delay_maskapai_tm_2.csv')"
   ]
  },
  {
   "cell_type": "code",
   "execution_count": 10,
   "id": "de1930ff",
   "metadata": {
    "id": "de1930ff"
   },
   "outputs": [
    {
     "data": {
      "text/html": [
       "<div>\n",
       "<style scoped>\n",
       "    .dataframe tbody tr th:only-of-type {\n",
       "        vertical-align: middle;\n",
       "    }\n",
       "\n",
       "    .dataframe tbody tr th {\n",
       "        vertical-align: top;\n",
       "    }\n",
       "\n",
       "    .dataframe thead th {\n",
       "        text-align: right;\n",
       "    }\n",
       "</style>\n",
       "<table border=\"1\" class=\"dataframe\">\n",
       "  <thead>\n",
       "    <tr style=\"text-align: right;\">\n",
       "      <th></th>\n",
       "      <th>Flight</th>\n",
       "      <th>Time</th>\n",
       "      <th>Length</th>\n",
       "      <th>Airline</th>\n",
       "      <th>AirportFrom</th>\n",
       "      <th>AirportTo</th>\n",
       "      <th>DayOfWeek</th>\n",
       "      <th>Class</th>\n",
       "    </tr>\n",
       "  </thead>\n",
       "  <tbody>\n",
       "    <tr>\n",
       "      <th>0</th>\n",
       "      <td>320.0</td>\n",
       "      <td>870.0</td>\n",
       "      <td>180.0</td>\n",
       "      <td>CO</td>\n",
       "      <td>IAH</td>\n",
       "      <td>PHX</td>\n",
       "      <td>5</td>\n",
       "      <td>0</td>\n",
       "    </tr>\n",
       "    <tr>\n",
       "      <th>1</th>\n",
       "      <td>3045.0</td>\n",
       "      <td>365.0</td>\n",
       "      <td>66.0</td>\n",
       "      <td>OO</td>\n",
       "      <td>DSM</td>\n",
       "      <td>MKE</td>\n",
       "      <td>2</td>\n",
       "      <td>0</td>\n",
       "    </tr>\n",
       "    <tr>\n",
       "      <th>2</th>\n",
       "      <td>1560.0</td>\n",
       "      <td>740.0</td>\n",
       "      <td>257.0</td>\n",
       "      <td>DL</td>\n",
       "      <td>SEA</td>\n",
       "      <td>CVG</td>\n",
       "      <td>7</td>\n",
       "      <td>0</td>\n",
       "    </tr>\n",
       "    <tr>\n",
       "      <th>3</th>\n",
       "      <td>1156.0</td>\n",
       "      <td>595.0</td>\n",
       "      <td>235.0</td>\n",
       "      <td>WN</td>\n",
       "      <td>SNA</td>\n",
       "      <td>MDW</td>\n",
       "      <td>7</td>\n",
       "      <td>1</td>\n",
       "    </tr>\n",
       "    <tr>\n",
       "      <th>4</th>\n",
       "      <td>1873.0</td>\n",
       "      <td>530.0</td>\n",
       "      <td>133.0</td>\n",
       "      <td>CO</td>\n",
       "      <td>IAH</td>\n",
       "      <td>MCO</td>\n",
       "      <td>6</td>\n",
       "      <td>1</td>\n",
       "    </tr>\n",
       "  </tbody>\n",
       "</table>\n",
       "</div>"
      ],
      "text/plain": [
       "   Flight   Time  Length Airline AirportFrom AirportTo  DayOfWeek  Class\n",
       "0   320.0  870.0   180.0      CO         IAH       PHX          5      0\n",
       "1  3045.0  365.0    66.0      OO         DSM       MKE          2      0\n",
       "2  1560.0  740.0   257.0      DL         SEA       CVG          7      0\n",
       "3  1156.0  595.0   235.0      WN         SNA       MDW          7      1\n",
       "4  1873.0  530.0   133.0      CO         IAH       MCO          6      1"
      ]
     },
     "execution_count": 10,
     "metadata": {},
     "output_type": "execute_result"
    }
   ],
   "source": [
    "# 5. Menampilkan 5 baris pertama dari dataset\n",
    "df_drop1.head(5)"
   ]
  },
  {
   "cell_type": "code",
   "execution_count": 11,
   "id": "39447613",
   "metadata": {
    "id": "39447613"
   },
   "outputs": [],
   "source": [
    "# 6. Pada variabel df_drop1 pilihlah hanya kolom Airline, AirportFrom, AirportTo\n",
    "df_drop1 = df_drop1.iloc[:,[3,4,5]] "
   ]
  },
  {
   "cell_type": "code",
   "execution_count": 12,
   "id": "78df5b8a",
   "metadata": {
    "id": "78df5b8a",
    "scrolled": true
   },
   "outputs": [
    {
     "data": {
      "text/html": [
       "<div>\n",
       "<style scoped>\n",
       "    .dataframe tbody tr th:only-of-type {\n",
       "        vertical-align: middle;\n",
       "    }\n",
       "\n",
       "    .dataframe tbody tr th {\n",
       "        vertical-align: top;\n",
       "    }\n",
       "\n",
       "    .dataframe thead th {\n",
       "        text-align: right;\n",
       "    }\n",
       "</style>\n",
       "<table border=\"1\" class=\"dataframe\">\n",
       "  <thead>\n",
       "    <tr style=\"text-align: right;\">\n",
       "      <th></th>\n",
       "      <th>Airline</th>\n",
       "      <th>AirportFrom</th>\n",
       "      <th>AirportTo</th>\n",
       "    </tr>\n",
       "  </thead>\n",
       "  <tbody>\n",
       "    <tr>\n",
       "      <th>0</th>\n",
       "      <td>CO</td>\n",
       "      <td>IAH</td>\n",
       "      <td>PHX</td>\n",
       "    </tr>\n",
       "    <tr>\n",
       "      <th>1</th>\n",
       "      <td>OO</td>\n",
       "      <td>DSM</td>\n",
       "      <td>MKE</td>\n",
       "    </tr>\n",
       "    <tr>\n",
       "      <th>2</th>\n",
       "      <td>DL</td>\n",
       "      <td>SEA</td>\n",
       "      <td>CVG</td>\n",
       "    </tr>\n",
       "    <tr>\n",
       "      <th>3</th>\n",
       "      <td>WN</td>\n",
       "      <td>SNA</td>\n",
       "      <td>MDW</td>\n",
       "    </tr>\n",
       "    <tr>\n",
       "      <th>4</th>\n",
       "      <td>CO</td>\n",
       "      <td>IAH</td>\n",
       "      <td>MCO</td>\n",
       "    </tr>\n",
       "  </tbody>\n",
       "</table>\n",
       "</div>"
      ],
      "text/plain": [
       "  Airline AirportFrom AirportTo\n",
       "0      CO         IAH       PHX\n",
       "1      OO         DSM       MKE\n",
       "2      DL         SEA       CVG\n",
       "3      WN         SNA       MDW\n",
       "4      CO         IAH       MCO"
      ]
     },
     "execution_count": 12,
     "metadata": {},
     "output_type": "execute_result"
    }
   ],
   "source": [
    "df_drop1.head()"
   ]
  },
  {
   "cell_type": "code",
   "execution_count": 15,
   "id": "bf210f41",
   "metadata": {
    "id": "bf210f41"
   },
   "outputs": [],
   "source": [
    "# 7. Memuat Dataset ke dalam variabel df_drop2\n",
    "df_drop2 = pd.read_csv('delay_maskapai_tm_2.csv')"
   ]
  },
  {
   "cell_type": "code",
   "execution_count": 16,
   "id": "a4ef85d4",
   "metadata": {
    "id": "a4ef85d4"
   },
   "outputs": [],
   "source": [
    "# 8. Pada variabel df_drop2 buanglah kolom Flight, Airline, AirportFrom, AirportTo, DayOfWeek, Class\n",
    "df_drop2.drop(['Flight', 'Airline', 'AirportFrom', 'AirportTo', 'DayOfWeek','Class'],axis=1,inplace=True)"
   ]
  },
  {
   "cell_type": "code",
   "execution_count": 17,
   "id": "07b9223c",
   "metadata": {
    "id": "07b9223c"
   },
   "outputs": [
    {
     "data": {
      "text/html": [
       "<div>\n",
       "<style scoped>\n",
       "    .dataframe tbody tr th:only-of-type {\n",
       "        vertical-align: middle;\n",
       "    }\n",
       "\n",
       "    .dataframe tbody tr th {\n",
       "        vertical-align: top;\n",
       "    }\n",
       "\n",
       "    .dataframe thead th {\n",
       "        text-align: right;\n",
       "    }\n",
       "</style>\n",
       "<table border=\"1\" class=\"dataframe\">\n",
       "  <thead>\n",
       "    <tr style=\"text-align: right;\">\n",
       "      <th></th>\n",
       "      <th>Time</th>\n",
       "      <th>Length</th>\n",
       "    </tr>\n",
       "  </thead>\n",
       "  <tbody>\n",
       "    <tr>\n",
       "      <th>0</th>\n",
       "      <td>870.0</td>\n",
       "      <td>180.0</td>\n",
       "    </tr>\n",
       "    <tr>\n",
       "      <th>1</th>\n",
       "      <td>365.0</td>\n",
       "      <td>66.0</td>\n",
       "    </tr>\n",
       "    <tr>\n",
       "      <th>2</th>\n",
       "      <td>740.0</td>\n",
       "      <td>257.0</td>\n",
       "    </tr>\n",
       "    <tr>\n",
       "      <th>3</th>\n",
       "      <td>595.0</td>\n",
       "      <td>235.0</td>\n",
       "    </tr>\n",
       "    <tr>\n",
       "      <th>4</th>\n",
       "      <td>530.0</td>\n",
       "      <td>133.0</td>\n",
       "    </tr>\n",
       "  </tbody>\n",
       "</table>\n",
       "</div>"
      ],
      "text/plain": [
       "    Time  Length\n",
       "0  870.0   180.0\n",
       "1  365.0    66.0\n",
       "2  740.0   257.0\n",
       "3  595.0   235.0\n",
       "4  530.0   133.0"
      ]
     },
     "execution_count": 17,
     "metadata": {},
     "output_type": "execute_result"
    }
   ],
   "source": [
    "df_drop2.head()"
   ]
  },
  {
   "attachments": {},
   "cell_type": "markdown",
   "id": "c31f69dc",
   "metadata": {
    "id": "c31f69dc"
   },
   "source": [
    "#### Data cleansing - Mengubah indeks di dataframe\n",
    "Karena tidak ada kolom yang bernilai unik pada dataframe, maka kita akan mencoba mengubah kolom Airline menjadi indeks dari dataset"
   ]
  },
  {
   "cell_type": "code",
   "execution_count": null,
   "id": "2b860751",
   "metadata": {
    "id": "2b860751"
   },
   "outputs": [],
   "source": [
    "# 9. Import Library Numpy\n",
    "import pandas as pd"
   ]
  },
  {
   "cell_type": "code",
   "execution_count": 18,
   "id": "073fab4d",
   "metadata": {
    "id": "073fab4d"
   },
   "outputs": [],
   "source": [
    "# 10. Memuat data\n",
    "df_index = pd.read_csv('delay_maskapai_tm_2.csv')"
   ]
  },
  {
   "cell_type": "code",
   "execution_count": 19,
   "id": "7f700004",
   "metadata": {
    "id": "7f700004"
   },
   "outputs": [],
   "source": [
    "# 11. Menjadikan kolom Airline sebagai index\n",
    "df_index = df_index.set_index('Airline')"
   ]
  },
  {
   "cell_type": "code",
   "execution_count": 20,
   "id": "ff85f3f5",
   "metadata": {
    "id": "ff85f3f5"
   },
   "outputs": [],
   "source": [
    "# 12. Membuang kolom Flight dengan fungsi drop\n",
    "df_index.drop(['Flight'],axis=1,inplace=True)"
   ]
  },
  {
   "cell_type": "code",
   "execution_count": 21,
   "id": "62babdc1",
   "metadata": {
    "id": "62babdc1"
   },
   "outputs": [
    {
     "data": {
      "text/html": [
       "<div>\n",
       "<style scoped>\n",
       "    .dataframe tbody tr th:only-of-type {\n",
       "        vertical-align: middle;\n",
       "    }\n",
       "\n",
       "    .dataframe tbody tr th {\n",
       "        vertical-align: top;\n",
       "    }\n",
       "\n",
       "    .dataframe thead th {\n",
       "        text-align: right;\n",
       "    }\n",
       "</style>\n",
       "<table border=\"1\" class=\"dataframe\">\n",
       "  <thead>\n",
       "    <tr style=\"text-align: right;\">\n",
       "      <th></th>\n",
       "      <th>Time</th>\n",
       "      <th>Length</th>\n",
       "      <th>AirportFrom</th>\n",
       "      <th>AirportTo</th>\n",
       "      <th>DayOfWeek</th>\n",
       "      <th>Class</th>\n",
       "    </tr>\n",
       "    <tr>\n",
       "      <th>Airline</th>\n",
       "      <th></th>\n",
       "      <th></th>\n",
       "      <th></th>\n",
       "      <th></th>\n",
       "      <th></th>\n",
       "      <th></th>\n",
       "    </tr>\n",
       "  </thead>\n",
       "  <tbody>\n",
       "    <tr>\n",
       "      <th>CO</th>\n",
       "      <td>870.0</td>\n",
       "      <td>180.0</td>\n",
       "      <td>IAH</td>\n",
       "      <td>PHX</td>\n",
       "      <td>5</td>\n",
       "      <td>0</td>\n",
       "    </tr>\n",
       "    <tr>\n",
       "      <th>OO</th>\n",
       "      <td>365.0</td>\n",
       "      <td>66.0</td>\n",
       "      <td>DSM</td>\n",
       "      <td>MKE</td>\n",
       "      <td>2</td>\n",
       "      <td>0</td>\n",
       "    </tr>\n",
       "    <tr>\n",
       "      <th>DL</th>\n",
       "      <td>740.0</td>\n",
       "      <td>257.0</td>\n",
       "      <td>SEA</td>\n",
       "      <td>CVG</td>\n",
       "      <td>7</td>\n",
       "      <td>0</td>\n",
       "    </tr>\n",
       "    <tr>\n",
       "      <th>WN</th>\n",
       "      <td>595.0</td>\n",
       "      <td>235.0</td>\n",
       "      <td>SNA</td>\n",
       "      <td>MDW</td>\n",
       "      <td>7</td>\n",
       "      <td>1</td>\n",
       "    </tr>\n",
       "    <tr>\n",
       "      <th>CO</th>\n",
       "      <td>530.0</td>\n",
       "      <td>133.0</td>\n",
       "      <td>IAH</td>\n",
       "      <td>MCO</td>\n",
       "      <td>6</td>\n",
       "      <td>1</td>\n",
       "    </tr>\n",
       "  </tbody>\n",
       "</table>\n",
       "</div>"
      ],
      "text/plain": [
       "          Time  Length AirportFrom AirportTo  DayOfWeek  Class\n",
       "Airline                                                       \n",
       "CO       870.0   180.0         IAH       PHX          5      0\n",
       "OO       365.0    66.0         DSM       MKE          2      0\n",
       "DL       740.0   257.0         SEA       CVG          7      0\n",
       "WN       595.0   235.0         SNA       MDW          7      1\n",
       "CO       530.0   133.0         IAH       MCO          6      1"
      ]
     },
     "execution_count": 21,
     "metadata": {},
     "output_type": "execute_result"
    }
   ],
   "source": [
    "df_index.head()"
   ]
  },
  {
   "attachments": {},
   "cell_type": "markdown",
   "id": "b4f816a3",
   "metadata": {
    "id": "b4f816a3"
   },
   "source": [
    "#### Data cleansing - Merapikan *Fields* dalam data"
   ]
  },
  {
   "attachments": {},
   "cell_type": "markdown",
   "id": "101733f8",
   "metadata": {
    "id": "101733f8"
   },
   "source": [
    "Pada dataset ini, kolom \"Time\" merupakan waktu keberangkatan dari sebuah maskapai. Kondisi nilai pada kolom tersebut adalah waktu yang dikonversi ke menit, untuk melihat jumlah delay terbanyak dari semua waktu keberangkatan, kita perlu mengonversi menit tersebut ke dalam jam dan menit"
   ]
  },
  {
   "cell_type": "code",
   "execution_count": 42,
   "id": "3214101d",
   "metadata": {
    "id": "3214101d"
   },
   "outputs": [],
   "source": [
    "# 13. Mengubah format kolom Time ke dalam Jam dan Menit\n",
    "Time = pd.to_datetime(df_index.Time, unit='m').dt.strftime('%H.%M')"
   ]
  },
  {
   "cell_type": "code",
   "execution_count": 43,
   "id": "1f2481bb",
   "metadata": {
    "id": "1f2481bb"
   },
   "outputs": [],
   "source": [
    "# 14. Membuat kolom baru dengan nama DepartTime dengan isi datanya berasal dari variabel Time\n",
    "df_index['DepartTime'] = Time"
   ]
  },
  {
   "cell_type": "code",
   "execution_count": 45,
   "id": "9ecfb970",
   "metadata": {
    "id": "9ecfb970"
   },
   "outputs": [
    {
     "data": {
      "text/html": [
       "<div>\n",
       "<style scoped>\n",
       "    .dataframe tbody tr th:only-of-type {\n",
       "        vertical-align: middle;\n",
       "    }\n",
       "\n",
       "    .dataframe tbody tr th {\n",
       "        vertical-align: top;\n",
       "    }\n",
       "\n",
       "    .dataframe thead th {\n",
       "        text-align: right;\n",
       "    }\n",
       "</style>\n",
       "<table border=\"1\" class=\"dataframe\">\n",
       "  <thead>\n",
       "    <tr style=\"text-align: right;\">\n",
       "      <th></th>\n",
       "      <th>Time</th>\n",
       "      <th>Length</th>\n",
       "      <th>AirportFrom</th>\n",
       "      <th>AirportTo</th>\n",
       "      <th>DayOfWeek</th>\n",
       "      <th>Class</th>\n",
       "      <th>DepartTime</th>\n",
       "    </tr>\n",
       "    <tr>\n",
       "      <th>Airline</th>\n",
       "      <th></th>\n",
       "      <th></th>\n",
       "      <th></th>\n",
       "      <th></th>\n",
       "      <th></th>\n",
       "      <th></th>\n",
       "      <th></th>\n",
       "    </tr>\n",
       "  </thead>\n",
       "  <tbody>\n",
       "    <tr>\n",
       "      <th>CO</th>\n",
       "      <td>870.0</td>\n",
       "      <td>180.0</td>\n",
       "      <td>IAH</td>\n",
       "      <td>PHX</td>\n",
       "      <td>5</td>\n",
       "      <td>0</td>\n",
       "      <td>14.30</td>\n",
       "    </tr>\n",
       "    <tr>\n",
       "      <th>OO</th>\n",
       "      <td>365.0</td>\n",
       "      <td>66.0</td>\n",
       "      <td>DSM</td>\n",
       "      <td>MKE</td>\n",
       "      <td>2</td>\n",
       "      <td>0</td>\n",
       "      <td>06.05</td>\n",
       "    </tr>\n",
       "    <tr>\n",
       "      <th>DL</th>\n",
       "      <td>740.0</td>\n",
       "      <td>257.0</td>\n",
       "      <td>SEA</td>\n",
       "      <td>CVG</td>\n",
       "      <td>7</td>\n",
       "      <td>0</td>\n",
       "      <td>12.20</td>\n",
       "    </tr>\n",
       "    <tr>\n",
       "      <th>WN</th>\n",
       "      <td>595.0</td>\n",
       "      <td>235.0</td>\n",
       "      <td>SNA</td>\n",
       "      <td>MDW</td>\n",
       "      <td>7</td>\n",
       "      <td>1</td>\n",
       "      <td>09.55</td>\n",
       "    </tr>\n",
       "    <tr>\n",
       "      <th>CO</th>\n",
       "      <td>530.0</td>\n",
       "      <td>133.0</td>\n",
       "      <td>IAH</td>\n",
       "      <td>MCO</td>\n",
       "      <td>6</td>\n",
       "      <td>1</td>\n",
       "      <td>08.50</td>\n",
       "    </tr>\n",
       "  </tbody>\n",
       "</table>\n",
       "</div>"
      ],
      "text/plain": [
       "          Time  Length AirportFrom AirportTo  DayOfWeek  Class DepartTime\n",
       "Airline                                                                  \n",
       "CO       870.0   180.0         IAH       PHX          5      0      14.30\n",
       "OO       365.0    66.0         DSM       MKE          2      0      06.05\n",
       "DL       740.0   257.0         SEA       CVG          7      0      12.20\n",
       "WN       595.0   235.0         SNA       MDW          7      1      09.55\n",
       "CO       530.0   133.0         IAH       MCO          6      1      08.50"
      ]
     },
     "execution_count": 45,
     "metadata": {},
     "output_type": "execute_result"
    }
   ],
   "source": [
    "df_index.head()"
   ]
  },
  {
   "cell_type": "code",
   "execution_count": 47,
   "id": "b4a1ea61",
   "metadata": {
    "id": "b4a1ea61"
   },
   "outputs": [
    {
     "data": {
      "text/plain": [
       "DepartTime\n",
       "00.15    1\n",
       "00.30    0\n",
       "00.35    1\n",
       "00.40    1\n",
       "00.49    0\n",
       "Name: Class, dtype: int64"
      ]
     },
     "execution_count": 47,
     "metadata": {},
     "output_type": "execute_result"
    }
   ],
   "source": [
    "# 15. Menghitung jumlah penerbangan dalam 24 jam\n",
    "Time_Flight_Count = df_index.groupby('DepartTime').sum(numeric_only=True)['Class'].sort_index()\n",
    "Time_Flight_Count.head()"
   ]
  },
  {
   "cell_type": "code",
   "execution_count": 51,
   "id": "fd311774",
   "metadata": {
    "id": "fd311774"
   },
   "outputs": [
    {
     "data": {
      "text/plain": [
       "DepartTime\n",
       "06.00    50\n",
       "19.00    38\n",
       "17.00    38\n",
       "07.00    37\n",
       "16.00    36\n",
       "12.00    36\n",
       "11.40    35\n",
       "20.00    34\n",
       "19.05    33\n",
       "14.45    33\n",
       "17.30    32\n",
       "10.00    32\n",
       "12.05    32\n",
       "11.55    31\n",
       "16.30    31\n",
       "18.15    30\n",
       "15.15    30\n",
       "11.45    30\n",
       "18.20    29\n",
       "12.30    29\n",
       "Name: Class, dtype: int64"
      ]
     },
     "execution_count": 51,
     "metadata": {},
     "output_type": "execute_result"
    }
   ],
   "source": [
    "# 16. Mengurutkan 20 data dari jumlah penerbangan terbanyak\n",
    "Time_Flight_Count.sort_values(ascending=False).head(20)"
   ]
  },
  {
   "attachments": {},
   "cell_type": "markdown",
   "id": "77895077",
   "metadata": {
    "id": "77895077"
   },
   "source": [
    "Dari kode di atas dapat diketahui bahwa waktu 06.00 merupakan waktu dengan jumlah terbanyak. Berikut kita akan lakukan visualisasi dengan line chart"
   ]
  },
  {
   "cell_type": "code",
   "execution_count": 52,
   "id": "0f5f7c02",
   "metadata": {
    "id": "0f5f7c02"
   },
   "outputs": [],
   "source": [
    "# 17. Mengimport library pyplot\n",
    "import matplotlib.pyplot as plt"
   ]
  },
  {
   "cell_type": "code",
   "execution_count": 55,
   "id": "ba6a76ce",
   "metadata": {
    "id": "ba6a76ce"
   },
   "outputs": [
    {
     "data": {
      "image/png": "[encoded data removed]",
      "text/plain": [
       "<Figure size 1080x720 with 1 Axes>"
      ]
     },
     "metadata": {
      "needs_background": "light"
     },
     "output_type": "display_data"
    }
   ],
   "source": [
    "# 18. Mengatur ukuran gambar\n",
    "plt.figure(figsize=(15, 10))\n",
    "\n",
    "# 19. Melakukan plot data\n",
    "Time_Flight_Count.plot()\n",
    "\n",
    "# 20. Mengatur label sumbu x\n",
    "ticks = range(0, len(Time_Flight_Count.index), 30)  # Menentukan posisi label setiap setengah jam\n",
    "labels = Time_Flight_Count.index[ticks]  # Mengambil label berdasarkan posisi\n",
    "plt.xticks(rotation=90) # Mengatur posisi rotasi label pada sumbu x\n",
    "plt.xticks(ticks, labels)  # Mengatur posisi dan label pada sumbu x\n",
    "\n",
    "# 21. Mengatur label sumbu x, y dan judul grafik\n",
    "plt.xlabel('label_x')\n",
    "plt.ylabel('label_y')\n",
    "plt.title('judul_grafik')\n",
    "\n",
    "\n",
    "# 22. Menampilkan grafik\n",
    "plt.show()\n"
   ]
  },
  {
   "attachments": {},
   "cell_type": "markdown",
   "id": "bdd3f88e",
   "metadata": {
    "id": "bdd3f88e"
   },
   "source": [
    "#### Data cleansing - Mengganti Nama Kolom"
   ]
  },
  {
   "cell_type": "code",
   "execution_count": 56,
   "id": "91b1c797",
   "metadata": {
    "id": "91b1c797"
   },
   "outputs": [],
   "source": [
    "# 23. Memuat Dataset\n",
    "df_rename_col = pd.read_csv('delay_maskapai_tm_2.csv')"
   ]
  },
  {
   "cell_type": "code",
   "execution_count": null,
   "id": "f8acdb5b",
   "metadata": {
    "id": "f8acdb5b"
   },
   "outputs": [],
   "source": [
    "# 24. Ubah Nama Kolom Flight -> ID Flight, Airline -> Maskapai, Class -> Kelas\n",
    "df_rename_col = df_rename_col.rename(columns=\n",
    "                            {\"Flight\":\"ID\"\n",
    "                             ,\"Airline\":\"Maskapai\"\n",
    "                             ,\"Class\":\"Kelas\"})"
   ]
  },
  {
   "cell_type": "code",
   "execution_count": null,
   "id": "bde4ce27",
   "metadata": {
    "id": "bde4ce27"
   },
   "outputs": [],
   "source": [
    "# 25. Menampilkan 10 data teratas\n",
    "df_rename_col.head(10)"
   ]
  }
 ],
 "metadata": {
  "colab": {
   "provenance": []
  },
  "kernelspec": {
   "display_name": "Python 3 (ipykernel)",
   "language": "python",
   "name": "python3"
  },
  "language_info": {
   "codemirror_mode": {
    "name": "ipython",
    "version": 3
   },
   "file_extension": ".py",
   "mimetype": "text/x-python",
   "name": "python",
   "nbconvert_exporter": "python",
   "pygments_lexer": "ipython3",
   "version": "3.8.10"
  }
 },
 "nbformat": 4,
 "nbformat_minor": 5
}
